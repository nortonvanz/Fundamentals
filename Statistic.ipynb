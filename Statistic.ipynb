{
  "cells": [
    {
      "cell_type": "markdown",
      "metadata": {
        "id": "view-in-github",
        "colab_type": "text"
      },
      "source": [
        "<a href=\"https://colab.research.google.com/github/nortonvanz/Fundamentals/blob/main/Statistic.ipynb\" target=\"_parent\"><img src=\"https://colab.research.google.com/assets/colab-badge.svg\" alt=\"Open In Colab\"/></a>"
      ]
    },
    {
      "cell_type": "markdown",
      "source": [
        "Livro Base: Estatística Prática para Cientistas de Dados - Peter Bruce & Andrew Bruce."
      ],
      "metadata": {
        "id": "L7Ff9naTVygL"
      }
    },
    {
      "cell_type": "markdown",
      "source": [
        "Manter atualizado no Github: https://github.com/nortonvanz/Fundamentals/blob/main/Statistic.ipynb"
      ],
      "metadata": {
        "id": "nCFkBOVhS4jp"
      }
    },
    {
      "cell_type": "markdown",
      "metadata": {
        "id": "KoOIHQzUnh0s"
      },
      "source": [
        "# Ciência de Dados"
      ]
    },
    {
      "cell_type": "markdown",
      "metadata": {
        "id": "LETuiozUnpLb"
      },
      "source": [
        "É transformar grandes quantidades de dados em informação, que ajude a tomar melhores decisões.\n",
        "\n",
        "Combinação de disciplinas: matemática, estatística, ciência da computação, conhecimento de negócio.\n",
        "\n",
        "Ex dia a dia: feed do instagram, previsão do tempo.."
      ]
    },
    {
      "cell_type": "markdown",
      "metadata": {
        "id": "1AJZQWhStLLI"
      },
      "source": [
        "## Dados"
      ]
    },
    {
      "cell_type": "markdown",
      "metadata": {
        "id": "kGopzpFntPkB"
      },
      "source": [
        "Dados não estruturados (sem padrão): emails, audios, imagems, vídeos, clisckstreams..\n",
        "\n",
        "Dados estruturados (estrutura padronizada): de bancos de dados, planilhas, sensores..\n",
        "\n",
        "Tipos:\n",
        "- Numéricos: Contínuos (float) ou Discretos (int)\n",
        "- Categóricos: categorias, binários, ordinais\n",
        "\n",
        "Variáveis preditoras (features) são usadas para prever uma variável dependente (target).\n",
        "\n",
        "Dados de series temporais registram medições sucessivas da mesma variável."
      ]
    },
    {
      "cell_type": "code",
      "source": [
        "#imports\n",
        "import pandas                      as pd\n",
        "import numpy                       as np\n",
        "from scipy.stats                   import iqr\n",
        "from matplotlib                    import pyplot as plt\n",
        "import seaborn                     as sns"
      ],
      "metadata": {
        "id": "nXttXL2OTcDi"
      },
      "execution_count": 1,
      "outputs": []
    },
    {
      "cell_type": "code",
      "execution_count": 11,
      "metadata": {
        "colab": {
          "base_uri": "https://localhost:8080/",
          "height": 245
        },
        "id": "XUeS_PsdvEaP",
        "outputId": "a5294619-6a9a-421b-bfa2-80c39f6d7359"
      },
      "outputs": [
        {
          "output_type": "stream",
          "name": "stdout",
          "text": [
            "(100, 20)\n"
          ]
        },
        {
          "output_type": "execute_result",
          "data": {
            "text/plain": [
              "              date     price  bedrooms  bathrooms  sqft_living  sqft_lot  \\\n",
              "0  20141013T000000 221900.00         3       1.00         1180      5650   \n",
              "1  20141209T000000 538000.00         3       2.25         2570      7242   \n",
              "2  20150225T000000 180000.00         2       1.00          770     10000   \n",
              "3  20141209T000000 604000.00         4       3.00         1960      5000   \n",
              "4  20150218T000000 510000.00         3       2.00         1680      8080   \n",
              "\n",
              "   floors  waterfront  view  condition  grade  sqft_above  sqft_basement  \\\n",
              "0    1.00           0     0          3      7        1180              0   \n",
              "1    2.00           0     0          3      7        2170            400   \n",
              "2    1.00           0     0          3      6         770              0   \n",
              "3    1.00           0     0          5      7        1050            910   \n",
              "4    1.00           0     0          3      8        1680              0   \n",
              "\n",
              "   yr_built  yr_renovated  zipcode   lat    long  sqft_living15  sqft_lot15  \n",
              "0      1955             0    98178 47.51 -122.26           1340        5650  \n",
              "1      1951          1991    98125 47.72 -122.32           1690        7639  \n",
              "2      1933             0    98028 47.74 -122.23           2720        8062  \n",
              "3      1965             0    98136 47.52 -122.39           1360        5000  \n",
              "4      1987             0    98074 47.62 -122.05           1800        7503  "
            ],
            "text/html": [
              "\n",
              "  <div id=\"df-82309f0a-8f71-4a61-86a1-171c0b548707\" class=\"colab-df-container\">\n",
              "    <div>\n",
              "<style scoped>\n",
              "    .dataframe tbody tr th:only-of-type {\n",
              "        vertical-align: middle;\n",
              "    }\n",
              "\n",
              "    .dataframe tbody tr th {\n",
              "        vertical-align: top;\n",
              "    }\n",
              "\n",
              "    .dataframe thead th {\n",
              "        text-align: right;\n",
              "    }\n",
              "</style>\n",
              "<table border=\"1\" class=\"dataframe\">\n",
              "  <thead>\n",
              "    <tr style=\"text-align: right;\">\n",
              "      <th></th>\n",
              "      <th>date</th>\n",
              "      <th>price</th>\n",
              "      <th>bedrooms</th>\n",
              "      <th>bathrooms</th>\n",
              "      <th>sqft_living</th>\n",
              "      <th>sqft_lot</th>\n",
              "      <th>floors</th>\n",
              "      <th>waterfront</th>\n",
              "      <th>view</th>\n",
              "      <th>condition</th>\n",
              "      <th>grade</th>\n",
              "      <th>sqft_above</th>\n",
              "      <th>sqft_basement</th>\n",
              "      <th>yr_built</th>\n",
              "      <th>yr_renovated</th>\n",
              "      <th>zipcode</th>\n",
              "      <th>lat</th>\n",
              "      <th>long</th>\n",
              "      <th>sqft_living15</th>\n",
              "      <th>sqft_lot15</th>\n",
              "    </tr>\n",
              "  </thead>\n",
              "  <tbody>\n",
              "    <tr>\n",
              "      <th>0</th>\n",
              "      <td>20141013T000000</td>\n",
              "      <td>221900.00</td>\n",
              "      <td>3</td>\n",
              "      <td>1.00</td>\n",
              "      <td>1180</td>\n",
              "      <td>5650</td>\n",
              "      <td>1.00</td>\n",
              "      <td>0</td>\n",
              "      <td>0</td>\n",
              "      <td>3</td>\n",
              "      <td>7</td>\n",
              "      <td>1180</td>\n",
              "      <td>0</td>\n",
              "      <td>1955</td>\n",
              "      <td>0</td>\n",
              "      <td>98178</td>\n",
              "      <td>47.51</td>\n",
              "      <td>-122.26</td>\n",
              "      <td>1340</td>\n",
              "      <td>5650</td>\n",
              "    </tr>\n",
              "    <tr>\n",
              "      <th>1</th>\n",
              "      <td>20141209T000000</td>\n",
              "      <td>538000.00</td>\n",
              "      <td>3</td>\n",
              "      <td>2.25</td>\n",
              "      <td>2570</td>\n",
              "      <td>7242</td>\n",
              "      <td>2.00</td>\n",
              "      <td>0</td>\n",
              "      <td>0</td>\n",
              "      <td>3</td>\n",
              "      <td>7</td>\n",
              "      <td>2170</td>\n",
              "      <td>400</td>\n",
              "      <td>1951</td>\n",
              "      <td>1991</td>\n",
              "      <td>98125</td>\n",
              "      <td>47.72</td>\n",
              "      <td>-122.32</td>\n",
              "      <td>1690</td>\n",
              "      <td>7639</td>\n",
              "    </tr>\n",
              "    <tr>\n",
              "      <th>2</th>\n",
              "      <td>20150225T000000</td>\n",
              "      <td>180000.00</td>\n",
              "      <td>2</td>\n",
              "      <td>1.00</td>\n",
              "      <td>770</td>\n",
              "      <td>10000</td>\n",
              "      <td>1.00</td>\n",
              "      <td>0</td>\n",
              "      <td>0</td>\n",
              "      <td>3</td>\n",
              "      <td>6</td>\n",
              "      <td>770</td>\n",
              "      <td>0</td>\n",
              "      <td>1933</td>\n",
              "      <td>0</td>\n",
              "      <td>98028</td>\n",
              "      <td>47.74</td>\n",
              "      <td>-122.23</td>\n",
              "      <td>2720</td>\n",
              "      <td>8062</td>\n",
              "    </tr>\n",
              "    <tr>\n",
              "      <th>3</th>\n",
              "      <td>20141209T000000</td>\n",
              "      <td>604000.00</td>\n",
              "      <td>4</td>\n",
              "      <td>3.00</td>\n",
              "      <td>1960</td>\n",
              "      <td>5000</td>\n",
              "      <td>1.00</td>\n",
              "      <td>0</td>\n",
              "      <td>0</td>\n",
              "      <td>5</td>\n",
              "      <td>7</td>\n",
              "      <td>1050</td>\n",
              "      <td>910</td>\n",
              "      <td>1965</td>\n",
              "      <td>0</td>\n",
              "      <td>98136</td>\n",
              "      <td>47.52</td>\n",
              "      <td>-122.39</td>\n",
              "      <td>1360</td>\n",
              "      <td>5000</td>\n",
              "    </tr>\n",
              "    <tr>\n",
              "      <th>4</th>\n",
              "      <td>20150218T000000</td>\n",
              "      <td>510000.00</td>\n",
              "      <td>3</td>\n",
              "      <td>2.00</td>\n",
              "      <td>1680</td>\n",
              "      <td>8080</td>\n",
              "      <td>1.00</td>\n",
              "      <td>0</td>\n",
              "      <td>0</td>\n",
              "      <td>3</td>\n",
              "      <td>8</td>\n",
              "      <td>1680</td>\n",
              "      <td>0</td>\n",
              "      <td>1987</td>\n",
              "      <td>0</td>\n",
              "      <td>98074</td>\n",
              "      <td>47.62</td>\n",
              "      <td>-122.05</td>\n",
              "      <td>1800</td>\n",
              "      <td>7503</td>\n",
              "    </tr>\n",
              "  </tbody>\n",
              "</table>\n",
              "</div>\n",
              "    <div class=\"colab-df-buttons\">\n",
              "\n",
              "  <div class=\"colab-df-container\">\n",
              "    <button class=\"colab-df-convert\" onclick=\"convertToInteractive('df-82309f0a-8f71-4a61-86a1-171c0b548707')\"\n",
              "            title=\"Convert this dataframe to an interactive table.\"\n",
              "            style=\"display:none;\">\n",
              "\n",
              "  <svg xmlns=\"http://www.w3.org/2000/svg\" height=\"24px\" viewBox=\"0 -960 960 960\">\n",
              "    <path d=\"M120-120v-720h720v720H120Zm60-500h600v-160H180v160Zm220 220h160v-160H400v160Zm0 220h160v-160H400v160ZM180-400h160v-160H180v160Zm440 0h160v-160H620v160ZM180-180h160v-160H180v160Zm440 0h160v-160H620v160Z\"/>\n",
              "  </svg>\n",
              "    </button>\n",
              "\n",
              "  <style>\n",
              "    .colab-df-container {\n",
              "      display:flex;\n",
              "      gap: 12px;\n",
              "    }\n",
              "\n",
              "    .colab-df-convert {\n",
              "      background-color: #E8F0FE;\n",
              "      border: none;\n",
              "      border-radius: 50%;\n",
              "      cursor: pointer;\n",
              "      display: none;\n",
              "      fill: #1967D2;\n",
              "      height: 32px;\n",
              "      padding: 0 0 0 0;\n",
              "      width: 32px;\n",
              "    }\n",
              "\n",
              "    .colab-df-convert:hover {\n",
              "      background-color: #E2EBFA;\n",
              "      box-shadow: 0px 1px 2px rgba(60, 64, 67, 0.3), 0px 1px 3px 1px rgba(60, 64, 67, 0.15);\n",
              "      fill: #174EA6;\n",
              "    }\n",
              "\n",
              "    .colab-df-buttons div {\n",
              "      margin-bottom: 4px;\n",
              "    }\n",
              "\n",
              "    [theme=dark] .colab-df-convert {\n",
              "      background-color: #3B4455;\n",
              "      fill: #D2E3FC;\n",
              "    }\n",
              "\n",
              "    [theme=dark] .colab-df-convert:hover {\n",
              "      background-color: #434B5C;\n",
              "      box-shadow: 0px 1px 3px 1px rgba(0, 0, 0, 0.15);\n",
              "      filter: drop-shadow(0px 1px 2px rgba(0, 0, 0, 0.3));\n",
              "      fill: #FFFFFF;\n",
              "    }\n",
              "  </style>\n",
              "\n",
              "    <script>\n",
              "      const buttonEl =\n",
              "        document.querySelector('#df-82309f0a-8f71-4a61-86a1-171c0b548707 button.colab-df-convert');\n",
              "      buttonEl.style.display =\n",
              "        google.colab.kernel.accessAllowed ? 'block' : 'none';\n",
              "\n",
              "      async function convertToInteractive(key) {\n",
              "        const element = document.querySelector('#df-82309f0a-8f71-4a61-86a1-171c0b548707');\n",
              "        const dataTable =\n",
              "          await google.colab.kernel.invokeFunction('convertToInteractive',\n",
              "                                                    [key], {});\n",
              "        if (!dataTable) return;\n",
              "\n",
              "        const docLinkHtml = 'Like what you see? Visit the ' +\n",
              "          '<a target=\"_blank\" href=https://colab.research.google.com/notebooks/data_table.ipynb>data table notebook</a>'\n",
              "          + ' to learn more about interactive tables.';\n",
              "        element.innerHTML = '';\n",
              "        dataTable['output_type'] = 'display_data';\n",
              "        await google.colab.output.renderOutput(dataTable, element);\n",
              "        const docLink = document.createElement('div');\n",
              "        docLink.innerHTML = docLinkHtml;\n",
              "        element.appendChild(docLink);\n",
              "      }\n",
              "    </script>\n",
              "  </div>\n",
              "\n",
              "\n",
              "<div id=\"df-ff2e1da6-4298-461a-a09b-6349c435ca3b\">\n",
              "  <button class=\"colab-df-quickchart\" onclick=\"quickchart('df-ff2e1da6-4298-461a-a09b-6349c435ca3b')\"\n",
              "            title=\"Suggest charts\"\n",
              "            style=\"display:none;\">\n",
              "\n",
              "<svg xmlns=\"http://www.w3.org/2000/svg\" height=\"24px\"viewBox=\"0 0 24 24\"\n",
              "     width=\"24px\">\n",
              "    <g>\n",
              "        <path d=\"M19 3H5c-1.1 0-2 .9-2 2v14c0 1.1.9 2 2 2h14c1.1 0 2-.9 2-2V5c0-1.1-.9-2-2-2zM9 17H7v-7h2v7zm4 0h-2V7h2v10zm4 0h-2v-4h2v4z\"/>\n",
              "    </g>\n",
              "</svg>\n",
              "  </button>\n",
              "\n",
              "<style>\n",
              "  .colab-df-quickchart {\n",
              "      --bg-color: #E8F0FE;\n",
              "      --fill-color: #1967D2;\n",
              "      --hover-bg-color: #E2EBFA;\n",
              "      --hover-fill-color: #174EA6;\n",
              "      --disabled-fill-color: #AAA;\n",
              "      --disabled-bg-color: #DDD;\n",
              "  }\n",
              "\n",
              "  [theme=dark] .colab-df-quickchart {\n",
              "      --bg-color: #3B4455;\n",
              "      --fill-color: #D2E3FC;\n",
              "      --hover-bg-color: #434B5C;\n",
              "      --hover-fill-color: #FFFFFF;\n",
              "      --disabled-bg-color: #3B4455;\n",
              "      --disabled-fill-color: #666;\n",
              "  }\n",
              "\n",
              "  .colab-df-quickchart {\n",
              "    background-color: var(--bg-color);\n",
              "    border: none;\n",
              "    border-radius: 50%;\n",
              "    cursor: pointer;\n",
              "    display: none;\n",
              "    fill: var(--fill-color);\n",
              "    height: 32px;\n",
              "    padding: 0;\n",
              "    width: 32px;\n",
              "  }\n",
              "\n",
              "  .colab-df-quickchart:hover {\n",
              "    background-color: var(--hover-bg-color);\n",
              "    box-shadow: 0 1px 2px rgba(60, 64, 67, 0.3), 0 1px 3px 1px rgba(60, 64, 67, 0.15);\n",
              "    fill: var(--button-hover-fill-color);\n",
              "  }\n",
              "\n",
              "  .colab-df-quickchart-complete:disabled,\n",
              "  .colab-df-quickchart-complete:disabled:hover {\n",
              "    background-color: var(--disabled-bg-color);\n",
              "    fill: var(--disabled-fill-color);\n",
              "    box-shadow: none;\n",
              "  }\n",
              "\n",
              "  .colab-df-spinner {\n",
              "    border: 2px solid var(--fill-color);\n",
              "    border-color: transparent;\n",
              "    border-bottom-color: var(--fill-color);\n",
              "    animation:\n",
              "      spin 1s steps(1) infinite;\n",
              "  }\n",
              "\n",
              "  @keyframes spin {\n",
              "    0% {\n",
              "      border-color: transparent;\n",
              "      border-bottom-color: var(--fill-color);\n",
              "      border-left-color: var(--fill-color);\n",
              "    }\n",
              "    20% {\n",
              "      border-color: transparent;\n",
              "      border-left-color: var(--fill-color);\n",
              "      border-top-color: var(--fill-color);\n",
              "    }\n",
              "    30% {\n",
              "      border-color: transparent;\n",
              "      border-left-color: var(--fill-color);\n",
              "      border-top-color: var(--fill-color);\n",
              "      border-right-color: var(--fill-color);\n",
              "    }\n",
              "    40% {\n",
              "      border-color: transparent;\n",
              "      border-right-color: var(--fill-color);\n",
              "      border-top-color: var(--fill-color);\n",
              "    }\n",
              "    60% {\n",
              "      border-color: transparent;\n",
              "      border-right-color: var(--fill-color);\n",
              "    }\n",
              "    80% {\n",
              "      border-color: transparent;\n",
              "      border-right-color: var(--fill-color);\n",
              "      border-bottom-color: var(--fill-color);\n",
              "    }\n",
              "    90% {\n",
              "      border-color: transparent;\n",
              "      border-bottom-color: var(--fill-color);\n",
              "    }\n",
              "  }\n",
              "</style>\n",
              "\n",
              "  <script>\n",
              "    async function quickchart(key) {\n",
              "      const quickchartButtonEl =\n",
              "        document.querySelector('#' + key + ' button');\n",
              "      quickchartButtonEl.disabled = true;  // To prevent multiple clicks.\n",
              "      quickchartButtonEl.classList.add('colab-df-spinner');\n",
              "      try {\n",
              "        const charts = await google.colab.kernel.invokeFunction(\n",
              "            'suggestCharts', [key], {});\n",
              "      } catch (error) {\n",
              "        console.error('Error during call to suggestCharts:', error);\n",
              "      }\n",
              "      quickchartButtonEl.classList.remove('colab-df-spinner');\n",
              "      quickchartButtonEl.classList.add('colab-df-quickchart-complete');\n",
              "    }\n",
              "    (() => {\n",
              "      let quickchartButtonEl =\n",
              "        document.querySelector('#df-ff2e1da6-4298-461a-a09b-6349c435ca3b button');\n",
              "      quickchartButtonEl.style.display =\n",
              "        google.colab.kernel.accessAllowed ? 'block' : 'none';\n",
              "    })();\n",
              "  </script>\n",
              "</div>\n",
              "\n",
              "    </div>\n",
              "  </div>\n"
            ],
            "application/vnd.google.colaboratory.intrinsic+json": {
              "type": "dataframe",
              "variable_name": "df",
              "summary": "{\n  \"name\": \"df\",\n  \"rows\": 100,\n  \"fields\": [\n    {\n      \"column\": \"date\",\n      \"properties\": {\n        \"dtype\": \"object\",\n        \"num_unique_values\": 86,\n        \"samples\": [\n          \"20141114T000000\",\n          \"20141013T000000\",\n          \"20150323T000000\"\n        ],\n        \"semantic_type\": \"\",\n        \"description\": \"\"\n      }\n    },\n    {\n      \"column\": \"price\",\n      \"properties\": {\n        \"dtype\": \"number\",\n        \"std\": 304501.6920750907,\n        \"min\": 153000.0,\n        \"max\": 2000000.0,\n        \"num_unique_values\": 97,\n        \"samples\": [\n          549000.0,\n          625000.0,\n          247500.0\n        ],\n        \"semantic_type\": \"\",\n        \"description\": \"\"\n      }\n    },\n    {\n      \"column\": \"bedrooms\",\n      \"properties\": {\n        \"dtype\": \"number\",\n        \"std\": 0,\n        \"min\": 2,\n        \"max\": 5,\n        \"num_unique_values\": 4,\n        \"samples\": [\n          2,\n          5,\n          3\n        ],\n        \"semantic_type\": \"\",\n        \"description\": \"\"\n      }\n    },\n    {\n      \"column\": \"bathrooms\",\n      \"properties\": {\n        \"dtype\": \"number\",\n        \"std\": 0.7273342776984677,\n        \"min\": 1.0,\n        \"max\": 4.5,\n        \"num_unique_values\": 11,\n        \"samples\": [\n          1.5,\n          1.0,\n          3.25\n        ],\n        \"semantic_type\": \"\",\n        \"description\": \"\"\n      }\n    },\n    {\n      \"column\": \"sqft_living\",\n      \"properties\": {\n        \"dtype\": \"number\",\n        \"std\": 860,\n        \"min\": 770,\n        \"max\": 5420,\n        \"num_unique_values\": 82,\n        \"samples\": [\n          1090,\n          1180,\n          1070\n        ],\n        \"semantic_type\": \"\",\n        \"description\": \"\"\n      }\n    },\n    {\n      \"column\": \"sqft_lot\",\n      \"properties\": {\n        \"dtype\": \"number\",\n        \"std\": 14800,\n        \"min\": 1044,\n        \"max\": 101930,\n        \"num_unique_values\": 89,\n        \"samples\": [\n          13416,\n          14342,\n          1265\n        ],\n        \"semantic_type\": \"\",\n        \"description\": \"\"\n      }\n    },\n    {\n      \"column\": \"floors\",\n      \"properties\": {\n        \"dtype\": \"number\",\n        \"std\": 0.5115830056962132,\n        \"min\": 1.0,\n        \"max\": 3.0,\n        \"num_unique_values\": 4,\n        \"samples\": [\n          2.0,\n          3.0,\n          1.0\n        ],\n        \"semantic_type\": \"\",\n        \"description\": \"\"\n      }\n    },\n    {\n      \"column\": \"waterfront\",\n      \"properties\": {\n        \"dtype\": \"number\",\n        \"std\": 0,\n        \"min\": 0,\n        \"max\": 1,\n        \"num_unique_values\": 2,\n        \"samples\": [\n          1,\n          0\n        ],\n        \"semantic_type\": \"\",\n        \"description\": \"\"\n      }\n    },\n    {\n      \"column\": \"view\",\n      \"properties\": {\n        \"dtype\": \"number\",\n        \"std\": 0,\n        \"min\": 0,\n        \"max\": 4,\n        \"num_unique_values\": 4,\n        \"samples\": [\n          3,\n          2\n        ],\n        \"semantic_type\": \"\",\n        \"description\": \"\"\n      }\n    },\n    {\n      \"column\": \"condition\",\n      \"properties\": {\n        \"dtype\": \"number\",\n        \"std\": 0,\n        \"min\": 1,\n        \"max\": 5,\n        \"num_unique_values\": 5,\n        \"samples\": [\n          5,\n          2\n        ],\n        \"semantic_type\": \"\",\n        \"description\": \"\"\n      }\n    },\n    {\n      \"column\": \"grade\",\n      \"properties\": {\n        \"dtype\": \"number\",\n        \"std\": 1,\n        \"min\": 5,\n        \"max\": 11,\n        \"num_unique_values\": 7,\n        \"samples\": [\n          7,\n          6\n        ],\n        \"semantic_type\": \"\",\n        \"description\": \"\"\n      }\n    },\n    {\n      \"column\": \"sqft_above\",\n      \"properties\": {\n        \"dtype\": \"number\",\n        \"std\": 724,\n        \"min\": 765,\n        \"max\": 3890,\n        \"num_unique_values\": 79,\n        \"samples\": [\n          1090,\n          1180\n        ],\n        \"semantic_type\": \"\",\n        \"description\": \"\"\n      }\n    },\n    {\n      \"column\": \"sqft_basement\",\n      \"properties\": {\n        \"dtype\": \"number\",\n        \"std\": 470,\n        \"min\": 0,\n        \"max\": 1700,\n        \"num_unique_values\": 33,\n        \"samples\": [\n          265,\n          1620\n        ],\n        \"semantic_type\": \"\",\n        \"description\": \"\"\n      }\n    },\n    {\n      \"column\": \"yr_built\",\n      \"properties\": {\n        \"dtype\": \"number\",\n        \"std\": 28,\n        \"min\": 1900,\n        \"max\": 2014,\n        \"num_unique_values\": 62,\n        \"samples\": [\n          1992,\n          1962\n        ],\n        \"semantic_type\": \"\",\n        \"description\": \"\"\n      }\n    },\n    {\n      \"column\": \"yr_renovated\",\n      \"properties\": {\n        \"dtype\": \"number\",\n        \"std\": 341,\n        \"min\": 0,\n        \"max\": 2002,\n        \"num_unique_values\": 3,\n        \"samples\": [\n          0,\n          1991\n        ],\n        \"semantic_type\": \"\",\n        \"description\": \"\"\n      }\n    },\n    {\n      \"column\": \"zipcode\",\n      \"properties\": {\n        \"dtype\": \"number\",\n        \"std\": 52,\n        \"min\": 98001,\n        \"max\": 98199,\n        \"num_unique_values\": 49,\n        \"samples\": [\n          98126,\n          98118\n        ],\n        \"semantic_type\": \"\",\n        \"description\": \"\"\n      }\n    },\n    {\n      \"column\": \"lat\",\n      \"properties\": {\n        \"dtype\": \"number\",\n        \"std\": 0.14377867215152768,\n        \"min\": 47.2897,\n        \"max\": 47.7558,\n        \"num_unique_values\": 97,\n        \"samples\": [\n          47.6765,\n          47.6145\n        ],\n        \"semantic_type\": \"\",\n        \"description\": \"\"\n      }\n    },\n    {\n      \"column\": \"long\",\n      \"properties\": {\n        \"dtype\": \"number\",\n        \"std\": 0.1369255976540881,\n        \"min\": -122.451,\n        \"max\": -121.714,\n        \"num_unique_values\": 88,\n        \"samples\": [\n          -122.199,\n          -122.257\n        ],\n        \"semantic_type\": \"\",\n        \"description\": \"\"\n      }\n    },\n    {\n      \"column\": \"sqft_living15\",\n      \"properties\": {\n        \"dtype\": \"number\",\n        \"std\": 710,\n        \"min\": 890,\n        \"max\": 4760,\n        \"num_unique_values\": 84,\n        \"samples\": [\n          2350,\n          1340\n        ],\n        \"semantic_type\": \"\",\n        \"description\": \"\"\n      }\n    },\n    {\n      \"column\": \"sqft_lot15\",\n      \"properties\": {\n        \"dtype\": \"number\",\n        \"std\": 18670,\n        \"min\": 1106,\n        \"max\": 135036,\n        \"num_unique_values\": 92,\n        \"samples\": [\n          30617,\n          7005\n        ],\n        \"semantic_type\": \"\",\n        \"description\": \"\"\n      }\n    }\n  ]\n}"
            }
          },
          "metadata": {},
          "execution_count": 11
        }
      ],
      "source": [
        "#Dataset para exemplificar os conceitos:\n",
        "pd.options.display.float_format = '{:.2f}'.format\n",
        "url = \"https://raw.githubusercontent.com/nortonvanz/House-Rocket-Real-State-EDA/main/src/kc_house_data.csv\" #previsão de preço de imóveis em King County #https://www.kaggle.com/datasets/harlfoxem/housesalesprediction\n",
        "df = pd.read_csv(url, low_memory=False, nrows=100).drop('id', axis=1)\n",
        "print(df.shape)\n",
        "df.head()"
      ]
    },
    {
      "cell_type": "markdown",
      "metadata": {
        "id": "lDQ5MPX7JmBU"
      },
      "source": [
        "# Estatística"
      ]
    },
    {
      "cell_type": "markdown",
      "metadata": {
        "id": "ejY4nJLSu5Z7"
      },
      "source": [
        "A estatística é a ciência que se dedica a coletar, organizar e interpretar dados.\n",
        "\n",
        "A estatística nos ajuda a entender os dados e tomar decisões com base em dados.\n",
        "\n",
        "\n",
        "Estatísticos estimam, cientistas de dados medem:\n",
        "- O estatístico foca na foca na contabilização da incerteza, chama por ex \"Estimativas de Localização\".\n",
        "- O DS foca nos objetivos concretos corporativos, já chama de \"Métricas de Localização\".  \n",
        "\n",
        "Principais áreas:\n",
        " - 1 Estatística descritiva: técnicas para descrever e resumir dados.\n",
        " - 2 Estatística inferencial: tirar conclusões sobre grandes populações a partir de uma amostra."
      ]
    },
    {
      "cell_type": "markdown",
      "metadata": {
        "id": "uwYr63OHuVzZ"
      },
      "source": [
        "## 1 Estatística Descritiva\n"
      ]
    },
    {
      "cell_type": "markdown",
      "metadata": {
        "id": "GIc9n2Y8JuuS"
      },
      "source": [
        "É usada na EDA do projeto.\n",
        "\n",
        "- Análise Univariada: analisa 1 var. Ex: mean, std.\n",
        "- Análise Bivariada: analisa 2 vars. Ex: correlação, gráfico dispersão.\n",
        "- Análise Multivariada: analisa 3 ou + vars. Ex:\n",
        "\n",
        "Analisar dados é:\n",
        "\n",
        "- Identificar comportamentos médios (o padrão). Ex: Quantas venda, em média, são feitas por mes?\n",
        "- Identificar comportamentos discrepantes (outliers). Ex: em um mês do ano, as vendas são 2x maiores.\n",
        "- Fazer comparações. Ex: nos últimos anos, a idade do cliente vem aumentando, em média.\n",
        "\n",
        "[Datalab.net/statistics](https://datatab.net/statistics-calculator/descriptive-statistics)"
      ]
    },
    {
      "cell_type": "markdown",
      "metadata": {
        "id": "bGw08A3-h17Q"
      },
      "source": [
        "### 1.1 - Métricas de Localização (Tendência Central):\n",
        "Resumem os dados em um único número onde os dados estão localizados.\n",
        "\n"
      ]
    },
    {
      "cell_type": "markdown",
      "source": [
        "#### Média"
      ],
      "metadata": {
        "id": "j9uEESxiWWOa"
      }
    },
    {
      "cell_type": "markdown",
      "metadata": {
        "id": "77hbiSlMwKVF"
      },
      "source": [
        "\n",
        "Média: ponto central dos dados. Na estatística, é o \"valor esperado\", desde que todos os pontos tenham a mesma chance de acontecer.\n",
        "- Se jogar 1k vezes um dados de 6 lados não viciado, o valor esperado é 3,5 (1+2+3+4+5+6 = 21, logo 21/6).\n",
        "- Usada para dados mais homogêneos, pois é muito afetada por outliers.\n",
        "  - Ex: Qual o patrimônio médio dos moradores de Seattle, onde Bill Gates mora, que tem 100B+ em patrimônio? A média aqui não resume bem a realidade, pois os 100 bilhões do Gates vão jogar a média pra cima!"
      ]
    },
    {
      "cell_type": "code",
      "execution_count": 12,
      "metadata": {
        "colab": {
          "base_uri": "https://localhost:8080/"
        },
        "id": "4k4dny-IwK6R",
        "outputId": "783bd9e2-b280-4883-f809-6748bb4b27c9"
      },
      "outputs": [
        {
          "output_type": "execute_result",
          "data": {
            "text/plain": [
              "0    221900.00\n",
              "1    538000.00\n",
              "2    180000.00\n",
              "3    604000.00\n",
              "4    510000.00\n",
              "5   1225000.00\n",
              "6    257500.00\n",
              "7    291850.00\n",
              "8    229500.00\n",
              "9    323000.00\n",
              "Name: price, dtype: float64"
            ]
          },
          "metadata": {},
          "execution_count": 12
        }
      ],
      "source": [
        "#Qual o valor esperado para uma casa?\n",
        "#10 preços:\n",
        "df.price[:10]"
      ]
    },
    {
      "cell_type": "code",
      "execution_count": 13,
      "metadata": {
        "colab": {
          "base_uri": "https://localhost:8080/"
        },
        "id": "-NNoX25fjYrD",
        "outputId": "961511c0-7625-4d8e-d55f-86c08f3c0907"
      },
      "outputs": [
        {
          "output_type": "execute_result",
          "data": {
            "text/plain": [
              "519149.35"
            ]
          },
          "metadata": {},
          "execution_count": 13
        }
      ],
      "source": [
        "#média:\n",
        "df.price.mean()\n",
        "#Algumas casas como a de $1.225.000 puxam a média pra cima. A mediana aqui dá uma ideia melhor de centralidade."
      ]
    },
    {
      "cell_type": "markdown",
      "source": [
        "#### Mediana"
      ],
      "metadata": {
        "id": "uyxM1qoPWda2"
      }
    },
    {
      "cell_type": "markdown",
      "metadata": {
        "id": "lW7bEmsvwhYA"
      },
      "source": [
        "Mediana: ponto central de uma lista ordenada. É o valor que separa a metade maior da metade menor de uma amostra.\n",
        "- Se número total par, é a média dos 2 números que separam as metades.\n",
        "- Usada para dados com muita variância, pois não é afetada por outliers (é robusta contra).\n",
        "  - Outlier: valor muito distante de outros. Nem sempre é incorreto.  \n",
        "- É o 2° quartil, ou 50° percentil."
      ]
    },
    {
      "cell_type": "code",
      "execution_count": 14,
      "metadata": {
        "colab": {
          "base_uri": "https://localhost:8080/"
        },
        "id": "ijISGxeXwifK",
        "outputId": "c6cf29e3-9c82-4a0b-b9c7-6182ceed5da9"
      },
      "outputs": [
        {
          "output_type": "execute_result",
          "data": {
            "text/plain": [
              "433750.0"
            ]
          },
          "metadata": {},
          "execution_count": 14
        }
      ],
      "source": [
        "#Qual o valor esperado para uma casa?\n",
        "#mediana:\n",
        "df.price.median()\n",
        "#Robusta contra os preços outliers, dá uma boa ideia de um valor esperado de uma casa, sendo robusto contra os outliers."
      ]
    },
    {
      "cell_type": "markdown",
      "source": [
        "#### Moda"
      ],
      "metadata": {
        "id": "7jEPYS5iWgg_"
      }
    },
    {
      "cell_type": "markdown",
      "metadata": {
        "id": "k6ai5CdYh6QW"
      },
      "source": [
        "Moda: é o valor que mais se repete.\n",
        "- Usada para saber o valor numérico ou categórico que mais se repete. Ou valores, em caso de empate.\n",
        "- Ex: qual o modelo de carro mais comum? Qual a nota do produto mais comum?"
      ]
    },
    {
      "cell_type": "code",
      "execution_count": 15,
      "metadata": {
        "colab": {
          "base_uri": "https://localhost:8080/"
        },
        "id": "KjB0jTbnw3xM",
        "outputId": "aca53b59-a160-44b7-f5fb-5494ec1931f7"
      },
      "outputs": [
        {
          "output_type": "execute_result",
          "data": {
            "text/plain": [
              "0    3\n",
              "Name: bedrooms, dtype: int64"
            ]
          },
          "metadata": {},
          "execution_count": 15
        }
      ],
      "source": [
        "#A maioria das casas tem quantos quartos?\n",
        "df.bedrooms.mode()"
      ]
    },
    {
      "cell_type": "markdown",
      "metadata": {
        "id": "uwGuv9kRh8Uc"
      },
      "source": [
        "### 1.2 - Medidas de Variabilidade (Dispersão)\n",
        "\n",
        "Resumem os dados em um único número, que informa o quão espalhados estão, em torno de uma\n",
        "medida de tendência central (var e std em torno da média).\n",
        "\n",
        "A principal é o std. Var e std são sensíveis aos outliers (pois são baseados em desvios quadráticos). Percentis são robustos.\n"
      ]
    },
    {
      "cell_type": "markdown",
      "source": [
        "#### Variância"
      ],
      "metadata": {
        "id": "K-enUOICWnEw"
      }
    },
    {
      "cell_type": "markdown",
      "metadata": {
        "id": "Nd7rcKQDDL6a"
      },
      "source": [
        "Variância: Indica a dispersão dos dados em torno da média. [menos usada pq muda a escala]\n",
        " - Se os valores estiverem muito espalhados, a variância será grande.\n",
        " - Ela muda a escala dos dados (eleva ao quadrado, pra não subtrair os negativos). Então se é idade, vira idade ao quadrado."
      ]
    },
    {
      "cell_type": "code",
      "execution_count": 16,
      "metadata": {
        "colab": {
          "base_uri": "https://localhost:8080/"
        },
        "id": "GxrH0HNkD5NM",
        "outputId": "8ae902ab-bd8c-4c64-b4ed-85a03de14151"
      },
      "outputs": [
        {
          "output_type": "execute_result",
          "data": {
            "text/plain": [
              "0    221900.00\n",
              "1    538000.00\n",
              "2    180000.00\n",
              "3    604000.00\n",
              "4    510000.00\n",
              "5   1225000.00\n",
              "6    257500.00\n",
              "7    291850.00\n",
              "8    229500.00\n",
              "9    323000.00\n",
              "Name: price, dtype: float64"
            ]
          },
          "metadata": {},
          "execution_count": 16
        }
      ],
      "source": [
        "#preços das casas\n",
        "df.price[:10]"
      ]
    },
    {
      "cell_type": "code",
      "execution_count": 17,
      "metadata": {
        "colab": {
          "base_uri": "https://localhost:8080/"
        },
        "id": "mH8aO9uQDPVk",
        "outputId": "4eff0414-326b-4d88-9ff5-669744e0f946"
      },
      "outputs": [
        {
          "output_type": "execute_result",
          "data": {
            "text/plain": [
              "92721280476.59337"
            ]
          },
          "metadata": {},
          "execution_count": 17
        }
      ],
      "source": [
        "#Variância:\n",
        "df.price.var()\n",
        "#a var não diz muito, pois está sempre ao quadrado, então estamos vendo em preço ao quadrado"
      ]
    },
    {
      "cell_type": "markdown",
      "metadata": {
        "id": "MV0QGo3HojGj"
      },
      "source": [
        "Parênteses:\n",
        "\n",
        "Coeficiente de Variação: usado para comparar a variabilidade de duas ou mais vars com escalas ou unidades de medida diferentes.\n",
        "                             \n",
        "  - Ex: escolher 1 ação entre a X e a Y, considerando o nível de volatilidade de seus retornos.\n",
        "    - X, tem média de retorno de 8% a.a, e std de 3%.  CV=37%\n",
        "    - Y, tem média de retorno de 10% a.a e std de 12%. CV=120%\n",
        "    - Usando o CV, posso comparar a dispersão relativa dos retornos em relação às médias. Conclui-se que Y, é muito mais volátil, logo mais arriscado que X.\n",
        "\n",
        "- Cálculo: o quanto o std representa da média. Cálculo: (std / media) * 100."
      ]
    },
    {
      "cell_type": "markdown",
      "source": [
        "#### Desvio Padrão"
      ],
      "metadata": {
        "id": "WsT6gRodWtaw"
      }
    },
    {
      "cell_type": "markdown",
      "metadata": {
        "id": "RNoseO7dDLx2"
      },
      "source": [
        "Desvio Padrão: Distância média dos meus pontos em relação à média (centro). É a raiz quadrada da variância.\n",
        "- Caso dados contenham outliers, ele será distorcido da mesma forma que a média.\n",
        "- Não pode ser usado para comparar vars com escalas ou unidades de medida diferentes. Usa o Coef Variação."
      ]
    },
    {
      "cell_type": "code",
      "execution_count": 18,
      "metadata": {
        "colab": {
          "base_uri": "https://localhost:8080/"
        },
        "id": "0t43KA7rEGdW",
        "outputId": "d5162e63-9294-45a0-f956-f729cca836fd"
      },
      "outputs": [
        {
          "output_type": "execute_result",
          "data": {
            "text/plain": [
              "304501.6920750907"
            ]
          },
          "metadata": {},
          "execution_count": 18
        }
      ],
      "source": [
        "#Desvio padrão\n",
        "df.price.std()\n",
        "#Na média, uma casa está $ 304k distante da média, indicando uma alta variabilidade nos dados, ou seja, temos valores bem distintos."
      ]
    },
    {
      "cell_type": "markdown",
      "metadata": {
        "id": "-u-wyWX9OocN"
      },
      "source": [
        "Além do std, pode-se estimar a dispersão dos dados olhando sua distribuição:\n",
        "- Quartil e Percentis:"
      ]
    },
    {
      "cell_type": "markdown",
      "metadata": {
        "id": "XUNFXEd8O0Hb"
      },
      "source": [
        "![image.png](data:image/png;base64,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)"
      ]
    },
    {
      "cell_type": "markdown",
      "source": [
        "#### Quartis"
      ],
      "metadata": {
        "id": "U6AT-zoSW3uu"
      }
    },
    {
      "cell_type": "markdown",
      "metadata": {
        "id": "IEFgYMmNPqnQ"
      },
      "source": [
        "Quartis:\n",
        "- 3 Quartis:\n",
        " - Q1 (1º quartil) - É um **valor** calculado, em que 25% dos dados são menores e 75% dos dados são maiores.\n",
        " - Q2 (mediana) - Ou .5 quantil, ou 50º percentil.\n",
        " - Q3 (3º quartil).\n",
        "- Caso eu binarize a feature, vou precisar da parte dos dados acima do 3º quartil, então faz sentido aqui criar um \"Q4\", que nesse contexto iria de 75 a 100º percentil.\n",
        "\n",
        "Percentil:\n",
        "- 100 percentis. 50º: [quantil .5] = [mediana (meio exato da distribuição)]"
      ]
    },
    {
      "cell_type": "markdown",
      "source": [
        "#### IQR"
      ],
      "metadata": {
        "id": "Nnv4czezW-Pd"
      }
    },
    {
      "cell_type": "markdown",
      "source": [
        "IQR:\n",
        "- interquartile range, dif entre o 25º e o 75º percentil.\n",
        "- Quanto maior, maior a variação dos dados.\n",
        "- Útil pra identificar outliers: Valores abaixo de Q1 - (1.5 x IQR) ou acima de Q3 + (1.5 x IQR) são frequentemente considerados outliers. É assim que o boxplot considera."
      ],
      "metadata": {
        "id": "jbeyLa6SW9av"
      }
    },
    {
      "cell_type": "code",
      "execution_count": 19,
      "metadata": {
        "colab": {
          "base_uri": "https://localhost:8080/"
        },
        "id": "W64th-BVIfuH",
        "outputId": "47856eba-33e1-4314-83a8-2567eb906021"
      },
      "outputs": [
        {
          "output_type": "execute_result",
          "data": {
            "text/plain": [
              "345125.0"
            ]
          },
          "metadata": {},
          "execution_count": 19
        }
      ],
      "source": [
        "#IQR:\n",
        "iqr(df.price) #scipy function\n",
        "#Entre o percentil 25 e o 75, temos $ 345k. Em uma distr. normal, 2/3 dos dados estariam nesta faixa."
      ]
    },
    {
      "cell_type": "code",
      "execution_count": 20,
      "metadata": {
        "colab": {
          "base_uri": "https://localhost:8080/"
        },
        "id": "5uGoG2y1PgfT",
        "outputId": "85fa0008-8fa9-4b53-db0c-c0ec3b3c545a"
      },
      "outputs": [
        {
          "output_type": "execute_result",
          "data": {
            "text/plain": [
              "308000.0"
            ]
          },
          "metadata": {},
          "execution_count": 20
        }
      ],
      "source": [
        "#Qual é o preço que representa Q1 (25º percentil)?\n",
        "df.price.quantile(.25)\n",
        "#O preço de $208k separa os 25% menores preços dos 75% maiores."
      ]
    },
    {
      "cell_type": "code",
      "execution_count": 21,
      "metadata": {
        "colab": {
          "base_uri": "https://localhost:8080/"
        },
        "id": "aOf7YMAymEIT",
        "outputId": "9430e322-9fa8-4f73-8f25-4a4754faa0b3"
      },
      "outputs": [
        {
          "output_type": "execute_result",
          "data": {
            "text/plain": [
              "count       100.00\n",
              "mean     519149.35\n",
              "std      304501.69\n",
              "min      153000.00\n",
              "10%      229950.00\n",
              "25%      308000.00\n",
              "50%      433750.00\n",
              "75%      653125.00\n",
              "max     2000000.00\n",
              "Name: price, dtype: float64"
            ]
          },
          "metadata": {},
          "execution_count": 21
        }
      ],
      "source": [
        "# A função describe() do pandas já traz medidas de tendência central (média e mediana) e de dispersão (std, min, max, percentis):\n",
        "df.price.describe(percentiles=[.1, .25, .75]) #default is [.25, .5, .75], which returns the 25th, 50th, and 75th percentiles.\n",
        "#Nos 10% preços mais baixos, temos casas até $22k."
      ]
    },
    {
      "cell_type": "markdown",
      "source": [
        "### Plots - Univariada"
      ],
      "metadata": {
        "id": "VwzH_tPncrnE"
      }
    },
    {
      "cell_type": "markdown",
      "source": [
        "Análise Univariada: analisa 1 variável."
      ],
      "metadata": {
        "id": "EsjOIN2Ic0RA"
      }
    },
    {
      "cell_type": "markdown",
      "source": [],
      "metadata": {
        "id": "Z0wDxe0xPTwY"
      }
    },
    {
      "cell_type": "markdown",
      "source": [],
      "metadata": {
        "id": "nGt6Mlw1PTr0"
      }
    },
    {
      "cell_type": "code",
      "execution_count": null,
      "metadata": {
        "id": "UBylZmk3uumj"
      },
      "outputs": [],
      "source": [
        "#Check NAs\n",
        "df.isna().sum()"
      ]
    },
    {
      "cell_type": "code",
      "execution_count": null,
      "metadata": {
        "id": "NqgCZIGf0sMn"
      },
      "outputs": [],
      "source": [
        "#tipos de dados\n",
        "df.dtypes"
      ]
    },
    {
      "cell_type": "code",
      "execution_count": null,
      "metadata": {
        "id": "6PsgDT371YKM"
      },
      "outputs": [],
      "source": [
        "#formatar dívida atual em float.\n",
        "\n",
        "#ajustar separador decimal:\n",
        "df.divida_atual.head(3)"
      ]
    },
    {
      "cell_type": "code",
      "execution_count": null,
      "metadata": {
        "id": "Wvo2oDZ41Edj"
      },
      "outputs": [],
      "source": [
        "#ajustar separador decimal, antes da conversão:\n",
        "df.divida_atual = df.divida_atual.apply(lambda x: x.replace(',','.') )\n",
        "df.divida_atual.head(3)"
      ]
    },
    {
      "cell_type": "code",
      "execution_count": null,
      "metadata": {
        "id": "G9kDB_DM0wUC"
      },
      "outputs": [],
      "source": [
        "#converter para float\n",
        "df.divida_atual = df.divida_atual.astype(float)"
      ]
    },
    {
      "cell_type": "code",
      "execution_count": null,
      "metadata": {
        "id": "PLUAicz51sJE"
      },
      "outputs": [],
      "source": [
        "#ok!\n",
        "df.dtypes"
      ]
    },
    {
      "cell_type": "markdown",
      "metadata": {
        "id": "oCbriHbDu6Nz"
      },
      "source": [
        "#### Resumo Estatística Descritiva"
      ]
    },
    {
      "cell_type": "markdown",
      "metadata": {
        "id": "9_GYY4L-vDh9"
      },
      "source": [
        "##### Numerical Attributes"
      ]
    },
    {
      "cell_type": "code",
      "execution_count": 25,
      "metadata": {
        "id": "c0q8uwTWvNXa",
        "colab": {
          "base_uri": "https://localhost:8080/",
          "height": 112
        },
        "outputId": "d6c9a86b-544b-4f5a-8ae6-5d59ce982c8a"
      },
      "outputs": [
        {
          "output_type": "execute_result",
          "data": {
            "text/plain": [
              "        price  bedrooms  bathrooms  sqft_living  sqft_lot  floors  waterfront  \\\n",
              "75  832500.00         4       4.00         3430     35102    2.00           0   \n",
              "91 1099880.00         5       2.75         3520      6353    2.00           0   \n",
              "\n",
              "    view  condition  grade  sqft_above  sqft_basement  yr_built  yr_renovated  \\\n",
              "75     0          4     10        2390           1040      1986             0   \n",
              "91     0          4     10        3520              0      2001             0   \n",
              "\n",
              "    zipcode   lat    long  sqft_living15  sqft_lot15  \n",
              "75    98075 47.58 -121.99           3240       35020  \n",
              "91    98199 47.65 -122.39           2520        6250  "
            ],
            "text/html": [
              "\n",
              "  <div id=\"df-8114b24a-f623-4f46-a7e5-835d072f41db\" class=\"colab-df-container\">\n",
              "    <div>\n",
              "<style scoped>\n",
              "    .dataframe tbody tr th:only-of-type {\n",
              "        vertical-align: middle;\n",
              "    }\n",
              "\n",
              "    .dataframe tbody tr th {\n",
              "        vertical-align: top;\n",
              "    }\n",
              "\n",
              "    .dataframe thead th {\n",
              "        text-align: right;\n",
              "    }\n",
              "</style>\n",
              "<table border=\"1\" class=\"dataframe\">\n",
              "  <thead>\n",
              "    <tr style=\"text-align: right;\">\n",
              "      <th></th>\n",
              "      <th>price</th>\n",
              "      <th>bedrooms</th>\n",
              "      <th>bathrooms</th>\n",
              "      <th>sqft_living</th>\n",
              "      <th>sqft_lot</th>\n",
              "      <th>floors</th>\n",
              "      <th>waterfront</th>\n",
              "      <th>view</th>\n",
              "      <th>condition</th>\n",
              "      <th>grade</th>\n",
              "      <th>sqft_above</th>\n",
              "      <th>sqft_basement</th>\n",
              "      <th>yr_built</th>\n",
              "      <th>yr_renovated</th>\n",
              "      <th>zipcode</th>\n",
              "      <th>lat</th>\n",
              "      <th>long</th>\n",
              "      <th>sqft_living15</th>\n",
              "      <th>sqft_lot15</th>\n",
              "    </tr>\n",
              "  </thead>\n",
              "  <tbody>\n",
              "    <tr>\n",
              "      <th>75</th>\n",
              "      <td>832500.00</td>\n",
              "      <td>4</td>\n",
              "      <td>4.00</td>\n",
              "      <td>3430</td>\n",
              "      <td>35102</td>\n",
              "      <td>2.00</td>\n",
              "      <td>0</td>\n",
              "      <td>0</td>\n",
              "      <td>4</td>\n",
              "      <td>10</td>\n",
              "      <td>2390</td>\n",
              "      <td>1040</td>\n",
              "      <td>1986</td>\n",
              "      <td>0</td>\n",
              "      <td>98075</td>\n",
              "      <td>47.58</td>\n",
              "      <td>-121.99</td>\n",
              "      <td>3240</td>\n",
              "      <td>35020</td>\n",
              "    </tr>\n",
              "    <tr>\n",
              "      <th>91</th>\n",
              "      <td>1099880.00</td>\n",
              "      <td>5</td>\n",
              "      <td>2.75</td>\n",
              "      <td>3520</td>\n",
              "      <td>6353</td>\n",
              "      <td>2.00</td>\n",
              "      <td>0</td>\n",
              "      <td>0</td>\n",
              "      <td>4</td>\n",
              "      <td>10</td>\n",
              "      <td>3520</td>\n",
              "      <td>0</td>\n",
              "      <td>2001</td>\n",
              "      <td>0</td>\n",
              "      <td>98199</td>\n",
              "      <td>47.65</td>\n",
              "      <td>-122.39</td>\n",
              "      <td>2520</td>\n",
              "      <td>6250</td>\n",
              "    </tr>\n",
              "  </tbody>\n",
              "</table>\n",
              "</div>\n",
              "    <div class=\"colab-df-buttons\">\n",
              "\n",
              "  <div class=\"colab-df-container\">\n",
              "    <button class=\"colab-df-convert\" onclick=\"convertToInteractive('df-8114b24a-f623-4f46-a7e5-835d072f41db')\"\n",
              "            title=\"Convert this dataframe to an interactive table.\"\n",
              "            style=\"display:none;\">\n",
              "\n",
              "  <svg xmlns=\"http://www.w3.org/2000/svg\" height=\"24px\" viewBox=\"0 -960 960 960\">\n",
              "    <path d=\"M120-120v-720h720v720H120Zm60-500h600v-160H180v160Zm220 220h160v-160H400v160Zm0 220h160v-160H400v160ZM180-400h160v-160H180v160Zm440 0h160v-160H620v160ZM180-180h160v-160H180v160Zm440 0h160v-160H620v160Z\"/>\n",
              "  </svg>\n",
              "    </button>\n",
              "\n",
              "  <style>\n",
              "    .colab-df-container {\n",
              "      display:flex;\n",
              "      gap: 12px;\n",
              "    }\n",
              "\n",
              "    .colab-df-convert {\n",
              "      background-color: #E8F0FE;\n",
              "      border: none;\n",
              "      border-radius: 50%;\n",
              "      cursor: pointer;\n",
              "      display: none;\n",
              "      fill: #1967D2;\n",
              "      height: 32px;\n",
              "      padding: 0 0 0 0;\n",
              "      width: 32px;\n",
              "    }\n",
              "\n",
              "    .colab-df-convert:hover {\n",
              "      background-color: #E2EBFA;\n",
              "      box-shadow: 0px 1px 2px rgba(60, 64, 67, 0.3), 0px 1px 3px 1px rgba(60, 64, 67, 0.15);\n",
              "      fill: #174EA6;\n",
              "    }\n",
              "\n",
              "    .colab-df-buttons div {\n",
              "      margin-bottom: 4px;\n",
              "    }\n",
              "\n",
              "    [theme=dark] .colab-df-convert {\n",
              "      background-color: #3B4455;\n",
              "      fill: #D2E3FC;\n",
              "    }\n",
              "\n",
              "    [theme=dark] .colab-df-convert:hover {\n",
              "      background-color: #434B5C;\n",
              "      box-shadow: 0px 1px 3px 1px rgba(0, 0, 0, 0.15);\n",
              "      filter: drop-shadow(0px 1px 2px rgba(0, 0, 0, 0.3));\n",
              "      fill: #FFFFFF;\n",
              "    }\n",
              "  </style>\n",
              "\n",
              "    <script>\n",
              "      const buttonEl =\n",
              "        document.querySelector('#df-8114b24a-f623-4f46-a7e5-835d072f41db button.colab-df-convert');\n",
              "      buttonEl.style.display =\n",
              "        google.colab.kernel.accessAllowed ? 'block' : 'none';\n",
              "\n",
              "      async function convertToInteractive(key) {\n",
              "        const element = document.querySelector('#df-8114b24a-f623-4f46-a7e5-835d072f41db');\n",
              "        const dataTable =\n",
              "          await google.colab.kernel.invokeFunction('convertToInteractive',\n",
              "                                                    [key], {});\n",
              "        if (!dataTable) return;\n",
              "\n",
              "        const docLinkHtml = 'Like what you see? Visit the ' +\n",
              "          '<a target=\"_blank\" href=https://colab.research.google.com/notebooks/data_table.ipynb>data table notebook</a>'\n",
              "          + ' to learn more about interactive tables.';\n",
              "        element.innerHTML = '';\n",
              "        dataTable['output_type'] = 'display_data';\n",
              "        await google.colab.output.renderOutput(dataTable, element);\n",
              "        const docLink = document.createElement('div');\n",
              "        docLink.innerHTML = docLinkHtml;\n",
              "        element.appendChild(docLink);\n",
              "      }\n",
              "    </script>\n",
              "  </div>\n",
              "\n",
              "\n",
              "<div id=\"df-6e117144-7b6f-4b8f-85d0-966f400786c0\">\n",
              "  <button class=\"colab-df-quickchart\" onclick=\"quickchart('df-6e117144-7b6f-4b8f-85d0-966f400786c0')\"\n",
              "            title=\"Suggest charts\"\n",
              "            style=\"display:none;\">\n",
              "\n",
              "<svg xmlns=\"http://www.w3.org/2000/svg\" height=\"24px\"viewBox=\"0 0 24 24\"\n",
              "     width=\"24px\">\n",
              "    <g>\n",
              "        <path d=\"M19 3H5c-1.1 0-2 .9-2 2v14c0 1.1.9 2 2 2h14c1.1 0 2-.9 2-2V5c0-1.1-.9-2-2-2zM9 17H7v-7h2v7zm4 0h-2V7h2v10zm4 0h-2v-4h2v4z\"/>\n",
              "    </g>\n",
              "</svg>\n",
              "  </button>\n",
              "\n",
              "<style>\n",
              "  .colab-df-quickchart {\n",
              "      --bg-color: #E8F0FE;\n",
              "      --fill-color: #1967D2;\n",
              "      --hover-bg-color: #E2EBFA;\n",
              "      --hover-fill-color: #174EA6;\n",
              "      --disabled-fill-color: #AAA;\n",
              "      --disabled-bg-color: #DDD;\n",
              "  }\n",
              "\n",
              "  [theme=dark] .colab-df-quickchart {\n",
              "      --bg-color: #3B4455;\n",
              "      --fill-color: #D2E3FC;\n",
              "      --hover-bg-color: #434B5C;\n",
              "      --hover-fill-color: #FFFFFF;\n",
              "      --disabled-bg-color: #3B4455;\n",
              "      --disabled-fill-color: #666;\n",
              "  }\n",
              "\n",
              "  .colab-df-quickchart {\n",
              "    background-color: var(--bg-color);\n",
              "    border: none;\n",
              "    border-radius: 50%;\n",
              "    cursor: pointer;\n",
              "    display: none;\n",
              "    fill: var(--fill-color);\n",
              "    height: 32px;\n",
              "    padding: 0;\n",
              "    width: 32px;\n",
              "  }\n",
              "\n",
              "  .colab-df-quickchart:hover {\n",
              "    background-color: var(--hover-bg-color);\n",
              "    box-shadow: 0 1px 2px rgba(60, 64, 67, 0.3), 0 1px 3px 1px rgba(60, 64, 67, 0.15);\n",
              "    fill: var(--button-hover-fill-color);\n",
              "  }\n",
              "\n",
              "  .colab-df-quickchart-complete:disabled,\n",
              "  .colab-df-quickchart-complete:disabled:hover {\n",
              "    background-color: var(--disabled-bg-color);\n",
              "    fill: var(--disabled-fill-color);\n",
              "    box-shadow: none;\n",
              "  }\n",
              "\n",
              "  .colab-df-spinner {\n",
              "    border: 2px solid var(--fill-color);\n",
              "    border-color: transparent;\n",
              "    border-bottom-color: var(--fill-color);\n",
              "    animation:\n",
              "      spin 1s steps(1) infinite;\n",
              "  }\n",
              "\n",
              "  @keyframes spin {\n",
              "    0% {\n",
              "      border-color: transparent;\n",
              "      border-bottom-color: var(--fill-color);\n",
              "      border-left-color: var(--fill-color);\n",
              "    }\n",
              "    20% {\n",
              "      border-color: transparent;\n",
              "      border-left-color: var(--fill-color);\n",
              "      border-top-color: var(--fill-color);\n",
              "    }\n",
              "    30% {\n",
              "      border-color: transparent;\n",
              "      border-left-color: var(--fill-color);\n",
              "      border-top-color: var(--fill-color);\n",
              "      border-right-color: var(--fill-color);\n",
              "    }\n",
              "    40% {\n",
              "      border-color: transparent;\n",
              "      border-right-color: var(--fill-color);\n",
              "      border-top-color: var(--fill-color);\n",
              "    }\n",
              "    60% {\n",
              "      border-color: transparent;\n",
              "      border-right-color: var(--fill-color);\n",
              "    }\n",
              "    80% {\n",
              "      border-color: transparent;\n",
              "      border-right-color: var(--fill-color);\n",
              "      border-bottom-color: var(--fill-color);\n",
              "    }\n",
              "    90% {\n",
              "      border-color: transparent;\n",
              "      border-bottom-color: var(--fill-color);\n",
              "    }\n",
              "  }\n",
              "</style>\n",
              "\n",
              "  <script>\n",
              "    async function quickchart(key) {\n",
              "      const quickchartButtonEl =\n",
              "        document.querySelector('#' + key + ' button');\n",
              "      quickchartButtonEl.disabled = true;  // To prevent multiple clicks.\n",
              "      quickchartButtonEl.classList.add('colab-df-spinner');\n",
              "      try {\n",
              "        const charts = await google.colab.kernel.invokeFunction(\n",
              "            'suggestCharts', [key], {});\n",
              "      } catch (error) {\n",
              "        console.error('Error during call to suggestCharts:', error);\n",
              "      }\n",
              "      quickchartButtonEl.classList.remove('colab-df-spinner');\n",
              "      quickchartButtonEl.classList.add('colab-df-quickchart-complete');\n",
              "    }\n",
              "    (() => {\n",
              "      let quickchartButtonEl =\n",
              "        document.querySelector('#df-6e117144-7b6f-4b8f-85d0-966f400786c0 button');\n",
              "      quickchartButtonEl.style.display =\n",
              "        google.colab.kernel.accessAllowed ? 'block' : 'none';\n",
              "    })();\n",
              "  </script>\n",
              "</div>\n",
              "\n",
              "    </div>\n",
              "  </div>\n"
            ],
            "application/vnd.google.colaboratory.intrinsic+json": {
              "type": "dataframe",
              "summary": "{\n  \"name\": \"num_attributes\",\n  \"rows\": 2,\n  \"fields\": [\n    {\n      \"column\": \"price\",\n      \"properties\": {\n        \"dtype\": \"number\",\n        \"std\": 189066.21115365907,\n        \"min\": 832500.0,\n        \"max\": 1099880.0,\n        \"num_unique_values\": 2,\n        \"samples\": [\n          1099880.0,\n          832500.0\n        ],\n        \"semantic_type\": \"\",\n        \"description\": \"\"\n      }\n    },\n    {\n      \"column\": \"bedrooms\",\n      \"properties\": {\n        \"dtype\": \"number\",\n        \"std\": 0,\n        \"min\": 4,\n        \"max\": 5,\n        \"num_unique_values\": 2,\n        \"samples\": [\n          5,\n          4\n        ],\n        \"semantic_type\": \"\",\n        \"description\": \"\"\n      }\n    },\n    {\n      \"column\": \"bathrooms\",\n      \"properties\": {\n        \"dtype\": \"number\",\n        \"std\": 0.8838834764831844,\n        \"min\": 2.75,\n        \"max\": 4.0,\n        \"num_unique_values\": 2,\n        \"samples\": [\n          2.75,\n          4.0\n        ],\n        \"semantic_type\": \"\",\n        \"description\": \"\"\n      }\n    },\n    {\n      \"column\": \"sqft_living\",\n      \"properties\": {\n        \"dtype\": \"number\",\n        \"std\": 63,\n        \"min\": 3430,\n        \"max\": 3520,\n        \"num_unique_values\": 2,\n        \"samples\": [\n          3520,\n          3430\n        ],\n        \"semantic_type\": \"\",\n        \"description\": \"\"\n      }\n    },\n    {\n      \"column\": \"sqft_lot\",\n      \"properties\": {\n        \"dtype\": \"number\",\n        \"std\": 20328,\n        \"min\": 6353,\n        \"max\": 35102,\n        \"num_unique_values\": 2,\n        \"samples\": [\n          6353,\n          35102\n        ],\n        \"semantic_type\": \"\",\n        \"description\": \"\"\n      }\n    },\n    {\n      \"column\": \"floors\",\n      \"properties\": {\n        \"dtype\": \"number\",\n        \"std\": 0.0,\n        \"min\": 2.0,\n        \"max\": 2.0,\n        \"num_unique_values\": 1,\n        \"samples\": [\n          2.0\n        ],\n        \"semantic_type\": \"\",\n        \"description\": \"\"\n      }\n    },\n    {\n      \"column\": \"waterfront\",\n      \"properties\": {\n        \"dtype\": \"number\",\n        \"std\": 0,\n        \"min\": 0,\n        \"max\": 0,\n        \"num_unique_values\": 1,\n        \"samples\": [\n          0\n        ],\n        \"semantic_type\": \"\",\n        \"description\": \"\"\n      }\n    },\n    {\n      \"column\": \"view\",\n      \"properties\": {\n        \"dtype\": \"number\",\n        \"std\": 0,\n        \"min\": 0,\n        \"max\": 0,\n        \"num_unique_values\": 1,\n        \"samples\": [\n          0\n        ],\n        \"semantic_type\": \"\",\n        \"description\": \"\"\n      }\n    },\n    {\n      \"column\": \"condition\",\n      \"properties\": {\n        \"dtype\": \"number\",\n        \"std\": 0,\n        \"min\": 4,\n        \"max\": 4,\n        \"num_unique_values\": 1,\n        \"samples\": [\n          4\n        ],\n        \"semantic_type\": \"\",\n        \"description\": \"\"\n      }\n    },\n    {\n      \"column\": \"grade\",\n      \"properties\": {\n        \"dtype\": \"number\",\n        \"std\": 0,\n        \"min\": 10,\n        \"max\": 10,\n        \"num_unique_values\": 1,\n        \"samples\": [\n          10\n        ],\n        \"semantic_type\": \"\",\n        \"description\": \"\"\n      }\n    },\n    {\n      \"column\": \"sqft_above\",\n      \"properties\": {\n        \"dtype\": \"number\",\n        \"std\": 799,\n        \"min\": 2390,\n        \"max\": 3520,\n        \"num_unique_values\": 2,\n        \"samples\": [\n          3520\n        ],\n        \"semantic_type\": \"\",\n        \"description\": \"\"\n      }\n    },\n    {\n      \"column\": \"sqft_basement\",\n      \"properties\": {\n        \"dtype\": \"number\",\n        \"std\": 735,\n        \"min\": 0,\n        \"max\": 1040,\n        \"num_unique_values\": 2,\n        \"samples\": [\n          0\n        ],\n        \"semantic_type\": \"\",\n        \"description\": \"\"\n      }\n    },\n    {\n      \"column\": \"yr_built\",\n      \"properties\": {\n        \"dtype\": \"number\",\n        \"std\": 10,\n        \"min\": 1986,\n        \"max\": 2001,\n        \"num_unique_values\": 2,\n        \"samples\": [\n          2001\n        ],\n        \"semantic_type\": \"\",\n        \"description\": \"\"\n      }\n    },\n    {\n      \"column\": \"yr_renovated\",\n      \"properties\": {\n        \"dtype\": \"number\",\n        \"std\": 0,\n        \"min\": 0,\n        \"max\": 0,\n        \"num_unique_values\": 1,\n        \"samples\": [\n          0\n        ],\n        \"semantic_type\": \"\",\n        \"description\": \"\"\n      }\n    },\n    {\n      \"column\": \"zipcode\",\n      \"properties\": {\n        \"dtype\": \"number\",\n        \"std\": 87,\n        \"min\": 98075,\n        \"max\": 98199,\n        \"num_unique_values\": 2,\n        \"samples\": [\n          98199\n        ],\n        \"semantic_type\": \"\",\n        \"description\": \"\"\n      }\n    },\n    {\n      \"column\": \"lat\",\n      \"properties\": {\n        \"dtype\": \"number\",\n        \"std\": 0.04836610383315766,\n        \"min\": 47.5822,\n        \"max\": 47.6506,\n        \"num_unique_values\": 2,\n        \"samples\": [\n          47.6506\n        ],\n        \"semantic_type\": \"\",\n        \"description\": \"\"\n      }\n    },\n    {\n      \"column\": \"long\",\n      \"properties\": {\n        \"dtype\": \"number\",\n        \"std\": 0.2856711395993727,\n        \"min\": -122.391,\n        \"max\": -121.987,\n        \"num_unique_values\": 2,\n        \"samples\": [\n          -122.391\n        ],\n        \"semantic_type\": \"\",\n        \"description\": \"\"\n      }\n    },\n    {\n      \"column\": \"sqft_living15\",\n      \"properties\": {\n        \"dtype\": \"number\",\n        \"std\": 509,\n        \"min\": 2520,\n        \"max\": 3240,\n        \"num_unique_values\": 2,\n        \"samples\": [\n          2520\n        ],\n        \"semantic_type\": \"\",\n        \"description\": \"\"\n      }\n    },\n    {\n      \"column\": \"sqft_lot15\",\n      \"properties\": {\n        \"dtype\": \"number\",\n        \"std\": 20343,\n        \"min\": 6250,\n        \"max\": 35020,\n        \"num_unique_values\": 2,\n        \"samples\": [\n          6250\n        ],\n        \"semantic_type\": \"\",\n        \"description\": \"\"\n      }\n    }\n  ]\n}"
            }
          },
          "metadata": {},
          "execution_count": 25
        }
      ],
      "source": [
        "num_attributes = df.select_dtypes(include=['int64', 'float64'])\n",
        "num_attributes.sample(2)"
      ]
    },
    {
      "cell_type": "code",
      "execution_count": 26,
      "metadata": {
        "id": "3VqT-rGfvNw4"
      },
      "outputs": [],
      "source": [
        "#Central tendency metrics: mean and median\n",
        "ct1 = pd.DataFrame( num_attributes.apply( np.mean ) ).T\n",
        "ct2 = pd.DataFrame( num_attributes.apply( np.median ) ).T\n",
        "#Dispersion metrics: standard deviation, min, max, range, skew, kurtosis\n",
        "d1 = pd.DataFrame ( num_attributes.apply ( np.std ) ).T\n",
        "d2 = pd.DataFrame ( num_attributes.apply ( min ) ).T\n",
        "d3 = pd.DataFrame ( num_attributes.apply ( max ) ).T\n",
        "d4 = pd.DataFrame ( num_attributes.apply ( lambda x: x.max() - x.min() ) ).T\n",
        "d5 = pd.DataFrame ( num_attributes.apply ( lambda x: x.skew() ) ).T\n",
        "d6 = pd.DataFrame ( num_attributes.apply ( lambda x: x.kurtosis() ) ).T\n",
        "#Concatenate\n",
        "num_metrics = pd.concat( [ d2, d3, d4, ct1, ct2, d1, d5, d6 ] ).T.reset_index()\n",
        "num_metrics.columns = ['attributes', 'min', 'max', 'range', 'mean', 'median', 'std', 'skew', 'kurtosis' ]"
      ]
    },
    {
      "cell_type": "code",
      "execution_count": 28,
      "metadata": {
        "id": "1IoqzC6jvdWR",
        "colab": {
          "base_uri": "https://localhost:8080/",
          "height": 645
        },
        "outputId": "2d27f84a-5587-4750-eb8f-f3dcd9824193"
      },
      "outputs": [
        {
          "output_type": "execute_result",
          "data": {
            "text/plain": [
              "       attributes       min        max      range      mean    median  \\\n",
              "0           price 153000.00 2000000.00 1847000.00 519149.35 433750.00   \n",
              "1        bedrooms      2.00       5.00       3.00      3.40      3.00   \n",
              "2       bathrooms      1.00       4.50       3.50      2.00      2.00   \n",
              "3     sqft_living    770.00    5420.00    4650.00   2088.72   1930.00   \n",
              "4        sqft_lot   1044.00  101930.00  100886.00  11732.50   6769.50   \n",
              "5          floors      1.00       3.00       2.00      1.47      1.50   \n",
              "6      waterfront      0.00       1.00       1.00      0.01      0.00   \n",
              "7            view      0.00       4.00       4.00      0.18      0.00   \n",
              "8       condition      1.00       5.00       4.00      3.43      3.00   \n",
              "9           grade      5.00      11.00       6.00      7.61      7.00   \n",
              "10     sqft_above    765.00    3890.00    3125.00   1764.69   1660.00   \n",
              "11  sqft_basement      0.00    1700.00    1700.00    324.03      0.00   \n",
              "12       yr_built   1900.00    2014.00     114.00   1966.87   1967.50   \n",
              "13   yr_renovated      0.00    2002.00    2002.00     59.84      0.00   \n",
              "14        zipcode  98001.00   98199.00     198.00  98075.66  98059.00   \n",
              "15            lat     47.29      47.76       0.47     47.54     47.57   \n",
              "16           long   -122.45    -121.71       0.74   -122.23   -122.27   \n",
              "17  sqft_living15    890.00    4760.00    3870.00   1965.12   1790.00   \n",
              "18     sqft_lot15   1106.00  135036.00  133930.00  12005.52   6935.00   \n",
              "\n",
              "         std  skew  kurtosis  \n",
              "0  302975.36  1.83      5.12  \n",
              "1       0.79  0.40     -0.21  \n",
              "2       0.72  0.41      0.41  \n",
              "3     856.22  1.11      1.80  \n",
              "4   14725.89  3.53     15.36  \n",
              "5       0.51  0.58     -0.54  \n",
              "6       0.10 10.00    100.00  \n",
              "7       0.74  4.21     17.06  \n",
              "8       0.72  0.57      0.90  \n",
              "9       1.04  1.01      1.61  \n",
              "10    720.76  0.74      0.01  \n",
              "11    467.73  1.39      1.12  \n",
              "12     28.33 -0.33     -0.73  \n",
              "13    340.27  5.59     29.90  \n",
              "14     52.02  0.29     -0.98  \n",
              "15      0.14 -0.30     -1.33  \n",
              "16      0.14  0.87      0.66  \n",
              "17    707.36  1.21      2.01  \n",
              "18  18576.44  4.62     24.47  "
            ],
            "text/html": [
              "\n",
              "  <div id=\"df-d31f3d85-9f14-415d-b30a-34133c9b58b8\" class=\"colab-df-container\">\n",
              "    <div>\n",
              "<style scoped>\n",
              "    .dataframe tbody tr th:only-of-type {\n",
              "        vertical-align: middle;\n",
              "    }\n",
              "\n",
              "    .dataframe tbody tr th {\n",
              "        vertical-align: top;\n",
              "    }\n",
              "\n",
              "    .dataframe thead th {\n",
              "        text-align: right;\n",
              "    }\n",
              "</style>\n",
              "<table border=\"1\" class=\"dataframe\">\n",
              "  <thead>\n",
              "    <tr style=\"text-align: right;\">\n",
              "      <th></th>\n",
              "      <th>attributes</th>\n",
              "      <th>min</th>\n",
              "      <th>max</th>\n",
              "      <th>range</th>\n",
              "      <th>mean</th>\n",
              "      <th>median</th>\n",
              "      <th>std</th>\n",
              "      <th>skew</th>\n",
              "      <th>kurtosis</th>\n",
              "    </tr>\n",
              "  </thead>\n",
              "  <tbody>\n",
              "    <tr>\n",
              "      <th>0</th>\n",
              "      <td>price</td>\n",
              "      <td>153000.00</td>\n",
              "      <td>2000000.00</td>\n",
              "      <td>1847000.00</td>\n",
              "      <td>519149.35</td>\n",
              "      <td>433750.00</td>\n",
              "      <td>302975.36</td>\n",
              "      <td>1.83</td>\n",
              "      <td>5.12</td>\n",
              "    </tr>\n",
              "    <tr>\n",
              "      <th>1</th>\n",
              "      <td>bedrooms</td>\n",
              "      <td>2.00</td>\n",
              "      <td>5.00</td>\n",
              "      <td>3.00</td>\n",
              "      <td>3.40</td>\n",
              "      <td>3.00</td>\n",
              "      <td>0.79</td>\n",
              "      <td>0.40</td>\n",
              "      <td>-0.21</td>\n",
              "    </tr>\n",
              "    <tr>\n",
              "      <th>2</th>\n",
              "      <td>bathrooms</td>\n",
              "      <td>1.00</td>\n",
              "      <td>4.50</td>\n",
              "      <td>3.50</td>\n",
              "      <td>2.00</td>\n",
              "      <td>2.00</td>\n",
              "      <td>0.72</td>\n",
              "      <td>0.41</td>\n",
              "      <td>0.41</td>\n",
              "    </tr>\n",
              "    <tr>\n",
              "      <th>3</th>\n",
              "      <td>sqft_living</td>\n",
              "      <td>770.00</td>\n",
              "      <td>5420.00</td>\n",
              "      <td>4650.00</td>\n",
              "      <td>2088.72</td>\n",
              "      <td>1930.00</td>\n",
              "      <td>856.22</td>\n",
              "      <td>1.11</td>\n",
              "      <td>1.80</td>\n",
              "    </tr>\n",
              "    <tr>\n",
              "      <th>4</th>\n",
              "      <td>sqft_lot</td>\n",
              "      <td>1044.00</td>\n",
              "      <td>101930.00</td>\n",
              "      <td>100886.00</td>\n",
              "      <td>11732.50</td>\n",
              "      <td>6769.50</td>\n",
              "      <td>14725.89</td>\n",
              "      <td>3.53</td>\n",
              "      <td>15.36</td>\n",
              "    </tr>\n",
              "    <tr>\n",
              "      <th>5</th>\n",
              "      <td>floors</td>\n",
              "      <td>1.00</td>\n",
              "      <td>3.00</td>\n",
              "      <td>2.00</td>\n",
              "      <td>1.47</td>\n",
              "      <td>1.50</td>\n",
              "      <td>0.51</td>\n",
              "      <td>0.58</td>\n",
              "      <td>-0.54</td>\n",
              "    </tr>\n",
              "    <tr>\n",
              "      <th>6</th>\n",
              "      <td>waterfront</td>\n",
              "      <td>0.00</td>\n",
              "      <td>1.00</td>\n",
              "      <td>1.00</td>\n",
              "      <td>0.01</td>\n",
              "      <td>0.00</td>\n",
              "      <td>0.10</td>\n",
              "      <td>10.00</td>\n",
              "      <td>100.00</td>\n",
              "    </tr>\n",
              "    <tr>\n",
              "      <th>7</th>\n",
              "      <td>view</td>\n",
              "      <td>0.00</td>\n",
              "      <td>4.00</td>\n",
              "      <td>4.00</td>\n",
              "      <td>0.18</td>\n",
              "      <td>0.00</td>\n",
              "      <td>0.74</td>\n",
              "      <td>4.21</td>\n",
              "      <td>17.06</td>\n",
              "    </tr>\n",
              "    <tr>\n",
              "      <th>8</th>\n",
              "      <td>condition</td>\n",
              "      <td>1.00</td>\n",
              "      <td>5.00</td>\n",
              "      <td>4.00</td>\n",
              "      <td>3.43</td>\n",
              "      <td>3.00</td>\n",
              "      <td>0.72</td>\n",
              "      <td>0.57</td>\n",
              "      <td>0.90</td>\n",
              "    </tr>\n",
              "    <tr>\n",
              "      <th>9</th>\n",
              "      <td>grade</td>\n",
              "      <td>5.00</td>\n",
              "      <td>11.00</td>\n",
              "      <td>6.00</td>\n",
              "      <td>7.61</td>\n",
              "      <td>7.00</td>\n",
              "      <td>1.04</td>\n",
              "      <td>1.01</td>\n",
              "      <td>1.61</td>\n",
              "    </tr>\n",
              "    <tr>\n",
              "      <th>10</th>\n",
              "      <td>sqft_above</td>\n",
              "      <td>765.00</td>\n",
              "      <td>3890.00</td>\n",
              "      <td>3125.00</td>\n",
              "      <td>1764.69</td>\n",
              "      <td>1660.00</td>\n",
              "      <td>720.76</td>\n",
              "      <td>0.74</td>\n",
              "      <td>0.01</td>\n",
              "    </tr>\n",
              "    <tr>\n",
              "      <th>11</th>\n",
              "      <td>sqft_basement</td>\n",
              "      <td>0.00</td>\n",
              "      <td>1700.00</td>\n",
              "      <td>1700.00</td>\n",
              "      <td>324.03</td>\n",
              "      <td>0.00</td>\n",
              "      <td>467.73</td>\n",
              "      <td>1.39</td>\n",
              "      <td>1.12</td>\n",
              "    </tr>\n",
              "    <tr>\n",
              "      <th>12</th>\n",
              "      <td>yr_built</td>\n",
              "      <td>1900.00</td>\n",
              "      <td>2014.00</td>\n",
              "      <td>114.00</td>\n",
              "      <td>1966.87</td>\n",
              "      <td>1967.50</td>\n",
              "      <td>28.33</td>\n",
              "      <td>-0.33</td>\n",
              "      <td>-0.73</td>\n",
              "    </tr>\n",
              "    <tr>\n",
              "      <th>13</th>\n",
              "      <td>yr_renovated</td>\n",
              "      <td>0.00</td>\n",
              "      <td>2002.00</td>\n",
              "      <td>2002.00</td>\n",
              "      <td>59.84</td>\n",
              "      <td>0.00</td>\n",
              "      <td>340.27</td>\n",
              "      <td>5.59</td>\n",
              "      <td>29.90</td>\n",
              "    </tr>\n",
              "    <tr>\n",
              "      <th>14</th>\n",
              "      <td>zipcode</td>\n",
              "      <td>98001.00</td>\n",
              "      <td>98199.00</td>\n",
              "      <td>198.00</td>\n",
              "      <td>98075.66</td>\n",
              "      <td>98059.00</td>\n",
              "      <td>52.02</td>\n",
              "      <td>0.29</td>\n",
              "      <td>-0.98</td>\n",
              "    </tr>\n",
              "    <tr>\n",
              "      <th>15</th>\n",
              "      <td>lat</td>\n",
              "      <td>47.29</td>\n",
              "      <td>47.76</td>\n",
              "      <td>0.47</td>\n",
              "      <td>47.54</td>\n",
              "      <td>47.57</td>\n",
              "      <td>0.14</td>\n",
              "      <td>-0.30</td>\n",
              "      <td>-1.33</td>\n",
              "    </tr>\n",
              "    <tr>\n",
              "      <th>16</th>\n",
              "      <td>long</td>\n",
              "      <td>-122.45</td>\n",
              "      <td>-121.71</td>\n",
              "      <td>0.74</td>\n",
              "      <td>-122.23</td>\n",
              "      <td>-122.27</td>\n",
              "      <td>0.14</td>\n",
              "      <td>0.87</td>\n",
              "      <td>0.66</td>\n",
              "    </tr>\n",
              "    <tr>\n",
              "      <th>17</th>\n",
              "      <td>sqft_living15</td>\n",
              "      <td>890.00</td>\n",
              "      <td>4760.00</td>\n",
              "      <td>3870.00</td>\n",
              "      <td>1965.12</td>\n",
              "      <td>1790.00</td>\n",
              "      <td>707.36</td>\n",
              "      <td>1.21</td>\n",
              "      <td>2.01</td>\n",
              "    </tr>\n",
              "    <tr>\n",
              "      <th>18</th>\n",
              "      <td>sqft_lot15</td>\n",
              "      <td>1106.00</td>\n",
              "      <td>135036.00</td>\n",
              "      <td>133930.00</td>\n",
              "      <td>12005.52</td>\n",
              "      <td>6935.00</td>\n",
              "      <td>18576.44</td>\n",
              "      <td>4.62</td>\n",
              "      <td>24.47</td>\n",
              "    </tr>\n",
              "  </tbody>\n",
              "</table>\n",
              "</div>\n",
              "    <div class=\"colab-df-buttons\">\n",
              "\n",
              "  <div class=\"colab-df-container\">\n",
              "    <button class=\"colab-df-convert\" onclick=\"convertToInteractive('df-d31f3d85-9f14-415d-b30a-34133c9b58b8')\"\n",
              "            title=\"Convert this dataframe to an interactive table.\"\n",
              "            style=\"display:none;\">\n",
              "\n",
              "  <svg xmlns=\"http://www.w3.org/2000/svg\" height=\"24px\" viewBox=\"0 -960 960 960\">\n",
              "    <path d=\"M120-120v-720h720v720H120Zm60-500h600v-160H180v160Zm220 220h160v-160H400v160Zm0 220h160v-160H400v160ZM180-400h160v-160H180v160Zm440 0h160v-160H620v160ZM180-180h160v-160H180v160Zm440 0h160v-160H620v160Z\"/>\n",
              "  </svg>\n",
              "    </button>\n",
              "\n",
              "  <style>\n",
              "    .colab-df-container {\n",
              "      display:flex;\n",
              "      gap: 12px;\n",
              "    }\n",
              "\n",
              "    .colab-df-convert {\n",
              "      background-color: #E8F0FE;\n",
              "      border: none;\n",
              "      border-radius: 50%;\n",
              "      cursor: pointer;\n",
              "      display: none;\n",
              "      fill: #1967D2;\n",
              "      height: 32px;\n",
              "      padding: 0 0 0 0;\n",
              "      width: 32px;\n",
              "    }\n",
              "\n",
              "    .colab-df-convert:hover {\n",
              "      background-color: #E2EBFA;\n",
              "      box-shadow: 0px 1px 2px rgba(60, 64, 67, 0.3), 0px 1px 3px 1px rgba(60, 64, 67, 0.15);\n",
              "      fill: #174EA6;\n",
              "    }\n",
              "\n",
              "    .colab-df-buttons div {\n",
              "      margin-bottom: 4px;\n",
              "    }\n",
              "\n",
              "    [theme=dark] .colab-df-convert {\n",
              "      background-color: #3B4455;\n",
              "      fill: #D2E3FC;\n",
              "    }\n",
              "\n",
              "    [theme=dark] .colab-df-convert:hover {\n",
              "      background-color: #434B5C;\n",
              "      box-shadow: 0px 1px 3px 1px rgba(0, 0, 0, 0.15);\n",
              "      filter: drop-shadow(0px 1px 2px rgba(0, 0, 0, 0.3));\n",
              "      fill: #FFFFFF;\n",
              "    }\n",
              "  </style>\n",
              "\n",
              "    <script>\n",
              "      const buttonEl =\n",
              "        document.querySelector('#df-d31f3d85-9f14-415d-b30a-34133c9b58b8 button.colab-df-convert');\n",
              "      buttonEl.style.display =\n",
              "        google.colab.kernel.accessAllowed ? 'block' : 'none';\n",
              "\n",
              "      async function convertToInteractive(key) {\n",
              "        const element = document.querySelector('#df-d31f3d85-9f14-415d-b30a-34133c9b58b8');\n",
              "        const dataTable =\n",
              "          await google.colab.kernel.invokeFunction('convertToInteractive',\n",
              "                                                    [key], {});\n",
              "        if (!dataTable) return;\n",
              "\n",
              "        const docLinkHtml = 'Like what you see? Visit the ' +\n",
              "          '<a target=\"_blank\" href=https://colab.research.google.com/notebooks/data_table.ipynb>data table notebook</a>'\n",
              "          + ' to learn more about interactive tables.';\n",
              "        element.innerHTML = '';\n",
              "        dataTable['output_type'] = 'display_data';\n",
              "        await google.colab.output.renderOutput(dataTable, element);\n",
              "        const docLink = document.createElement('div');\n",
              "        docLink.innerHTML = docLinkHtml;\n",
              "        element.appendChild(docLink);\n",
              "      }\n",
              "    </script>\n",
              "  </div>\n",
              "\n",
              "\n",
              "<div id=\"df-f21773be-e827-44a0-9274-fb42efc07703\">\n",
              "  <button class=\"colab-df-quickchart\" onclick=\"quickchart('df-f21773be-e827-44a0-9274-fb42efc07703')\"\n",
              "            title=\"Suggest charts\"\n",
              "            style=\"display:none;\">\n",
              "\n",
              "<svg xmlns=\"http://www.w3.org/2000/svg\" height=\"24px\"viewBox=\"0 0 24 24\"\n",
              "     width=\"24px\">\n",
              "    <g>\n",
              "        <path d=\"M19 3H5c-1.1 0-2 .9-2 2v14c0 1.1.9 2 2 2h14c1.1 0 2-.9 2-2V5c0-1.1-.9-2-2-2zM9 17H7v-7h2v7zm4 0h-2V7h2v10zm4 0h-2v-4h2v4z\"/>\n",
              "    </g>\n",
              "</svg>\n",
              "  </button>\n",
              "\n",
              "<style>\n",
              "  .colab-df-quickchart {\n",
              "      --bg-color: #E8F0FE;\n",
              "      --fill-color: #1967D2;\n",
              "      --hover-bg-color: #E2EBFA;\n",
              "      --hover-fill-color: #174EA6;\n",
              "      --disabled-fill-color: #AAA;\n",
              "      --disabled-bg-color: #DDD;\n",
              "  }\n",
              "\n",
              "  [theme=dark] .colab-df-quickchart {\n",
              "      --bg-color: #3B4455;\n",
              "      --fill-color: #D2E3FC;\n",
              "      --hover-bg-color: #434B5C;\n",
              "      --hover-fill-color: #FFFFFF;\n",
              "      --disabled-bg-color: #3B4455;\n",
              "      --disabled-fill-color: #666;\n",
              "  }\n",
              "\n",
              "  .colab-df-quickchart {\n",
              "    background-color: var(--bg-color);\n",
              "    border: none;\n",
              "    border-radius: 50%;\n",
              "    cursor: pointer;\n",
              "    display: none;\n",
              "    fill: var(--fill-color);\n",
              "    height: 32px;\n",
              "    padding: 0;\n",
              "    width: 32px;\n",
              "  }\n",
              "\n",
              "  .colab-df-quickchart:hover {\n",
              "    background-color: var(--hover-bg-color);\n",
              "    box-shadow: 0 1px 2px rgba(60, 64, 67, 0.3), 0 1px 3px 1px rgba(60, 64, 67, 0.15);\n",
              "    fill: var(--button-hover-fill-color);\n",
              "  }\n",
              "\n",
              "  .colab-df-quickchart-complete:disabled,\n",
              "  .colab-df-quickchart-complete:disabled:hover {\n",
              "    background-color: var(--disabled-bg-color);\n",
              "    fill: var(--disabled-fill-color);\n",
              "    box-shadow: none;\n",
              "  }\n",
              "\n",
              "  .colab-df-spinner {\n",
              "    border: 2px solid var(--fill-color);\n",
              "    border-color: transparent;\n",
              "    border-bottom-color: var(--fill-color);\n",
              "    animation:\n",
              "      spin 1s steps(1) infinite;\n",
              "  }\n",
              "\n",
              "  @keyframes spin {\n",
              "    0% {\n",
              "      border-color: transparent;\n",
              "      border-bottom-color: var(--fill-color);\n",
              "      border-left-color: var(--fill-color);\n",
              "    }\n",
              "    20% {\n",
              "      border-color: transparent;\n",
              "      border-left-color: var(--fill-color);\n",
              "      border-top-color: var(--fill-color);\n",
              "    }\n",
              "    30% {\n",
              "      border-color: transparent;\n",
              "      border-left-color: var(--fill-color);\n",
              "      border-top-color: var(--fill-color);\n",
              "      border-right-color: var(--fill-color);\n",
              "    }\n",
              "    40% {\n",
              "      border-color: transparent;\n",
              "      border-right-color: var(--fill-color);\n",
              "      border-top-color: var(--fill-color);\n",
              "    }\n",
              "    60% {\n",
              "      border-color: transparent;\n",
              "      border-right-color: var(--fill-color);\n",
              "    }\n",
              "    80% {\n",
              "      border-color: transparent;\n",
              "      border-right-color: var(--fill-color);\n",
              "      border-bottom-color: var(--fill-color);\n",
              "    }\n",
              "    90% {\n",
              "      border-color: transparent;\n",
              "      border-bottom-color: var(--fill-color);\n",
              "    }\n",
              "  }\n",
              "</style>\n",
              "\n",
              "  <script>\n",
              "    async function quickchart(key) {\n",
              "      const quickchartButtonEl =\n",
              "        document.querySelector('#' + key + ' button');\n",
              "      quickchartButtonEl.disabled = true;  // To prevent multiple clicks.\n",
              "      quickchartButtonEl.classList.add('colab-df-spinner');\n",
              "      try {\n",
              "        const charts = await google.colab.kernel.invokeFunction(\n",
              "            'suggestCharts', [key], {});\n",
              "      } catch (error) {\n",
              "        console.error('Error during call to suggestCharts:', error);\n",
              "      }\n",
              "      quickchartButtonEl.classList.remove('colab-df-spinner');\n",
              "      quickchartButtonEl.classList.add('colab-df-quickchart-complete');\n",
              "    }\n",
              "    (() => {\n",
              "      let quickchartButtonEl =\n",
              "        document.querySelector('#df-f21773be-e827-44a0-9274-fb42efc07703 button');\n",
              "      quickchartButtonEl.style.display =\n",
              "        google.colab.kernel.accessAllowed ? 'block' : 'none';\n",
              "    })();\n",
              "  </script>\n",
              "</div>\n",
              "\n",
              "  <div id=\"id_a1c4cd6e-1645-42c5-8bb8-42ee69b474a9\">\n",
              "    <style>\n",
              "      .colab-df-generate {\n",
              "        background-color: #E8F0FE;\n",
              "        border: none;\n",
              "        border-radius: 50%;\n",
              "        cursor: pointer;\n",
              "        display: none;\n",
              "        fill: #1967D2;\n",
              "        height: 32px;\n",
              "        padding: 0 0 0 0;\n",
              "        width: 32px;\n",
              "      }\n",
              "\n",
              "      .colab-df-generate:hover {\n",
              "        background-color: #E2EBFA;\n",
              "        box-shadow: 0px 1px 2px rgba(60, 64, 67, 0.3), 0px 1px 3px 1px rgba(60, 64, 67, 0.15);\n",
              "        fill: #174EA6;\n",
              "      }\n",
              "\n",
              "      [theme=dark] .colab-df-generate {\n",
              "        background-color: #3B4455;\n",
              "        fill: #D2E3FC;\n",
              "      }\n",
              "\n",
              "      [theme=dark] .colab-df-generate:hover {\n",
              "        background-color: #434B5C;\n",
              "        box-shadow: 0px 1px 3px 1px rgba(0, 0, 0, 0.15);\n",
              "        filter: drop-shadow(0px 1px 2px rgba(0, 0, 0, 0.3));\n",
              "        fill: #FFFFFF;\n",
              "      }\n",
              "    </style>\n",
              "    <button class=\"colab-df-generate\" onclick=\"generateWithVariable('num_metrics')\"\n",
              "            title=\"Generate code using this dataframe.\"\n",
              "            style=\"display:none;\">\n",
              "\n",
              "  <svg xmlns=\"http://www.w3.org/2000/svg\" height=\"24px\"viewBox=\"0 0 24 24\"\n",
              "       width=\"24px\">\n",
              "    <path d=\"M7,19H8.4L18.45,9,17,7.55,7,17.6ZM5,21V16.75L18.45,3.32a2,2,0,0,1,2.83,0l1.4,1.43a1.91,1.91,0,0,1,.58,1.4,1.91,1.91,0,0,1-.58,1.4L9.25,21ZM18.45,9,17,7.55Zm-12,3A5.31,5.31,0,0,0,4.9,8.1,5.31,5.31,0,0,0,1,6.5,5.31,5.31,0,0,0,4.9,4.9,5.31,5.31,0,0,0,6.5,1,5.31,5.31,0,0,0,8.1,4.9,5.31,5.31,0,0,0,12,6.5,5.46,5.46,0,0,0,6.5,12Z\"/>\n",
              "  </svg>\n",
              "    </button>\n",
              "    <script>\n",
              "      (() => {\n",
              "      const buttonEl =\n",
              "        document.querySelector('#id_a1c4cd6e-1645-42c5-8bb8-42ee69b474a9 button.colab-df-generate');\n",
              "      buttonEl.style.display =\n",
              "        google.colab.kernel.accessAllowed ? 'block' : 'none';\n",
              "\n",
              "      buttonEl.onclick = () => {\n",
              "        google.colab.notebook.generateWithVariable('num_metrics');\n",
              "      }\n",
              "      })();\n",
              "    </script>\n",
              "  </div>\n",
              "\n",
              "    </div>\n",
              "  </div>\n"
            ],
            "application/vnd.google.colaboratory.intrinsic+json": {
              "type": "dataframe",
              "variable_name": "num_metrics",
              "summary": "{\n  \"name\": \"num_metrics\",\n  \"rows\": 19,\n  \"fields\": [\n    {\n      \"column\": \"attributes\",\n      \"properties\": {\n        \"dtype\": \"string\",\n        \"num_unique_values\": 19,\n        \"samples\": [\n          \"price\",\n          \"floors\",\n          \"sqft_basement\"\n        ],\n        \"semantic_type\": \"\",\n        \"description\": \"\"\n      }\n    },\n    {\n      \"column\": \"min\",\n      \"properties\": {\n        \"dtype\": \"number\",\n        \"std\": 40506.32347827308,\n        \"min\": -122.451,\n        \"max\": 153000.0,\n        \"num_unique_values\": 14,\n        \"samples\": [\n          98001.0,\n          -122.451,\n          153000.0\n        ],\n        \"semantic_type\": \"\",\n        \"description\": \"\"\n      }\n    },\n    {\n      \"column\": \"max\",\n      \"properties\": {\n        \"dtype\": \"number\",\n        \"std\": 456220.6916354149,\n        \"min\": -121.714,\n        \"max\": 2000000.0,\n        \"num_unique_values\": 18,\n        \"samples\": [\n          2000000.0,\n          5.0,\n          11.0\n        ],\n        \"semantic_type\": \"\",\n        \"description\": \"\"\n      }\n    },\n    {\n      \"column\": \"range\",\n      \"properties\": {\n        \"dtype\": \"number\",\n        \"std\": 422165.3605879313,\n        \"min\": 0.4660999999999973,\n        \"max\": 1847000.0,\n        \"num_unique_values\": 18,\n        \"samples\": [\n          1847000.0,\n          3.0,\n          6.0\n        ],\n        \"semantic_type\": \"\",\n        \"description\": \"\"\n      }\n    },\n    {\n      \"column\": \"mean\",\n      \"properties\": {\n        \"dtype\": \"number\",\n        \"std\": 119549.70001753337,\n        \"min\": -122.22963000000001,\n        \"max\": 519149.35,\n        \"num_unique_values\": 19,\n        \"samples\": [\n          519149.35,\n          1.47,\n          324.03\n        ],\n        \"semantic_type\": \"\",\n        \"description\": \"\"\n      }\n    },\n    {\n      \"column\": \"median\",\n      \"properties\": {\n        \"dtype\": \"number\",\n        \"std\": 100492.78289975233,\n        \"min\": -122.267,\n        \"max\": 433750.0,\n        \"num_unique_values\": 15,\n        \"samples\": [\n          1967.5,\n          47.573049999999995,\n          433750.0\n        ],\n        \"semantic_type\": \"\",\n        \"description\": \"\"\n      }\n    },\n    {\n      \"column\": \"std\",\n      \"properties\": {\n        \"dtype\": \"number\",\n        \"std\": 69239.26449266315,\n        \"min\": 0.09949874371066199,\n        \"max\": 302975.3581924237,\n        \"num_unique_values\": 19,\n        \"samples\": [\n          302975.3581924237,\n          0.5090186637049765,\n          467.7320270197456\n        ],\n        \"semantic_type\": \"\",\n        \"description\": \"\"\n      }\n    },\n    {\n      \"column\": \"skew\",\n      \"properties\": {\n        \"dtype\": \"number\",\n        \"std\": 2.576672028589678,\n        \"min\": -0.3341223310900868,\n        \"max\": 9.999999999999998,\n        \"num_unique_values\": 19,\n        \"samples\": [\n          1.8255346212208772,\n          0.5838793069295826,\n          1.3875152419764722\n        ],\n        \"semantic_type\": \"\",\n        \"description\": \"\"\n      }\n    },\n    {\n      \"column\": \"kurtosis\",\n      \"properties\": {\n        \"dtype\": \"number\",\n        \"std\": 23.602262198801906,\n        \"min\": -1.334426800300521,\n        \"max\": 100.00000000000006,\n        \"num_unique_values\": 19,\n        \"samples\": [\n          5.118092315921146,\n          -0.5438300288198041,\n          1.123020242121608\n        ],\n        \"semantic_type\": \"\",\n        \"description\": \"\"\n      }\n    }\n  ]\n}"
            }
          },
          "metadata": {},
          "execution_count": 28
        }
      ],
      "source": [
        "num_metrics"
      ]
    },
    {
      "cell_type": "markdown",
      "metadata": {
        "id": "ZFf1bdYAu9oS"
      },
      "source": [
        "##### Cathegorical Attributes"
      ]
    },
    {
      "cell_type": "code",
      "execution_count": 30,
      "metadata": {
        "id": "gm6LkvsMvHSq",
        "colab": {
          "base_uri": "https://localhost:8080/",
          "height": 112
        },
        "outputId": "a4c4d367-ad09-4cb1-a2b0-c89d50e6f592"
      },
      "outputs": [
        {
          "output_type": "execute_result",
          "data": {
            "text/plain": [
              "               date\n",
              "28  20140624T000000\n",
              "26  20140626T000000"
            ],
            "text/html": [
              "\n",
              "  <div id=\"df-573b6563-c8cd-44e3-889f-8987995b7a3b\" class=\"colab-df-container\">\n",
              "    <div>\n",
              "<style scoped>\n",
              "    .dataframe tbody tr th:only-of-type {\n",
              "        vertical-align: middle;\n",
              "    }\n",
              "\n",
              "    .dataframe tbody tr th {\n",
              "        vertical-align: top;\n",
              "    }\n",
              "\n",
              "    .dataframe thead th {\n",
              "        text-align: right;\n",
              "    }\n",
              "</style>\n",
              "<table border=\"1\" class=\"dataframe\">\n",
              "  <thead>\n",
              "    <tr style=\"text-align: right;\">\n",
              "      <th></th>\n",
              "      <th>date</th>\n",
              "    </tr>\n",
              "  </thead>\n",
              "  <tbody>\n",
              "    <tr>\n",
              "      <th>28</th>\n",
              "      <td>20140624T000000</td>\n",
              "    </tr>\n",
              "    <tr>\n",
              "      <th>26</th>\n",
              "      <td>20140626T000000</td>\n",
              "    </tr>\n",
              "  </tbody>\n",
              "</table>\n",
              "</div>\n",
              "    <div class=\"colab-df-buttons\">\n",
              "\n",
              "  <div class=\"colab-df-container\">\n",
              "    <button class=\"colab-df-convert\" onclick=\"convertToInteractive('df-573b6563-c8cd-44e3-889f-8987995b7a3b')\"\n",
              "            title=\"Convert this dataframe to an interactive table.\"\n",
              "            style=\"display:none;\">\n",
              "\n",
              "  <svg xmlns=\"http://www.w3.org/2000/svg\" height=\"24px\" viewBox=\"0 -960 960 960\">\n",
              "    <path d=\"M120-120v-720h720v720H120Zm60-500h600v-160H180v160Zm220 220h160v-160H400v160Zm0 220h160v-160H400v160ZM180-400h160v-160H180v160Zm440 0h160v-160H620v160ZM180-180h160v-160H180v160Zm440 0h160v-160H620v160Z\"/>\n",
              "  </svg>\n",
              "    </button>\n",
              "\n",
              "  <style>\n",
              "    .colab-df-container {\n",
              "      display:flex;\n",
              "      gap: 12px;\n",
              "    }\n",
              "\n",
              "    .colab-df-convert {\n",
              "      background-color: #E8F0FE;\n",
              "      border: none;\n",
              "      border-radius: 50%;\n",
              "      cursor: pointer;\n",
              "      display: none;\n",
              "      fill: #1967D2;\n",
              "      height: 32px;\n",
              "      padding: 0 0 0 0;\n",
              "      width: 32px;\n",
              "    }\n",
              "\n",
              "    .colab-df-convert:hover {\n",
              "      background-color: #E2EBFA;\n",
              "      box-shadow: 0px 1px 2px rgba(60, 64, 67, 0.3), 0px 1px 3px 1px rgba(60, 64, 67, 0.15);\n",
              "      fill: #174EA6;\n",
              "    }\n",
              "\n",
              "    .colab-df-buttons div {\n",
              "      margin-bottom: 4px;\n",
              "    }\n",
              "\n",
              "    [theme=dark] .colab-df-convert {\n",
              "      background-color: #3B4455;\n",
              "      fill: #D2E3FC;\n",
              "    }\n",
              "\n",
              "    [theme=dark] .colab-df-convert:hover {\n",
              "      background-color: #434B5C;\n",
              "      box-shadow: 0px 1px 3px 1px rgba(0, 0, 0, 0.15);\n",
              "      filter: drop-shadow(0px 1px 2px rgba(0, 0, 0, 0.3));\n",
              "      fill: #FFFFFF;\n",
              "    }\n",
              "  </style>\n",
              "\n",
              "    <script>\n",
              "      const buttonEl =\n",
              "        document.querySelector('#df-573b6563-c8cd-44e3-889f-8987995b7a3b button.colab-df-convert');\n",
              "      buttonEl.style.display =\n",
              "        google.colab.kernel.accessAllowed ? 'block' : 'none';\n",
              "\n",
              "      async function convertToInteractive(key) {\n",
              "        const element = document.querySelector('#df-573b6563-c8cd-44e3-889f-8987995b7a3b');\n",
              "        const dataTable =\n",
              "          await google.colab.kernel.invokeFunction('convertToInteractive',\n",
              "                                                    [key], {});\n",
              "        if (!dataTable) return;\n",
              "\n",
              "        const docLinkHtml = 'Like what you see? Visit the ' +\n",
              "          '<a target=\"_blank\" href=https://colab.research.google.com/notebooks/data_table.ipynb>data table notebook</a>'\n",
              "          + ' to learn more about interactive tables.';\n",
              "        element.innerHTML = '';\n",
              "        dataTable['output_type'] = 'display_data';\n",
              "        await google.colab.output.renderOutput(dataTable, element);\n",
              "        const docLink = document.createElement('div');\n",
              "        docLink.innerHTML = docLinkHtml;\n",
              "        element.appendChild(docLink);\n",
              "      }\n",
              "    </script>\n",
              "  </div>\n",
              "\n",
              "\n",
              "<div id=\"df-59b1e915-33d0-4fc4-9be8-8b4ab5779780\">\n",
              "  <button class=\"colab-df-quickchart\" onclick=\"quickchart('df-59b1e915-33d0-4fc4-9be8-8b4ab5779780')\"\n",
              "            title=\"Suggest charts\"\n",
              "            style=\"display:none;\">\n",
              "\n",
              "<svg xmlns=\"http://www.w3.org/2000/svg\" height=\"24px\"viewBox=\"0 0 24 24\"\n",
              "     width=\"24px\">\n",
              "    <g>\n",
              "        <path d=\"M19 3H5c-1.1 0-2 .9-2 2v14c0 1.1.9 2 2 2h14c1.1 0 2-.9 2-2V5c0-1.1-.9-2-2-2zM9 17H7v-7h2v7zm4 0h-2V7h2v10zm4 0h-2v-4h2v4z\"/>\n",
              "    </g>\n",
              "</svg>\n",
              "  </button>\n",
              "\n",
              "<style>\n",
              "  .colab-df-quickchart {\n",
              "      --bg-color: #E8F0FE;\n",
              "      --fill-color: #1967D2;\n",
              "      --hover-bg-color: #E2EBFA;\n",
              "      --hover-fill-color: #174EA6;\n",
              "      --disabled-fill-color: #AAA;\n",
              "      --disabled-bg-color: #DDD;\n",
              "  }\n",
              "\n",
              "  [theme=dark] .colab-df-quickchart {\n",
              "      --bg-color: #3B4455;\n",
              "      --fill-color: #D2E3FC;\n",
              "      --hover-bg-color: #434B5C;\n",
              "      --hover-fill-color: #FFFFFF;\n",
              "      --disabled-bg-color: #3B4455;\n",
              "      --disabled-fill-color: #666;\n",
              "  }\n",
              "\n",
              "  .colab-df-quickchart {\n",
              "    background-color: var(--bg-color);\n",
              "    border: none;\n",
              "    border-radius: 50%;\n",
              "    cursor: pointer;\n",
              "    display: none;\n",
              "    fill: var(--fill-color);\n",
              "    height: 32px;\n",
              "    padding: 0;\n",
              "    width: 32px;\n",
              "  }\n",
              "\n",
              "  .colab-df-quickchart:hover {\n",
              "    background-color: var(--hover-bg-color);\n",
              "    box-shadow: 0 1px 2px rgba(60, 64, 67, 0.3), 0 1px 3px 1px rgba(60, 64, 67, 0.15);\n",
              "    fill: var(--button-hover-fill-color);\n",
              "  }\n",
              "\n",
              "  .colab-df-quickchart-complete:disabled,\n",
              "  .colab-df-quickchart-complete:disabled:hover {\n",
              "    background-color: var(--disabled-bg-color);\n",
              "    fill: var(--disabled-fill-color);\n",
              "    box-shadow: none;\n",
              "  }\n",
              "\n",
              "  .colab-df-spinner {\n",
              "    border: 2px solid var(--fill-color);\n",
              "    border-color: transparent;\n",
              "    border-bottom-color: var(--fill-color);\n",
              "    animation:\n",
              "      spin 1s steps(1) infinite;\n",
              "  }\n",
              "\n",
              "  @keyframes spin {\n",
              "    0% {\n",
              "      border-color: transparent;\n",
              "      border-bottom-color: var(--fill-color);\n",
              "      border-left-color: var(--fill-color);\n",
              "    }\n",
              "    20% {\n",
              "      border-color: transparent;\n",
              "      border-left-color: var(--fill-color);\n",
              "      border-top-color: var(--fill-color);\n",
              "    }\n",
              "    30% {\n",
              "      border-color: transparent;\n",
              "      border-left-color: var(--fill-color);\n",
              "      border-top-color: var(--fill-color);\n",
              "      border-right-color: var(--fill-color);\n",
              "    }\n",
              "    40% {\n",
              "      border-color: transparent;\n",
              "      border-right-color: var(--fill-color);\n",
              "      border-top-color: var(--fill-color);\n",
              "    }\n",
              "    60% {\n",
              "      border-color: transparent;\n",
              "      border-right-color: var(--fill-color);\n",
              "    }\n",
              "    80% {\n",
              "      border-color: transparent;\n",
              "      border-right-color: var(--fill-color);\n",
              "      border-bottom-color: var(--fill-color);\n",
              "    }\n",
              "    90% {\n",
              "      border-color: transparent;\n",
              "      border-bottom-color: var(--fill-color);\n",
              "    }\n",
              "  }\n",
              "</style>\n",
              "\n",
              "  <script>\n",
              "    async function quickchart(key) {\n",
              "      const quickchartButtonEl =\n",
              "        document.querySelector('#' + key + ' button');\n",
              "      quickchartButtonEl.disabled = true;  // To prevent multiple clicks.\n",
              "      quickchartButtonEl.classList.add('colab-df-spinner');\n",
              "      try {\n",
              "        const charts = await google.colab.kernel.invokeFunction(\n",
              "            'suggestCharts', [key], {});\n",
              "      } catch (error) {\n",
              "        console.error('Error during call to suggestCharts:', error);\n",
              "      }\n",
              "      quickchartButtonEl.classList.remove('colab-df-spinner');\n",
              "      quickchartButtonEl.classList.add('colab-df-quickchart-complete');\n",
              "    }\n",
              "    (() => {\n",
              "      let quickchartButtonEl =\n",
              "        document.querySelector('#df-59b1e915-33d0-4fc4-9be8-8b4ab5779780 button');\n",
              "      quickchartButtonEl.style.display =\n",
              "        google.colab.kernel.accessAllowed ? 'block' : 'none';\n",
              "    })();\n",
              "  </script>\n",
              "</div>\n",
              "\n",
              "    </div>\n",
              "  </div>\n"
            ],
            "application/vnd.google.colaboratory.intrinsic+json": {
              "type": "dataframe",
              "repr_error": "0"
            }
          },
          "metadata": {},
          "execution_count": 30
        }
      ],
      "source": [
        "cat_attributes = df.select_dtypes(exclude=['int64', 'float64'])\n",
        "cat_attributes.sample(2)"
      ]
    },
    {
      "cell_type": "code",
      "execution_count": 31,
      "metadata": {
        "id": "1ZtYH3rnvjdU",
        "colab": {
          "base_uri": "https://localhost:8080/"
        },
        "outputId": "afaf21b5-c2b6-489c-b004-b3bb287b8267"
      },
      "outputs": [
        {
          "output_type": "stream",
          "name": "stdout",
          "text": [
            "- Distinct values:\n",
            "date    86\n",
            "dtype: int64 \n",
            "\n",
            "- Variations:\n",
            "               date\n",
            "0   20141013T000000\n",
            "1   20141209T000000\n",
            "2   20150225T000000\n",
            "3   20150218T000000\n",
            "4   20140512T000000\n",
            "..              ...\n",
            "81  20140725T000000\n",
            "82  20141223T000000\n",
            "83  20140908T000000\n",
            "84  20150330T000000\n",
            "85  20140711T000000\n",
            "\n",
            "[86 rows x 1 columns] \n"
          ]
        }
      ],
      "source": [
        "#variations of each cat column\n",
        "pd.set_option('max_colwidth', 150)\n",
        "print(f\"- Distinct values:\\n{cat_attributes.apply( lambda x: x.unique().shape[0] ) } \\n\" )\n",
        "print(f\"- Variations:\\n{cat_attributes.apply( lambda x: x.unique() ) } \" )"
      ]
    },
    {
      "cell_type": "markdown",
      "source": [
        "#### Histogram"
      ],
      "metadata": {
        "id": "okmeSaSDbogv"
      }
    },
    {
      "cell_type": "markdown",
      "source": [
        "Histograma: é uma tabela de frequências divididas em bins iguais.\n",
        "- Bins da var no eixo x, contagem no y.\n",
        "- Essa binarização pode ajudar a descobrir relação entre features."
      ],
      "metadata": {
        "id": "om3Y7UmmeFjU"
      }
    },
    {
      "cell_type": "code",
      "source": [
        "plt.figure(figsize=(10, 5))\n",
        "ax = sns.histplot(df['price'], bins=20, kde=False)\n",
        "plt.title('Distribuição de valores de casas')\n",
        "plt.xlabel('Preço')\n",
        "plt.ylabel('Frequência')\n",
        "plt.ticklabel_format(style='plain', axis='x')\n",
        "# Adicionando legendas no topo das barras\n",
        "for p in ax.patches:\n",
        "    ax.annotate(f'{p.get_height()}', (p.get_x() + p.get_width() / 2, p.get_height()),\n",
        "                ha='center', va='center', fontsize=10, color='black', xytext=(0, 5),\n",
        "                textcoords='offset points')\n",
        "plt.show()"
      ],
      "metadata": {
        "colab": {
          "base_uri": "https://localhost:8080/",
          "height": 487
        },
        "id": "6hl1oAeeLEXp",
        "outputId": "8b970c4d-f0b9-4d20-e502-4e8cc238b478"
      },
      "execution_count": null,
      "outputs": [
        {
          "output_type": "display_data",
          "data": {
            "text/plain": [
              "<Figure size 1000x500 with 1 Axes>"
            ],
            "image/png": "[encoded data removed]"
          },
          "metadata": {}
        }
      ]
    },
    {
      "cell_type": "markdown",
      "source": [
        "#### Skew"
      ],
      "metadata": {
        "id": "EP4fO7x-b5t8"
      }
    },
    {
      "cell_type": "markdown",
      "source": [
        "Assimetria (skew): indica se var está concentrada em valores maiores ou menores.\n",
        "- Skew negativa: se desloc p/ direita (pico na direita): concentração dos valores é alta.\n",
        "- Skew positiva: se desloc p/ esqueda: concentração dos valores é baixa.\n",
        "- Uma distr. normal não tem skew: média = mediana.\n",
        "- Var no eixo x, densidade da probabilidade no eixo y.\n",
        " - Densidade de probabilidade: é uma medida da probabilidade de que a variável aleatória tenha um valor próximo a um ponto específico. Quanto maior a densidade em um ponto, maior a probabilidade de encontrar observações próximas a esse valor.\n",
        "- Plotar através de um gráfico de densidade, que é uma versão simplificada de um histograma."
      ],
      "metadata": {
        "id": "EZ8s2aGNMnC_"
      }
    },
    {
      "cell_type": "code",
      "source": [
        "# Plotar a assimetria da variável 'price'\n",
        "plt.figure(figsize=(9, 5))\n",
        "sns.kdeplot(df['price'], fill=True)\n",
        "plt.ticklabel_format(style='plain', axis='x')\n",
        "plt.title('Curva de Densidade de Preços')\n",
        "plt.xlabel('Preços')\n",
        "plt.ylabel('Densidade de Probabilidade')\n",
        "plt.show()\n",
        "#1 × 10^(-6) = 1 ÷ 10^6 = 1 ÷ 1,000,000 = 0.000001"
      ],
      "metadata": {
        "colab": {
          "base_uri": "https://localhost:8080/",
          "height": 487
        },
        "id": "tekgfNZOMe2G",
        "outputId": "2d8d5498-9a08-4ec5-9a7b-12544bfa73d1"
      },
      "execution_count": null,
      "outputs": [
        {
          "output_type": "display_data",
          "data": {
            "text/plain": [
              "<Figure size 900x500 with 1 Axes>"
            ],
            "image/png": "[encoded data removed]"
          },
          "metadata": {}
        }
      ]
    },
    {
      "cell_type": "code",
      "source": [
        "#skew de bedrooms:\n",
        "df.bedrooms.skew().round(2)"
      ],
      "metadata": {
        "colab": {
          "base_uri": "https://localhost:8080/"
        },
        "id": "dP0CZCpuPO8k",
        "outputId": "d5e34e01-6846-49ee-ed46-53c506f331cb"
      },
      "execution_count": null,
      "outputs": [
        {
          "output_type": "execute_result",
          "data": {
            "text/plain": [
              "0.4"
            ]
          },
          "metadata": {},
          "execution_count": 17
        }
      ]
    },
    {
      "cell_type": "markdown",
      "source": [
        "Interpretação:\n",
        "- Curva deslocada para esquerda, logo concentração dos valores é baixa. Skew é positiva.\n",
        "- A densidade de probabilidades é mais alta em torno de $400k, logo é maior a probabilidade de encontrarmos preços próximos a esse valor.  "
      ],
      "metadata": {
        "id": "wumUIBC2P8dA"
      }
    },
    {
      "cell_type": "markdown",
      "source": [
        "#### Kurtosis"
      ],
      "metadata": {
        "id": "gKcwbbHGb9FN"
      }
    },
    {
      "cell_type": "markdown",
      "source": [
        "Kurtose: propensão dos dados terem valores extremos (achatamento da curva)\n",
        "- Positiva: pico extremo, cauda longa\n",
        "- Negativa: pico baixo, cauda curta\n",
        "- Próx a zero: distribuição noramal"
      ],
      "metadata": {
        "id": "CRjls2jFQiUn"
      }
    },
    {
      "cell_type": "code",
      "source": [
        "df.price.kurt()"
      ],
      "metadata": {
        "colab": {
          "base_uri": "https://localhost:8080/"
        },
        "id": "puwRgpL-RUJx",
        "outputId": "ea45e1fc-0d96-4506-8759-798a7edd847c"
      },
      "execution_count": null,
      "outputs": [
        {
          "output_type": "execute_result",
          "data": {
            "text/plain": [
              "5.118092315921146"
            ]
          },
          "metadata": {},
          "execution_count": 18
        }
      ]
    },
    {
      "cell_type": "markdown",
      "source": [
        "O gráfico de densidade mais acima já mostra a kurtose, que é alta, indicando a existência de valores extremos.\n",
        "\n",
        "Para plotar tanto a distribuição como a densidade, usar kde=True no histplot:"
      ],
      "metadata": {
        "id": "tnmRUeMcRY85"
      }
    },
    {
      "cell_type": "code",
      "source": [
        "plt.figure(figsize=(10, 6))\n",
        "ax = sns.histplot(df['price'], bins=30, kde=True)\n",
        "plt.title('Histograma - Distribuição de preços com Curva de Densidade')\n",
        "plt.xlabel('Preços')\n",
        "plt.ylabel('Frequência / Densidade')\n",
        "plt.ticklabel_format(style='plain', axis='x')\n",
        "# Adicionando legendas no topo das barras\n",
        "for p in ax.patches:\n",
        "    ax.annotate(f'{p.get_height()}', (p.get_x() + p.get_width() / 2, p.get_height()),\n",
        "                ha='center', va='center', fontsize=10, color='black', xytext=(0, 5),\n",
        "                textcoords='offset points')\n",
        "plt.show()"
      ],
      "metadata": {
        "colab": {
          "base_uri": "https://localhost:8080/",
          "height": 564
        },
        "id": "sPQ0NDuRUhWo",
        "outputId": "b9c70b07-8982-4cba-d44b-09b79d2adc3e"
      },
      "execution_count": null,
      "outputs": [
        {
          "output_type": "display_data",
          "data": {
            "text/plain": [
              "<Figure size 1000x600 with 1 Axes>"
            ],
            "image/png": "[encoded data removed]"
          },
          "metadata": {}
        }
      ]
    },
    {
      "cell_type": "markdown",
      "source": [
        "É possível ver acima a distribuição de frequencias, a skew e a curtose da variável 'price'."
      ],
      "metadata": {
        "id": "ydfFthx8Xw7Q"
      }
    },
    {
      "cell_type": "markdown",
      "metadata": {
        "id": "SPIq-IDgp1Oj"
      },
      "source": [
        "### Plots - Bi e Multivariada\n",
        "\n"
      ]
    },
    {
      "cell_type": "markdown",
      "metadata": {
        "id": "m_0EEZA6pKYc"
      },
      "source": [
        "- Análise Bivariada: analisa 2 vars. Ex: correlação, gráfico dispersão.\n",
        "- Análise Multivariada: analisa 3 ou + vars. Ex:"
      ]
    },
    {
      "cell_type": "markdown",
      "source": [
        "#### Correlation"
      ],
      "metadata": {
        "id": "HeoC_Q0xczYg"
      }
    },
    {
      "cell_type": "markdown",
      "source": [
        "Correlação: entre vars preditoras, e entre preditoras e var alvo:\n",
        "- Vars X e Y são correlacionadas, se valores altos de X acompanharem valores altos de Y.\n",
        "- Idem pra baixos. Se valores altos de x acompanharem valores baixo de Y, são negativamente correlacionadas.  "
      ],
      "metadata": {
        "id": "TwgP3synlZJB"
      }
    },
    {
      "cell_type": "markdown",
      "source": [
        "##### Pearson (num x num)"
      ],
      "metadata": {
        "id": "gkmm1UbvloWW"
      }
    },
    {
      "cell_type": "markdown",
      "source": [
        "Coeficiente de corr de Pearson: mede a força e a direção da relação linear entre duas vars numéricas.\n",
        "- Interpretação: 1=corr perfeita. -1=corr negativa perfeita. 0=ausência de corr.\n",
        "- Premissas:\n",
        " - Variáveis contínuas: não é apropriado para vars categóricas ou ordinais. Sendo contínuas, as variávies podem estar em escalas diferentes.\n",
        " - Linearidade: vars tem relação linear, ou seja, ao plotar um scatterplot, pontos devem formar um padrão que possa ser aproximado por uma reta. (ver via scatterplot)\n",
        " - Ausência de outliers influentes: podem influenciar no cálculo. (ver também via scatterplot)\n",
        " - Normalidade: variávies devem seguir uma distr. normal. Isso é mais importante para a significância estatística, e menos para a interpretação do valor do coeficiente. (ver via scipy.stats.shapiro ou scipy.stats.kstest)\n",
        " - Homocedasticidade: o espalhamento dos pontos ao longo da linha de regressão deve ser homogêneo. (ver via gráfico de resíduos)\n",
        " - Independência dos dados: os dados de X e Y devem ser independentes. (ver via conhec. negócio)\n",
        "\n",
        "\n"
      ],
      "metadata": {
        "id": "fTF1ZGwNjxc-"
      }
    },
    {
      "cell_type": "code",
      "source": [
        "# Existe correlação entre o ano de construção e o tamanho do metro quadrado construído?\n",
        "# Cálculo do coeficiente de correlação de Pearson\n",
        "df['yr_built'].corr(df['sqft_lot'])"
      ],
      "metadata": {
        "colab": {
          "base_uri": "https://localhost:8080/"
        },
        "id": "jQA0ryLAn6sa",
        "outputId": "eac07832-dbb5-4f6d-9559-a8e091f1bc4a"
      },
      "execution_count": null,
      "outputs": [
        {
          "output_type": "execute_result",
          "data": {
            "text/plain": [
              "0.12409744324352504"
            ]
          },
          "metadata": {},
          "execution_count": 46
        }
      ]
    },
    {
      "cell_type": "markdown",
      "source": [
        "O resultado indica que há bem pouca correlação entre o ano de construção e o tamanho do metro quadrado construído.\n",
        "\n",
        "OBS: não observei se as premissas foram atendidas."
      ],
      "metadata": {
        "id": "CmWl3EhComfT"
      }
    },
    {
      "cell_type": "code",
      "source": [
        "# Cálculo da matriz de correlação\n",
        "matriz_correlacao = df[['yr_built','sqft_lot','sqft_above','price']].corr()\n",
        "\n",
        "# Plotando a matriz de correlação com seaborn\n",
        "plt.figure(figsize=(6, 4))\n",
        "sns.heatmap(matriz_correlacao, annot=True, cmap='coolwarm', center=0)\n",
        "plt.title('Matriz de Correlação de Pearson')\n",
        "plt.show()"
      ],
      "metadata": {
        "colab": {
          "base_uri": "https://localhost:8080/",
          "height": 391
        },
        "id": "wCodyWJDolaf",
        "outputId": "220657bf-fa38-456a-d3e4-6dccd0b96978"
      },
      "execution_count": 62,
      "outputs": [
        {
          "output_type": "display_data",
          "data": {
            "text/plain": [
              "<Figure size 600x400 with 2 Axes>"
            ],
            "image/png": "[encoded data removed]"
          },
          "metadata": {}
        }
      ]
    },
    {
      "cell_type": "markdown",
      "source": [
        "O resultado indica que há uma correlação média entre o preço e a metragem do porão.\n",
        "OBS: não observei se as premissas foram atendidas."
      ],
      "metadata": {
        "id": "Bb2EE33OqYOu"
      }
    },
    {
      "cell_type": "markdown",
      "source": [
        "##### Spearman (cat x num)"
      ],
      "metadata": {
        "id": "zeeTzsEq2qx5"
      }
    },
    {
      "cell_type": "markdown",
      "source": [
        "Coeficiente de correlação de Spearman (ρ (rho)): mostra a associação entre vars por meio de uma função não linear.\n",
        "- Outras abordagens: Goodman Kruskal’s Gamma, Kendall’s Tau, Somers’ D.\n",
        "- Mede a relação monotônica entre duas variávis: se aumentando x, aumenta y, ou se aumentando x, diminui y, ou se são independentes (sem relação nonotônica.).\n",
        "\n",
        "Premissas:\n",
        "- não requer que as variáveis sejam quantitativas\n",
        "- não requer que a relação entre as vars seja linear\n",
        "- pode ser usado para as variáveis medidas no nível ordinal\n",
        "- indiferente a outliers\n",
        "\n",
        "Requisitos:\n",
        "- Se uma ou ambas as variáveis são ordinais (qualitativas), então use Spearman.\n",
        "- Ref: #https://www.inf.ufsc.br/~vera.carmo/Correlacao/Correlacao_Pearson_Spearman_Kendall.pdf\n"
      ],
      "metadata": {
        "id": "N7sh3vRsmG3q"
      }
    },
    {
      "cell_type": "code",
      "source": [
        "# Existe correlação entre o ano de construção e o tamanho do metro quadrado construído?\n",
        "# Cálculo do coeficiente de correlação de Spearman\n",
        "df['yr_built'].corr(df['sqft_lot'], method='spearman')"
      ],
      "metadata": {
        "colab": {
          "base_uri": "https://localhost:8080/"
        },
        "id": "PvA4RrmYpAMv",
        "outputId": "e4dbcb79-c505-4066-b67f-98269f85f38a"
      },
      "execution_count": 64,
      "outputs": [
        {
          "output_type": "execute_result",
          "data": {
            "text/plain": [
              "0.0934247019683678"
            ]
          },
          "metadata": {},
          "execution_count": 64
        }
      ]
    },
    {
      "cell_type": "markdown",
      "source": [
        "O resultado indica que há bem pouca correlação entre o ano de construção e o tamanho do metro quadrado construído.\n",
        "\n",
        "Agora, a premissão foi atendida. Realmente a correlação entre as vars é bem baixa."
      ],
      "metadata": {
        "id": "8kC9GzXIpbj2"
      }
    },
    {
      "cell_type": "markdown",
      "source": [
        "#### Correlation Matrix"
      ],
      "metadata": {
        "id": "phDwQbyHYQo3"
      }
    },
    {
      "cell_type": "markdown",
      "source": [
        "#### Scatterplot (num x num)"
      ],
      "metadata": {
        "id": "a7rgyLjSZAWv"
      }
    },
    {
      "cell_type": "markdown",
      "source": [
        "Gráfico de Dispersão (scatterplot): mostra o relacionamento entre duas variáveis.\n",
        "- Bom para um número pequeno de amostras. Usar colmeia se grande.\n",
        "- Ex: ver a correlação entre yr_built e price:"
      ],
      "metadata": {
        "id": "BCSpgh4UdQDG"
      }
    },
    {
      "cell_type": "code",
      "source": [
        "# Regplot para preço vs ano de construção\n",
        "  #Regplot = Scatterplot com linha de regressão, comum pois a reta de regressão ajuda a identificar padrões leneares nos dados.\n",
        "plt.figure(figsize=(9, 5))\n",
        "#plt.scatter(df['yr_built'], df['price'], color='green', label='Preço', alpha=0.5)\n",
        "sns.regplot(x='yr_built', y='price', data=df, scatter_kws={'color': 'green', 'alpha': 0.6}, line_kws={'color': 'blue'})  #scatter + linha de regressão\n",
        "plt.ticklabel_format(style='plain', axis='y')\n",
        "plt.title(\"Scatterplot - Relação entre Preço e Ano de Construção\")\n",
        "plt.xlabel(\"Ano de Construção\")\n",
        "plt.ylabel(\"Preço\")\n",
        "plt.show()"
      ],
      "metadata": {
        "colab": {
          "base_uri": "https://localhost:8080/",
          "height": 487
        },
        "id": "d8oJiNF0dUZe",
        "outputId": "affcba36-45eb-4dd6-9615-49fc77bf1392"
      },
      "execution_count": null,
      "outputs": [
        {
          "output_type": "display_data",
          "data": {
            "text/plain": [
              "<Figure size 900x500 with 1 Axes>"
            ],
            "image/png": "[encoded data removed]"
          },
          "metadata": {}
        }
      ]
    },
    {
      "cell_type": "markdown",
      "source": [
        "Considerando a relação entre preço e ano de construção, não é visível uma tendência de aumento de preço, ao longo do tempo."
      ],
      "metadata": {
        "id": "enyECetViVCc"
      }
    },
    {
      "cell_type": "markdown",
      "source": [
        "#### Contingency table (cat x cat)"
      ],
      "metadata": {
        "id": "Hc3jLPVbZJDA"
      }
    },
    {
      "cell_type": "markdown",
      "source": [
        "Tabela de contingência: avalia a correlação entre variáveis categóricas\n",
        "- Qual a correlação entre o número de quartos e a nota?"
      ],
      "metadata": {
        "id": "OkaJTp4nM4z3"
      }
    },
    {
      "cell_type": "code",
      "source": [
        "#Tabela de contingência\n",
        "pd.crosstab( df['bedrooms'], df['grade'] )"
      ],
      "metadata": {
        "colab": {
          "base_uri": "https://localhost:8080/",
          "height": 206
        },
        "id": "NYq-yuJjNAjn",
        "outputId": "bd13f754-cbe1-4a58-860a-6005bbc82972"
      },
      "execution_count": null,
      "outputs": [
        {
          "output_type": "execute_result",
          "data": {
            "text/plain": [
              "grade     5   6   7   8   9   10  11\n",
              "bedrooms                            \n",
              "2          0   1   8   0   0   0   0\n",
              "3          0   4  26  17   5   0   0\n",
              "4          1   0  14   6   4   3   1\n",
              "5          0   0   2   5   1   1   1"
            ],
            "text/html": [
              "\n",
              "  <div id=\"df-6c92f9ef-0fa6-4fed-933d-a4e29221497d\" class=\"colab-df-container\">\n",
              "    <div>\n",
              "<style scoped>\n",
              "    .dataframe tbody tr th:only-of-type {\n",
              "        vertical-align: middle;\n",
              "    }\n",
              "\n",
              "    .dataframe tbody tr th {\n",
              "        vertical-align: top;\n",
              "    }\n",
              "\n",
              "    .dataframe thead th {\n",
              "        text-align: right;\n",
              "    }\n",
              "</style>\n",
              "<table border=\"1\" class=\"dataframe\">\n",
              "  <thead>\n",
              "    <tr style=\"text-align: right;\">\n",
              "      <th>grade</th>\n",
              "      <th>5</th>\n",
              "      <th>6</th>\n",
              "      <th>7</th>\n",
              "      <th>8</th>\n",
              "      <th>9</th>\n",
              "      <th>10</th>\n",
              "      <th>11</th>\n",
              "    </tr>\n",
              "    <tr>\n",
              "      <th>bedrooms</th>\n",
              "      <th></th>\n",
              "      <th></th>\n",
              "      <th></th>\n",
              "      <th></th>\n",
              "      <th></th>\n",
              "      <th></th>\n",
              "      <th></th>\n",
              "    </tr>\n",
              "  </thead>\n",
              "  <tbody>\n",
              "    <tr>\n",
              "      <th>2</th>\n",
              "      <td>0</td>\n",
              "      <td>1</td>\n",
              "      <td>8</td>\n",
              "      <td>0</td>\n",
              "      <td>0</td>\n",
              "      <td>0</td>\n",
              "      <td>0</td>\n",
              "    </tr>\n",
              "    <tr>\n",
              "      <th>3</th>\n",
              "      <td>0</td>\n",
              "      <td>4</td>\n",
              "      <td>26</td>\n",
              "      <td>17</td>\n",
              "      <td>5</td>\n",
              "      <td>0</td>\n",
              "      <td>0</td>\n",
              "    </tr>\n",
              "    <tr>\n",
              "      <th>4</th>\n",
              "      <td>1</td>\n",
              "      <td>0</td>\n",
              "      <td>14</td>\n",
              "      <td>6</td>\n",
              "      <td>4</td>\n",
              "      <td>3</td>\n",
              "      <td>1</td>\n",
              "    </tr>\n",
              "    <tr>\n",
              "      <th>5</th>\n",
              "      <td>0</td>\n",
              "      <td>0</td>\n",
              "      <td>2</td>\n",
              "      <td>5</td>\n",
              "      <td>1</td>\n",
              "      <td>1</td>\n",
              "      <td>1</td>\n",
              "    </tr>\n",
              "  </tbody>\n",
              "</table>\n",
              "</div>\n",
              "    <div class=\"colab-df-buttons\">\n",
              "\n",
              "  <div class=\"colab-df-container\">\n",
              "    <button class=\"colab-df-convert\" onclick=\"convertToInteractive('df-6c92f9ef-0fa6-4fed-933d-a4e29221497d')\"\n",
              "            title=\"Convert this dataframe to an interactive table.\"\n",
              "            style=\"display:none;\">\n",
              "\n",
              "  <svg xmlns=\"http://www.w3.org/2000/svg\" height=\"24px\" viewBox=\"0 -960 960 960\">\n",
              "    <path d=\"M120-120v-720h720v720H120Zm60-500h600v-160H180v160Zm220 220h160v-160H400v160Zm0 220h160v-160H400v160ZM180-400h160v-160H180v160Zm440 0h160v-160H620v160ZM180-180h160v-160H180v160Zm440 0h160v-160H620v160Z\"/>\n",
              "  </svg>\n",
              "    </button>\n",
              "\n",
              "  <style>\n",
              "    .colab-df-container {\n",
              "      display:flex;\n",
              "      gap: 12px;\n",
              "    }\n",
              "\n",
              "    .colab-df-convert {\n",
              "      background-color: #E8F0FE;\n",
              "      border: none;\n",
              "      border-radius: 50%;\n",
              "      cursor: pointer;\n",
              "      display: none;\n",
              "      fill: #1967D2;\n",
              "      height: 32px;\n",
              "      padding: 0 0 0 0;\n",
              "      width: 32px;\n",
              "    }\n",
              "\n",
              "    .colab-df-convert:hover {\n",
              "      background-color: #E2EBFA;\n",
              "      box-shadow: 0px 1px 2px rgba(60, 64, 67, 0.3), 0px 1px 3px 1px rgba(60, 64, 67, 0.15);\n",
              "      fill: #174EA6;\n",
              "    }\n",
              "\n",
              "    .colab-df-buttons div {\n",
              "      margin-bottom: 4px;\n",
              "    }\n",
              "\n",
              "    [theme=dark] .colab-df-convert {\n",
              "      background-color: #3B4455;\n",
              "      fill: #D2E3FC;\n",
              "    }\n",
              "\n",
              "    [theme=dark] .colab-df-convert:hover {\n",
              "      background-color: #434B5C;\n",
              "      box-shadow: 0px 1px 3px 1px rgba(0, 0, 0, 0.15);\n",
              "      filter: drop-shadow(0px 1px 2px rgba(0, 0, 0, 0.3));\n",
              "      fill: #FFFFFF;\n",
              "    }\n",
              "  </style>\n",
              "\n",
              "    <script>\n",
              "      const buttonEl =\n",
              "        document.querySelector('#df-6c92f9ef-0fa6-4fed-933d-a4e29221497d button.colab-df-convert');\n",
              "      buttonEl.style.display =\n",
              "        google.colab.kernel.accessAllowed ? 'block' : 'none';\n",
              "\n",
              "      async function convertToInteractive(key) {\n",
              "        const element = document.querySelector('#df-6c92f9ef-0fa6-4fed-933d-a4e29221497d');\n",
              "        const dataTable =\n",
              "          await google.colab.kernel.invokeFunction('convertToInteractive',\n",
              "                                                    [key], {});\n",
              "        if (!dataTable) return;\n",
              "\n",
              "        const docLinkHtml = 'Like what you see? Visit the ' +\n",
              "          '<a target=\"_blank\" href=https://colab.research.google.com/notebooks/data_table.ipynb>data table notebook</a>'\n",
              "          + ' to learn more about interactive tables.';\n",
              "        element.innerHTML = '';\n",
              "        dataTable['output_type'] = 'display_data';\n",
              "        await google.colab.output.renderOutput(dataTable, element);\n",
              "        const docLink = document.createElement('div');\n",
              "        docLink.innerHTML = docLinkHtml;\n",
              "        element.appendChild(docLink);\n",
              "      }\n",
              "    </script>\n",
              "  </div>\n",
              "\n",
              "\n",
              "<div id=\"df-fd7e0203-211c-4cc6-9091-0c700247315f\">\n",
              "  <button class=\"colab-df-quickchart\" onclick=\"quickchart('df-fd7e0203-211c-4cc6-9091-0c700247315f')\"\n",
              "            title=\"Suggest charts\"\n",
              "            style=\"display:none;\">\n",
              "\n",
              "<svg xmlns=\"http://www.w3.org/2000/svg\" height=\"24px\"viewBox=\"0 0 24 24\"\n",
              "     width=\"24px\">\n",
              "    <g>\n",
              "        <path d=\"M19 3H5c-1.1 0-2 .9-2 2v14c0 1.1.9 2 2 2h14c1.1 0 2-.9 2-2V5c0-1.1-.9-2-2-2zM9 17H7v-7h2v7zm4 0h-2V7h2v10zm4 0h-2v-4h2v4z\"/>\n",
              "    </g>\n",
              "</svg>\n",
              "  </button>\n",
              "\n",
              "<style>\n",
              "  .colab-df-quickchart {\n",
              "      --bg-color: #E8F0FE;\n",
              "      --fill-color: #1967D2;\n",
              "      --hover-bg-color: #E2EBFA;\n",
              "      --hover-fill-color: #174EA6;\n",
              "      --disabled-fill-color: #AAA;\n",
              "      --disabled-bg-color: #DDD;\n",
              "  }\n",
              "\n",
              "  [theme=dark] .colab-df-quickchart {\n",
              "      --bg-color: #3B4455;\n",
              "      --fill-color: #D2E3FC;\n",
              "      --hover-bg-color: #434B5C;\n",
              "      --hover-fill-color: #FFFFFF;\n",
              "      --disabled-bg-color: #3B4455;\n",
              "      --disabled-fill-color: #666;\n",
              "  }\n",
              "\n",
              "  .colab-df-quickchart {\n",
              "    background-color: var(--bg-color);\n",
              "    border: none;\n",
              "    border-radius: 50%;\n",
              "    cursor: pointer;\n",
              "    display: none;\n",
              "    fill: var(--fill-color);\n",
              "    height: 32px;\n",
              "    padding: 0;\n",
              "    width: 32px;\n",
              "  }\n",
              "\n",
              "  .colab-df-quickchart:hover {\n",
              "    background-color: var(--hover-bg-color);\n",
              "    box-shadow: 0 1px 2px rgba(60, 64, 67, 0.3), 0 1px 3px 1px rgba(60, 64, 67, 0.15);\n",
              "    fill: var(--button-hover-fill-color);\n",
              "  }\n",
              "\n",
              "  .colab-df-quickchart-complete:disabled,\n",
              "  .colab-df-quickchart-complete:disabled:hover {\n",
              "    background-color: var(--disabled-bg-color);\n",
              "    fill: var(--disabled-fill-color);\n",
              "    box-shadow: none;\n",
              "  }\n",
              "\n",
              "  .colab-df-spinner {\n",
              "    border: 2px solid var(--fill-color);\n",
              "    border-color: transparent;\n",
              "    border-bottom-color: var(--fill-color);\n",
              "    animation:\n",
              "      spin 1s steps(1) infinite;\n",
              "  }\n",
              "\n",
              "  @keyframes spin {\n",
              "    0% {\n",
              "      border-color: transparent;\n",
              "      border-bottom-color: var(--fill-color);\n",
              "      border-left-color: var(--fill-color);\n",
              "    }\n",
              "    20% {\n",
              "      border-color: transparent;\n",
              "      border-left-color: var(--fill-color);\n",
              "      border-top-color: var(--fill-color);\n",
              "    }\n",
              "    30% {\n",
              "      border-color: transparent;\n",
              "      border-left-color: var(--fill-color);\n",
              "      border-top-color: var(--fill-color);\n",
              "      border-right-color: var(--fill-color);\n",
              "    }\n",
              "    40% {\n",
              "      border-color: transparent;\n",
              "      border-right-color: var(--fill-color);\n",
              "      border-top-color: var(--fill-color);\n",
              "    }\n",
              "    60% {\n",
              "      border-color: transparent;\n",
              "      border-right-color: var(--fill-color);\n",
              "    }\n",
              "    80% {\n",
              "      border-color: transparent;\n",
              "      border-right-color: var(--fill-color);\n",
              "      border-bottom-color: var(--fill-color);\n",
              "    }\n",
              "    90% {\n",
              "      border-color: transparent;\n",
              "      border-bottom-color: var(--fill-color);\n",
              "    }\n",
              "  }\n",
              "</style>\n",
              "\n",
              "  <script>\n",
              "    async function quickchart(key) {\n",
              "      const quickchartButtonEl =\n",
              "        document.querySelector('#' + key + ' button');\n",
              "      quickchartButtonEl.disabled = true;  // To prevent multiple clicks.\n",
              "      quickchartButtonEl.classList.add('colab-df-spinner');\n",
              "      try {\n",
              "        const charts = await google.colab.kernel.invokeFunction(\n",
              "            'suggestCharts', [key], {});\n",
              "      } catch (error) {\n",
              "        console.error('Error during call to suggestCharts:', error);\n",
              "      }\n",
              "      quickchartButtonEl.classList.remove('colab-df-spinner');\n",
              "      quickchartButtonEl.classList.add('colab-df-quickchart-complete');\n",
              "    }\n",
              "    (() => {\n",
              "      let quickchartButtonEl =\n",
              "        document.querySelector('#df-fd7e0203-211c-4cc6-9091-0c700247315f button');\n",
              "      quickchartButtonEl.style.display =\n",
              "        google.colab.kernel.accessAllowed ? 'block' : 'none';\n",
              "    })();\n",
              "  </script>\n",
              "</div>\n",
              "\n",
              "    </div>\n",
              "  </div>\n"
            ],
            "application/vnd.google.colaboratory.intrinsic+json": {
              "type": "dataframe",
              "summary": "{\n  \"name\": \"# Male\\t    177564\\t28525\",\n  \"rows\": 4,\n  \"fields\": [\n    {\n      \"column\": \"bedrooms\",\n      \"properties\": {\n        \"dtype\": \"number\",\n        \"std\": 1,\n        \"min\": 2,\n        \"max\": 5,\n        \"num_unique_values\": 4,\n        \"samples\": [\n          3,\n          5,\n          2\n        ],\n        \"semantic_type\": \"\",\n        \"description\": \"\"\n      }\n    },\n    {\n      \"column\": 5,\n      \"properties\": {\n        \"dtype\": \"number\",\n        \"std\": 0,\n        \"min\": 0,\n        \"max\": 1,\n        \"num_unique_values\": 2,\n        \"samples\": [\n          1,\n          0\n        ],\n        \"semantic_type\": \"\",\n        \"description\": \"\"\n      }\n    },\n    {\n      \"column\": 6,\n      \"properties\": {\n        \"dtype\": \"number\",\n        \"std\": 1,\n        \"min\": 0,\n        \"max\": 4,\n        \"num_unique_values\": 3,\n        \"samples\": [\n          1,\n          4\n        ],\n        \"semantic_type\": \"\",\n        \"description\": \"\"\n      }\n    },\n    {\n      \"column\": 7,\n      \"properties\": {\n        \"dtype\": \"number\",\n        \"std\": 10,\n        \"min\": 2,\n        \"max\": 26,\n        \"num_unique_values\": 4,\n        \"samples\": [\n          26,\n          2\n        ],\n        \"semantic_type\": \"\",\n        \"description\": \"\"\n      }\n    },\n    {\n      \"column\": 8,\n      \"properties\": {\n        \"dtype\": \"number\",\n        \"std\": 7,\n        \"min\": 0,\n        \"max\": 17,\n        \"num_unique_values\": 4,\n        \"samples\": [\n          17,\n          5\n        ],\n        \"semantic_type\": \"\",\n        \"description\": \"\"\n      }\n    },\n    {\n      \"column\": 9,\n      \"properties\": {\n        \"dtype\": \"number\",\n        \"std\": 2,\n        \"min\": 0,\n        \"max\": 5,\n        \"num_unique_values\": 4,\n        \"samples\": [\n          5,\n          1\n        ],\n        \"semantic_type\": \"\",\n        \"description\": \"\"\n      }\n    },\n    {\n      \"column\": 10,\n      \"properties\": {\n        \"dtype\": \"number\",\n        \"std\": 1,\n        \"min\": 0,\n        \"max\": 3,\n        \"num_unique_values\": 3,\n        \"samples\": [\n          0,\n          3\n        ],\n        \"semantic_type\": \"\",\n        \"description\": \"\"\n      }\n    },\n    {\n      \"column\": 11,\n      \"properties\": {\n        \"dtype\": \"number\",\n        \"std\": 0,\n        \"min\": 0,\n        \"max\": 1,\n        \"num_unique_values\": 2,\n        \"samples\": [\n          1,\n          0\n        ],\n        \"semantic_type\": \"\",\n        \"description\": \"\"\n      }\n    }\n  ]\n}"
            }
          },
          "metadata": {},
          "execution_count": 11
        }
      ]
    },
    {
      "cell_type": "code",
      "source": [
        "# Tabela de contingência %\n",
        "pd.crosstab( df['bedrooms'], df['grade'],normalize=True)\n",
        "#normalize='columns' = across cols,\n",
        "            #'index' = across rows,\n",
        "            # True   = across entire df."
      ],
      "metadata": {
        "colab": {
          "base_uri": "https://localhost:8080/",
          "height": 206
        },
        "id": "5r90J_wdNFB2",
        "outputId": "afd56c80-5d2c-41a5-807c-c7a6139f2c48"
      },
      "execution_count": null,
      "outputs": [
        {
          "output_type": "execute_result",
          "data": {
            "text/plain": [
              "grade      5    6    7    8    9    10   11\n",
              "bedrooms                                   \n",
              "2        0.00 0.01 0.08 0.00 0.00 0.00 0.00\n",
              "3        0.00 0.04 0.26 0.17 0.05 0.00 0.00\n",
              "4        0.01 0.00 0.14 0.06 0.04 0.03 0.01\n",
              "5        0.00 0.00 0.02 0.05 0.01 0.01 0.01"
            ],
            "text/html": [
              "\n",
              "  <div id=\"df-e54c9cf1-a26a-47a9-a11a-b90e703fd5b1\" class=\"colab-df-container\">\n",
              "    <div>\n",
              "<style scoped>\n",
              "    .dataframe tbody tr th:only-of-type {\n",
              "        vertical-align: middle;\n",
              "    }\n",
              "\n",
              "    .dataframe tbody tr th {\n",
              "        vertical-align: top;\n",
              "    }\n",
              "\n",
              "    .dataframe thead th {\n",
              "        text-align: right;\n",
              "    }\n",
              "</style>\n",
              "<table border=\"1\" class=\"dataframe\">\n",
              "  <thead>\n",
              "    <tr style=\"text-align: right;\">\n",
              "      <th>grade</th>\n",
              "      <th>5</th>\n",
              "      <th>6</th>\n",
              "      <th>7</th>\n",
              "      <th>8</th>\n",
              "      <th>9</th>\n",
              "      <th>10</th>\n",
              "      <th>11</th>\n",
              "    </tr>\n",
              "    <tr>\n",
              "      <th>bedrooms</th>\n",
              "      <th></th>\n",
              "      <th></th>\n",
              "      <th></th>\n",
              "      <th></th>\n",
              "      <th></th>\n",
              "      <th></th>\n",
              "      <th></th>\n",
              "    </tr>\n",
              "  </thead>\n",
              "  <tbody>\n",
              "    <tr>\n",
              "      <th>2</th>\n",
              "      <td>0.00</td>\n",
              "      <td>0.01</td>\n",
              "      <td>0.08</td>\n",
              "      <td>0.00</td>\n",
              "      <td>0.00</td>\n",
              "      <td>0.00</td>\n",
              "      <td>0.00</td>\n",
              "    </tr>\n",
              "    <tr>\n",
              "      <th>3</th>\n",
              "      <td>0.00</td>\n",
              "      <td>0.04</td>\n",
              "      <td>0.26</td>\n",
              "      <td>0.17</td>\n",
              "      <td>0.05</td>\n",
              "      <td>0.00</td>\n",
              "      <td>0.00</td>\n",
              "    </tr>\n",
              "    <tr>\n",
              "      <th>4</th>\n",
              "      <td>0.01</td>\n",
              "      <td>0.00</td>\n",
              "      <td>0.14</td>\n",
              "      <td>0.06</td>\n",
              "      <td>0.04</td>\n",
              "      <td>0.03</td>\n",
              "      <td>0.01</td>\n",
              "    </tr>\n",
              "    <tr>\n",
              "      <th>5</th>\n",
              "      <td>0.00</td>\n",
              "      <td>0.00</td>\n",
              "      <td>0.02</td>\n",
              "      <td>0.05</td>\n",
              "      <td>0.01</td>\n",
              "      <td>0.01</td>\n",
              "      <td>0.01</td>\n",
              "    </tr>\n",
              "  </tbody>\n",
              "</table>\n",
              "</div>\n",
              "    <div class=\"colab-df-buttons\">\n",
              "\n",
              "  <div class=\"colab-df-container\">\n",
              "    <button class=\"colab-df-convert\" onclick=\"convertToInteractive('df-e54c9cf1-a26a-47a9-a11a-b90e703fd5b1')\"\n",
              "            title=\"Convert this dataframe to an interactive table.\"\n",
              "            style=\"display:none;\">\n",
              "\n",
              "  <svg xmlns=\"http://www.w3.org/2000/svg\" height=\"24px\" viewBox=\"0 -960 960 960\">\n",
              "    <path d=\"M120-120v-720h720v720H120Zm60-500h600v-160H180v160Zm220 220h160v-160H400v160Zm0 220h160v-160H400v160ZM180-400h160v-160H180v160Zm440 0h160v-160H620v160ZM180-180h160v-160H180v160Zm440 0h160v-160H620v160Z\"/>\n",
              "  </svg>\n",
              "    </button>\n",
              "\n",
              "  <style>\n",
              "    .colab-df-container {\n",
              "      display:flex;\n",
              "      gap: 12px;\n",
              "    }\n",
              "\n",
              "    .colab-df-convert {\n",
              "      background-color: #E8F0FE;\n",
              "      border: none;\n",
              "      border-radius: 50%;\n",
              "      cursor: pointer;\n",
              "      display: none;\n",
              "      fill: #1967D2;\n",
              "      height: 32px;\n",
              "      padding: 0 0 0 0;\n",
              "      width: 32px;\n",
              "    }\n",
              "\n",
              "    .colab-df-convert:hover {\n",
              "      background-color: #E2EBFA;\n",
              "      box-shadow: 0px 1px 2px rgba(60, 64, 67, 0.3), 0px 1px 3px 1px rgba(60, 64, 67, 0.15);\n",
              "      fill: #174EA6;\n",
              "    }\n",
              "\n",
              "    .colab-df-buttons div {\n",
              "      margin-bottom: 4px;\n",
              "    }\n",
              "\n",
              "    [theme=dark] .colab-df-convert {\n",
              "      background-color: #3B4455;\n",
              "      fill: #D2E3FC;\n",
              "    }\n",
              "\n",
              "    [theme=dark] .colab-df-convert:hover {\n",
              "      background-color: #434B5C;\n",
              "      box-shadow: 0px 1px 3px 1px rgba(0, 0, 0, 0.15);\n",
              "      filter: drop-shadow(0px 1px 2px rgba(0, 0, 0, 0.3));\n",
              "      fill: #FFFFFF;\n",
              "    }\n",
              "  </style>\n",
              "\n",
              "    <script>\n",
              "      const buttonEl =\n",
              "        document.querySelector('#df-e54c9cf1-a26a-47a9-a11a-b90e703fd5b1 button.colab-df-convert');\n",
              "      buttonEl.style.display =\n",
              "        google.colab.kernel.accessAllowed ? 'block' : 'none';\n",
              "\n",
              "      async function convertToInteractive(key) {\n",
              "        const element = document.querySelector('#df-e54c9cf1-a26a-47a9-a11a-b90e703fd5b1');\n",
              "        const dataTable =\n",
              "          await google.colab.kernel.invokeFunction('convertToInteractive',\n",
              "                                                    [key], {});\n",
              "        if (!dataTable) return;\n",
              "\n",
              "        const docLinkHtml = 'Like what you see? Visit the ' +\n",
              "          '<a target=\"_blank\" href=https://colab.research.google.com/notebooks/data_table.ipynb>data table notebook</a>'\n",
              "          + ' to learn more about interactive tables.';\n",
              "        element.innerHTML = '';\n",
              "        dataTable['output_type'] = 'display_data';\n",
              "        await google.colab.output.renderOutput(dataTable, element);\n",
              "        const docLink = document.createElement('div');\n",
              "        docLink.innerHTML = docLinkHtml;\n",
              "        element.appendChild(docLink);\n",
              "      }\n",
              "    </script>\n",
              "  </div>\n",
              "\n",
              "\n",
              "<div id=\"df-eb0a140e-85e0-48b9-a12d-2501165a7342\">\n",
              "  <button class=\"colab-df-quickchart\" onclick=\"quickchart('df-eb0a140e-85e0-48b9-a12d-2501165a7342')\"\n",
              "            title=\"Suggest charts\"\n",
              "            style=\"display:none;\">\n",
              "\n",
              "<svg xmlns=\"http://www.w3.org/2000/svg\" height=\"24px\"viewBox=\"0 0 24 24\"\n",
              "     width=\"24px\">\n",
              "    <g>\n",
              "        <path d=\"M19 3H5c-1.1 0-2 .9-2 2v14c0 1.1.9 2 2 2h14c1.1 0 2-.9 2-2V5c0-1.1-.9-2-2-2zM9 17H7v-7h2v7zm4 0h-2V7h2v10zm4 0h-2v-4h2v4z\"/>\n",
              "    </g>\n",
              "</svg>\n",
              "  </button>\n",
              "\n",
              "<style>\n",
              "  .colab-df-quickchart {\n",
              "      --bg-color: #E8F0FE;\n",
              "      --fill-color: #1967D2;\n",
              "      --hover-bg-color: #E2EBFA;\n",
              "      --hover-fill-color: #174EA6;\n",
              "      --disabled-fill-color: #AAA;\n",
              "      --disabled-bg-color: #DDD;\n",
              "  }\n",
              "\n",
              "  [theme=dark] .colab-df-quickchart {\n",
              "      --bg-color: #3B4455;\n",
              "      --fill-color: #D2E3FC;\n",
              "      --hover-bg-color: #434B5C;\n",
              "      --hover-fill-color: #FFFFFF;\n",
              "      --disabled-bg-color: #3B4455;\n",
              "      --disabled-fill-color: #666;\n",
              "  }\n",
              "\n",
              "  .colab-df-quickchart {\n",
              "    background-color: var(--bg-color);\n",
              "    border: none;\n",
              "    border-radius: 50%;\n",
              "    cursor: pointer;\n",
              "    display: none;\n",
              "    fill: var(--fill-color);\n",
              "    height: 32px;\n",
              "    padding: 0;\n",
              "    width: 32px;\n",
              "  }\n",
              "\n",
              "  .colab-df-quickchart:hover {\n",
              "    background-color: var(--hover-bg-color);\n",
              "    box-shadow: 0 1px 2px rgba(60, 64, 67, 0.3), 0 1px 3px 1px rgba(60, 64, 67, 0.15);\n",
              "    fill: var(--button-hover-fill-color);\n",
              "  }\n",
              "\n",
              "  .colab-df-quickchart-complete:disabled,\n",
              "  .colab-df-quickchart-complete:disabled:hover {\n",
              "    background-color: var(--disabled-bg-color);\n",
              "    fill: var(--disabled-fill-color);\n",
              "    box-shadow: none;\n",
              "  }\n",
              "\n",
              "  .colab-df-spinner {\n",
              "    border: 2px solid var(--fill-color);\n",
              "    border-color: transparent;\n",
              "    border-bottom-color: var(--fill-color);\n",
              "    animation:\n",
              "      spin 1s steps(1) infinite;\n",
              "  }\n",
              "\n",
              "  @keyframes spin {\n",
              "    0% {\n",
              "      border-color: transparent;\n",
              "      border-bottom-color: var(--fill-color);\n",
              "      border-left-color: var(--fill-color);\n",
              "    }\n",
              "    20% {\n",
              "      border-color: transparent;\n",
              "      border-left-color: var(--fill-color);\n",
              "      border-top-color: var(--fill-color);\n",
              "    }\n",
              "    30% {\n",
              "      border-color: transparent;\n",
              "      border-left-color: var(--fill-color);\n",
              "      border-top-color: var(--fill-color);\n",
              "      border-right-color: var(--fill-color);\n",
              "    }\n",
              "    40% {\n",
              "      border-color: transparent;\n",
              "      border-right-color: var(--fill-color);\n",
              "      border-top-color: var(--fill-color);\n",
              "    }\n",
              "    60% {\n",
              "      border-color: transparent;\n",
              "      border-right-color: var(--fill-color);\n",
              "    }\n",
              "    80% {\n",
              "      border-color: transparent;\n",
              "      border-right-color: var(--fill-color);\n",
              "      border-bottom-color: var(--fill-color);\n",
              "    }\n",
              "    90% {\n",
              "      border-color: transparent;\n",
              "      border-bottom-color: var(--fill-color);\n",
              "    }\n",
              "  }\n",
              "</style>\n",
              "\n",
              "  <script>\n",
              "    async function quickchart(key) {\n",
              "      const quickchartButtonEl =\n",
              "        document.querySelector('#' + key + ' button');\n",
              "      quickchartButtonEl.disabled = true;  // To prevent multiple clicks.\n",
              "      quickchartButtonEl.classList.add('colab-df-spinner');\n",
              "      try {\n",
              "        const charts = await google.colab.kernel.invokeFunction(\n",
              "            'suggestCharts', [key], {});\n",
              "      } catch (error) {\n",
              "        console.error('Error during call to suggestCharts:', error);\n",
              "      }\n",
              "      quickchartButtonEl.classList.remove('colab-df-spinner');\n",
              "      quickchartButtonEl.classList.add('colab-df-quickchart-complete');\n",
              "    }\n",
              "    (() => {\n",
              "      let quickchartButtonEl =\n",
              "        document.querySelector('#df-eb0a140e-85e0-48b9-a12d-2501165a7342 button');\n",
              "      quickchartButtonEl.style.display =\n",
              "        google.colab.kernel.accessAllowed ? 'block' : 'none';\n",
              "    })();\n",
              "  </script>\n",
              "</div>\n",
              "\n",
              "    </div>\n",
              "  </div>\n"
            ],
            "application/vnd.google.colaboratory.intrinsic+json": {
              "type": "dataframe",
              "summary": "{\n  \"name\": \"            # True   = across entire df\",\n  \"rows\": 4,\n  \"fields\": [\n    {\n      \"column\": \"bedrooms\",\n      \"properties\": {\n        \"dtype\": \"number\",\n        \"std\": 1,\n        \"min\": 2,\n        \"max\": 5,\n        \"num_unique_values\": 4,\n        \"samples\": [\n          3,\n          5,\n          2\n        ],\n        \"semantic_type\": \"\",\n        \"description\": \"\"\n      }\n    },\n    {\n      \"column\": 5,\n      \"properties\": {\n        \"dtype\": \"number\",\n        \"std\": 0.005,\n        \"min\": 0.0,\n        \"max\": 0.01,\n        \"num_unique_values\": 2,\n        \"samples\": [\n          0.01,\n          0.0\n        ],\n        \"semantic_type\": \"\",\n        \"description\": \"\"\n      }\n    },\n    {\n      \"column\": 6,\n      \"properties\": {\n        \"dtype\": \"number\",\n        \"std\": 0.018929694486000914,\n        \"min\": 0.0,\n        \"max\": 0.04,\n        \"num_unique_values\": 3,\n        \"samples\": [\n          0.01,\n          0.04\n        ],\n        \"semantic_type\": \"\",\n        \"description\": \"\"\n      }\n    },\n    {\n      \"column\": 7,\n      \"properties\": {\n        \"dtype\": \"number\",\n        \"std\": 0.10246950765959599,\n        \"min\": 0.02,\n        \"max\": 0.26,\n        \"num_unique_values\": 4,\n        \"samples\": [\n          0.26,\n          0.02\n        ],\n        \"semantic_type\": \"\",\n        \"description\": \"\"\n      }\n    },\n    {\n      \"column\": 8,\n      \"properties\": {\n        \"dtype\": \"number\",\n        \"std\": 0.07164728420068227,\n        \"min\": 0.0,\n        \"max\": 0.17,\n        \"num_unique_values\": 4,\n        \"samples\": [\n          0.17,\n          0.05\n        ],\n        \"semantic_type\": \"\",\n        \"description\": \"\"\n      }\n    },\n    {\n      \"column\": 9,\n      \"properties\": {\n        \"dtype\": \"number\",\n        \"std\": 0.02380476142847617,\n        \"min\": 0.0,\n        \"max\": 0.05,\n        \"num_unique_values\": 4,\n        \"samples\": [\n          0.05,\n          0.01\n        ],\n        \"semantic_type\": \"\",\n        \"description\": \"\"\n      }\n    },\n    {\n      \"column\": 10,\n      \"properties\": {\n        \"dtype\": \"number\",\n        \"std\": 0.014142135623730949,\n        \"min\": 0.0,\n        \"max\": 0.03,\n        \"num_unique_values\": 3,\n        \"samples\": [\n          0.0,\n          0.03\n        ],\n        \"semantic_type\": \"\",\n        \"description\": \"\"\n      }\n    },\n    {\n      \"column\": 11,\n      \"properties\": {\n        \"dtype\": \"number\",\n        \"std\": 0.005773502691896258,\n        \"min\": 0.0,\n        \"max\": 0.01,\n        \"num_unique_values\": 2,\n        \"samples\": [\n          0.01,\n          0.0\n        ],\n        \"semantic_type\": \"\",\n        \"description\": \"\"\n      }\n    }\n  ]\n}"
            }
          },
          "metadata": {},
          "execution_count": 25
        }
      ]
    },
    {
      "cell_type": "markdown",
      "source": [
        "#### Bar (cat x num)"
      ],
      "metadata": {
        "id": "0OBrw734cE80"
      }
    },
    {
      "cell_type": "markdown",
      "source": [
        "Gráfico de barras: comparar média, soma ou contagem de var num em diferentes categorias."
      ],
      "metadata": {
        "id": "KeI32pJwc-X5"
      }
    },
    {
      "cell_type": "code",
      "source": [
        "#Média de preço por número de andares:\n",
        "plt.figure(figsize=(11, 5));\n",
        "sns.barplot(x='floors', y='price', data=df, estimator='mean', palette='viridis', hue='floors')\n",
        "plt.title('Média de preço por número de andares')\n",
        "plt.xlabel('Número de Andares')\n",
        "plt.ylabel('Preço')\n",
        "plt.tight_layout()\n",
        "plt.show();"
      ],
      "metadata": {
        "colab": {
          "base_uri": "https://localhost:8080/",
          "height": 507
        },
        "id": "eaoc6jgGdIfs",
        "outputId": "80dd9b21-bc06-44ae-aa7a-95aaff6f84c1"
      },
      "execution_count": null,
      "outputs": [
        {
          "output_type": "display_data",
          "data": {
            "text/plain": [
              "<Figure size 1100x500 with 1 Axes>"
            ],
            "image/png": "[encoded data removed]"
          },
          "metadata": {}
        }
      ]
    },
    {
      "cell_type": "markdown",
      "source": [
        "#### Boxplot (cat x num)"
      ],
      "metadata": {
        "id": "mj0BLFUBZWs_"
      }
    },
    {
      "cell_type": "markdown",
      "metadata": {
        "id": "f6qmL5iSp9_B"
      },
      "source": [
        "Boxplot: ver distribuição de var categócica vs numérica\n",
        "  - Robusto contra outliers\n",
        "  - Ex: Preço de casas por quantidade de pisos\n",
        "\n"
      ]
    },
    {
      "cell_type": "code",
      "execution_count": 12,
      "metadata": {
        "colab": {
          "base_uri": "https://localhost:8080/",
          "height": 564
        },
        "id": "La2YL8zZpzYZ",
        "outputId": "1132dae4-dfc2-4e61-ff24-c6f6a2c91b4b"
      },
      "outputs": [
        {
          "output_type": "display_data",
          "data": {
            "text/plain": [
              "<Figure size 1000x600 with 1 Axes>"
            ],
            "image/png": "[encoded data removed]"
          },
          "metadata": {}
        }
      ],
      "source": [
        "#Comparar casas por número de pisos:\n",
        "plt.figure(figsize=(10, 6))\n",
        "sns.boxplot(x='floors', y='price', data=df, showmeans=True)\n",
        "plt.ticklabel_format(style='plain', axis='y')\n",
        "plt.title('Comparison of House Prices by Number of Floors')\n",
        "plt.xlabel('Number of Floors')\n",
        "plt.ylabel('Price')\n",
        "plt.show()\n",
        "#Com plotly express, pra ver os pontos:\n",
        "#import plotly.express              as px\n",
        "#fig = px.box(df, x='floors', y='price', points='all', title='Comparison of House Prices by Number of Floors')\n",
        "#fig.show()"
      ]
    },
    {
      "cell_type": "markdown",
      "metadata": {
        "id": "ADQeLY5PjlGR"
      },
      "source": [
        "Interpretação:\n",
        "- Área em azul: IQR (Q1 a Q3): parte central dos dados.\n",
        "- Linha central: mediana (Q2).\n",
        " - Simetria: Se mediana + próx de Q1, skew positiva: concentração dos valores é baixa. Se de Q3, é alta.\n",
        "- Triângulo verde: média.\n",
        "- T-Shaped Whiskers: (IQR X 1.5)\n",
        " - É o min e max, caso não haja outliers. Ai, sup e  inf vão conter 25% dos dados.\n",
        " - Pontos fora são outliers: 'o' ."
      ]
    },
    {
      "cell_type": "code",
      "source": [
        "#Outliers: Valores abaixo de Q1 - (1.5 x IQR) ou acima de Q3 + (1.5 x IQR). Cálculo no braço deles:\n",
        "Q1_ = 308000.00\n",
        "Q3_ = 653125.00\n",
        "IQR_ = 308000.0\n",
        "\n",
        "print(f'Outliers: preços abaixo de: {Q1_ - (1.5 * IQR_)} ou acima de: {Q3_ + (1.5 * IQR_) }')"
      ],
      "metadata": {
        "colab": {
          "base_uri": "https://localhost:8080/"
        },
        "id": "6lt4UCw-cgMg",
        "outputId": "b69926f8-b12f-4099-ff5e-574c3c714947"
      },
      "execution_count": 13,
      "outputs": [
        {
          "output_type": "stream",
          "name": "stdout",
          "text": [
            "Outliers: preços abaixo de: -154000.0 ou acima de: 1115125.0\n"
          ]
        }
      ]
    },
    {
      "cell_type": "code",
      "source": [
        "#Outro exemplo: Número de banheiros por metro quadrado construído:\n",
        "plt.figure(figsize=(10, 6))\n",
        "sns.boxplot(x='bathrooms', y='sqft_living', data=df, showmeans=True)\n",
        "plt.ticklabel_format(style='plain', axis='y')\n",
        "plt.title('Comparison of House Prices by Square foot meters')\n",
        "plt.xlabel('Number of Floors')\n",
        "plt.ylabel('Square foot meters')\n",
        "plt.show()"
      ],
      "metadata": {
        "colab": {
          "base_uri": "https://localhost:8080/",
          "height": 564
        },
        "id": "eqtyY3ixQu4a",
        "outputId": "347d735b-3636-4a18-bc12-626516bb6889"
      },
      "execution_count": 31,
      "outputs": [
        {
          "output_type": "display_data",
          "data": {
            "text/plain": [
              "<Figure size 1000x600 with 1 Axes>"
            ],
            "image/png": "[encoded data removed]"
          },
          "metadata": {}
        }
      ]
    },
    {
      "cell_type": "markdown",
      "source": [
        "Em geral, o número de banheiros aumenta, conforme a metragem construída aumenta."
      ],
      "metadata": {
        "id": "LrV_N9eARzOp"
      }
    },
    {
      "cell_type": "markdown",
      "source": [
        "#### Violin (cat x num)"
      ],
      "metadata": {
        "id": "TX94_Oe-aIt7"
      }
    },
    {
      "cell_type": "markdown",
      "source": [
        "Gráfico de Violino: é o boxplot com estimativas de densidade no eixo y\n",
        "- Vantagem: dá melhor ideia da concentração dos dados ao longo de y.\n",
        "- Desvangagem: não mostra outliers com clareza."
      ],
      "metadata": {
        "id": "RY5d-AYBTxV3"
      }
    },
    {
      "cell_type": "code",
      "source": [
        "# Crie a figura\n",
        "plt.figure(figsize=(10, 6))\n",
        "sns.violinplot(x='floors', y='price', data=df)\n",
        "plt.ticklabel_format(style='plain', axis='y')\n",
        "plt.title('Comparação de Preços de Casas por Número de Pisos (Violin Plot)')\n",
        "plt.xlabel('Número de Pisos')\n",
        "plt.ylabel('Preço')\n",
        "plt.show()"
      ],
      "metadata": {
        "colab": {
          "base_uri": "https://localhost:8080/",
          "height": 565
        },
        "id": "f-vTxC_oSRDd",
        "outputId": "07fb0b1c-4c29-43e2-be38-44536858a577"
      },
      "execution_count": 38,
      "outputs": [
        {
          "output_type": "display_data",
          "data": {
            "text/plain": [
              "<Figure size 1000x600 with 1 Axes>"
            ],
            "image/png": "[encoded data removed]"
          },
          "metadata": {}
        }
      ]
    },
    {
      "cell_type": "markdown",
      "source": [
        "Aqui, quanto mais largo o corpo do violino, mais amostras estão concentradas naquele ponto no eixo y."
      ],
      "metadata": {
        "id": "97_RvRC2baUM"
      }
    },
    {
      "cell_type": "markdown",
      "source": [
        "O Histograma faz a mesma coisa, porém para variáveis numéricas, binarizando."
      ],
      "metadata": {
        "id": "ckJi2KbCeHYg"
      }
    },
    {
      "cell_type": "markdown",
      "source": [
        "Valor Esperado: média ponderada, onde os pessos são probabilidades.\n",
        "- Cálculo: 1) multiplique os resultados pelas probabilidade de ocorrer. 2) some os valores.\n",
        "- Ex: serviço de nuvem com pacote de 50/mês e de 300/mês. Faz webinars gratuítos, onde em média, 15% assinam o de 50, e 5% o de 300.\n",
        "  - Valor Esperado: (0.05 * 300) + (0.015 * 50) = 22.5/mês. Esse é o valor esperado de um participante do webinar."
      ],
      "metadata": {
        "id": "BJ-mdmWLfxkq"
      }
    },
    {
      "cell_type": "markdown",
      "source": [
        "#### Hexbin (cat x num)"
      ],
      "metadata": {
        "id": "rBdxINNUj_Bu"
      }
    },
    {
      "cell_type": "markdown",
      "source": [
        "Gráfico de Colmeia: similar ao scatter (relação entre 2 vars), mas ao invés de mostrar os pontos, agrupa em hexágonos, com cor indicando o número de registros naquela área."
      ],
      "metadata": {
        "id": "7NjqCuEWsEST"
      }
    },
    {
      "cell_type": "code",
      "source": [
        "#carregar 5k pontos agora:\n",
        "df2 = pd.read_csv(url, low_memory=False, nrows=5000).drop('id', axis=1)\n",
        "#remover acima de 1.1m (outliers), para poder visualizar melhor:\n",
        "df2 = df2.loc[df2.price < 1100000 ]\n",
        "df2.shape"
      ],
      "metadata": {
        "colab": {
          "base_uri": "https://localhost:8080/"
        },
        "id": "AAan8h9ps5p-",
        "outputId": "9e3f35a0-14e3-4da0-fbf9-7e1e030c114d"
      },
      "execution_count": 2,
      "outputs": [
        {
          "output_type": "execute_result",
          "data": {
            "text/plain": [
              "(4726, 20)"
            ]
          },
          "metadata": {},
          "execution_count": 2
        }
      ]
    },
    {
      "cell_type": "code",
      "source": [
        "# Hexbin plot\n",
        "plt.figure(figsize=(9, 6))\n",
        "plt.hexbin(x=df2['yr_built'], y=df2['price'], gridsize=20, cmap='YlOrRd')\n",
        "plt.ticklabel_format(style='plain', axis='y')\n",
        "plt.title(\"Relação entre Preço e Ano de Construção (Hexbin Plot)\")\n",
        "plt.xlabel(\"Ano de Construção\")\n",
        "plt.ylabel(\"Preço\")\n",
        "plt.colorbar();"
      ],
      "metadata": {
        "colab": {
          "base_uri": "https://localhost:8080/",
          "height": 564
        },
        "id": "5YNHhR-BrmlZ",
        "outputId": "55775996-4c71-40d1-d014-77a0c84022a3"
      },
      "execution_count": 3,
      "outputs": [
        {
          "output_type": "display_data",
          "data": {
            "text/plain": [
              "<Figure size 900x600 with 2 Axes>"
            ],
            "image/png": "[encoded data removed]"
          },
          "metadata": {}
        }
      ]
    },
    {
      "cell_type": "markdown",
      "source": [
        "Acima é possível ver uma fraca correlação entre preço e ano, dado que na direita do gráfico, há um pouco mais de concentração (cores escuras) na parte superior do gráfico, indicando maiores preços."
      ],
      "metadata": {
        "id": "o10S8_kYsorF"
      }
    },
    {
      "cell_type": "markdown",
      "source": [
        "#### KDE (cat x num)"
      ],
      "metadata": {
        "id": "Kuh_vM6Nka2T"
      }
    },
    {
      "cell_type": "markdown",
      "source": [
        "Gráfico de densidade (KDE - kernel density estimate): mapa topográfico das variáveis, onde níveis mais altos indica maior concentração."
      ],
      "metadata": {
        "id": "KVoW4w6GvlyB"
      }
    },
    {
      "cell_type": "code",
      "source": [
        "# KDE plot\n",
        "plt.figure(figsize=(9, 6))\n",
        "sns.kdeplot(x=df2['yr_built'], y=df2['price'], cmap='YlOrRd', fill=True, thresh=0, levels=20)\n",
        "plt.ticklabel_format(style='plain', axis='y')\n",
        "plt.title(\"Densidade de Preço e Ano de Construção (KDE Plot)\")\n",
        "plt.xlabel(\"Ano de Construção\")\n",
        "plt.ylabel(\"Preço\")\n",
        "plt.show()"
      ],
      "metadata": {
        "colab": {
          "base_uri": "https://localhost:8080/",
          "height": 564
        },
        "id": "tdPoDPSevtJ_",
        "outputId": "a9e5a498-a2fc-4a72-d7e9-102ae7dbc9b8"
      },
      "execution_count": 4,
      "outputs": [
        {
          "output_type": "display_data",
          "data": {
            "text/plain": [
              "<Figure size 900x600 with 1 Axes>"
            ],
            "image/png": "[encoded data removed]"
          },
          "metadata": {}
        }
      ]
    },
    {
      "cell_type": "markdown",
      "source": [
        "É possível ver que a maioria das amostras está concentrada em casas dos anos 60, e a maioria dos preços entre 200 a 400k."
      ],
      "metadata": {
        "id": "PuRmijnvwFkp"
      }
    },
    {
      "cell_type": "markdown",
      "source": [
        "Tabela de contingência:"
      ],
      "metadata": {
        "id": "uZKMXGHtMO8B"
      }
    },
    {
      "cell_type": "markdown",
      "metadata": {
        "id": "c4rDtu6ysVLL"
      },
      "source": [
        "## 2 Estatística Inferencial"
      ]
    },
    {
      "cell_type": "markdown",
      "metadata": {
        "id": "xMMa6ogxsid3"
      },
      "source": [
        "\n",
        "Estatística inferencial: fazer generalizações e tirar conclusões sobre uma população a partir de uma amostra representativa.\n",
        "- 'n'=amostra  |  'N'=população.\n",
        "- μ (letra grega \"mi\")=média da população  |  x̄ (x barra)=média da amostra\n",
        "\n",
        "Qualidade é mais importante que a quantidade, logo o DS se concentra nas amostras:\n",
        "- Missings e outliers podem conter infos úteis, mas é inviável inspecionar a fundo se houver excesso.\n",
        "- O cenário clássico onde big data gera valor, é quando os dados não são só grandes, mas também esparsos:\n",
        " - Ex: pesquisas do google como 1 linha de banco, palavra inglesa (150k+ em Inglês) como coluna (0 ou 1). A enorme parte das cols será zero. Resulta em matriz esparsa. Aqui, não usa amostra.\n",
        " - Por isso eu faço os estudos no banco com amostragem, não carece de big data.\n",
        "- Mesmo em projetos de big data, modelos preditivos são geralmente desenv. com amostras.\n",
        " - Ex real, onde usar um subsample menor vs o um downsample com 5Mi rows, aumentou o AUC só na terceira casa decimal: ([Kaggle s4e7 - You don't need all the samples](https://www.kaggle.com/competitions/playground-series-s4e7/discussion/517167)\n",
        "\n",
        "Técnicas de seleção de amostras:\n",
        "- Amostragem Aleatória: amostra aleatoriamente obtida da população.\n",
        "- Amostragem Estratificada: divide a população em estratos (subgrupos), e faz amostragens aleatórias em cada estrtato.\n",
        " - Usada quando precisa garantir que todos os estratos sejam representados.\n",
        "  - Ex: train_test_split p/ classificação. Ou p/ saber intenções de voto de subgrupos, como evangélicos.\n",
        "\n",
        "Amostragem com reposição: observações são devolvidas à população após cada extração. Se sem reposição, não são devolvidas.\n",
        "\n"
      ]
    },
    {
      "cell_type": "markdown",
      "source": [
        "**Vieses:**\n",
        "\n",
        "Viés de amostragem: uma amostra que não representa a população.\n",
        " - Notas de restaurantes no Google, Tripadvisor.. tendem ao víes, não indicando a situação real, pois quem avalia não é aleatoriamente selecionado.\n",
        "\n",
        "Viés de seleção: escolher dados de forma seletiva, com ou sem intenção, levando a conclusão enganosa.\n",
        "- Ex: Dados selecinados a dedo: No caso de avaliações de clientes, ocorre de alguns estabelecimentos pedirem ativamente uma avaliação só pra quem elogiou/foi bem atendido.\n",
        "- Também gerado por: amostragem não aleatória (viés de amostragem), e seleção de intervalos de tempo que acentuam um efeito estatístico específico.\n"
      ],
      "metadata": {
        "id": "Qq1tMfsg88zZ"
      }
    },
    {
      "cell_type": "markdown",
      "source": [
        "### Variabilidade Amostral"
      ],
      "metadata": {
        "id": "fpWt-aYW88vr"
      }
    },
    {
      "cell_type": "markdown",
      "source": [
        "Variabilidade Amostral:\n",
        "- Uma amostra é extraída da população para medir algo ou modelar algo. Mas como nossa estimativa ou modelo se baseia em uma amostra, pode ser um erro. A distribuição poderia ser diferente, se extraíssemos uma amostra diferente?\n",
        "Logo, é uma preocupação chave a variabilidade amostral.\n",
        "- Será estimada com bootstrap, na prática. TLC e EP são citados antes abaixo, só para conhecimento.\n",
        "\n",
        "Teorema de limite central (TLC):\n",
        "- TLC: A distribuição das médias amostrais tende a uma normal, conforme o tamanho das amostras cresce, mesmo que a distr. original da população não seja normal.\n",
        "- Como converge numa normal, possibilita a aplicação de testes de hipótese e construção de intervalos de confiança, para fazer inferências sobre a população.\n",
        "- Testes de hipótese formal e intervalos de confianca tem um pequeno papel na ciência de dados, e podem ser obtidos através do bootstrap (com menos premissas), logo o teorema é menos relevante na prática de ciência de dados.\n",
        "\n",
        "Erro padrão (EP):\n",
        "- EP: métrica única que resume a variabilidade de uma estatística amostral (ex: média).\n",
        "- Serve para indicar por ex quão bem a média de uma amostra representa a média da população. Um erro-parão menor indica que a média amostral é uma estimativa mais precisa da média populacional.\n",
        "- Na prática, o bootstrap se tornou o modo padrão de estimar o erro-padrão, pois pode ser usado pra praticamente qualquer estatística e não se baseia no TLC ou suposições distribucionais.\n",
        "- Tem origem no TLC, e serve para construção de intervalos de confiança, e testes de hipótese (como o teste t).\n",
        "- Difere do STD, que mede a variabilidade de pontos de dados individuais.\n"
      ],
      "metadata": {
        "id": "80IRHmASTvvN"
      }
    },
    {
      "cell_type": "markdown",
      "source": [
        "### Bootstrap"
      ],
      "metadata": {
        "id": "1qNxXIAcTvqp"
      }
    },
    {
      "cell_type": "markdown",
      "source": [
        "Bootstrap: método de amostragem com repetição, que permite estimar a distribuição (variabilidade) de uma estatística (como a média) a partir de uma amostra.\n",
        "- Não requer distribuição normal dos dados, logo é muito útil.\n",
        "- Ele não compensa pequenos tamanhos de amostra, nem preenche buracos em um dataset existente. Meramente informa sobre como diversas amostras adicionais se comportariam ao serem extraídas de uma população.\n",
        "- Permite estimar a distribuição de uma variedade de estatísticas, como medianas, variâncias, quantis, e até mesmo estatísticas mais complexas (ex: NPS).\n",
        "- A Random Forest usa bagging, que é a abreviação de bootstrap aggregating, para aumentar seu poder preditivo: ao setar 100 árvores, cada uma é treinada sobre 1 amostra bootstrap, é podada rasa, e é tirada uma média das previsões das árvores pra regressão, e votação pra classif. Ver bootstrap multivariado, onde linhas (contendo vários valores de features) são amostradas como unidades.\n",
        "- Faz amostragem com repetição. Não misturar com \"reamostragem\", onde em permutação combina amostras, e pode ser feita sem reposição (detalhes mais adinate).\n",
        "\n",
        "Útil para:\n",
        "- Intervalos de Confiança:\n",
        " - Serve para entender o potencial erro de uma estimativa de amostra, e avaliar se uma amostra maior é necessária.\n",
        " - Ex: temos 95% de confiança de que a verdadeira média da população está entre [47.2 e 50.6].\n",
        " - Estes 95% são o nível de confiança. Quanto maior o nível, maior o intervalo.\n",
        " - O intervalo nesse exemplo, abrange os 95% pontos centrais da distribuição da média.\n",
        "- Testes de Hipóteses:\n",
        " - Ex: testar se com um nível de confiança de 95% (por ex), \"A média da população é diferente de 50\". Detalhado mais abaixo.\n",
        "\n"
      ],
      "metadata": {
        "id": "wAJs5GdIRJDP"
      }
    },
    {
      "cell_type": "code",
      "source": [
        "#implementar o bootstrap em Python para estimar a média e o intervalo de confiança de uma amostra, e também realizar um teste de hipótese:\n",
        "\n",
        "np.random.seed(42)\n",
        "data = np.random.normal(loc=50, scale=10, size=100)\n",
        "# Quanto mais interações, mais precisa será a estimativa do erro-padrão, ou do intervalo de confiança.\n",
        "\n",
        "print(f'Gerada uma amostra aleatória (seed fixo) de 100 dados normalmente distribuídos, com média 50 e desvio padrão 10')\n",
        "print(f'Exemplo de alguns dos 100 pontos gerados: {data[:5]}')"
      ],
      "metadata": {
        "colab": {
          "base_uri": "https://localhost:8080/"
        },
        "id": "OFgIpApYTH0V",
        "outputId": "d11121b4-cd99-4c61-c068-dcc17bb595aa"
      },
      "execution_count": 58,
      "outputs": [
        {
          "output_type": "stream",
          "name": "stdout",
          "text": [
            "Gerada uma amostra aleatória (seed fixo) de 100 dados normalmente distribuídos, com média 50 e desvio padrão 10\n",
            "Exemplo de alguns dos 100 pontos gerados: [54.96714153 48.61735699 56.47688538 65.23029856 47.65846625]\n"
          ]
        }
      ]
    },
    {
      "cell_type": "code",
      "source": [
        "# Função para realizar o bootstrap: gera várias amostras (num_samples) com reposição e calcula a média de cada amostra.\n",
        "def bootstrap(data, num_samples=100):\n",
        "    n = len(data)\n",
        "    samples = np.random.choice(data, (num_samples, n), replace=True)\n",
        "    means = np.mean(samples, axis=1)\n",
        "    return means\n",
        "\n",
        "# Realizando o bootstrap\n",
        "bootstrap_means = bootstrap(data)\n",
        "print(f'A partir do conjunto original de 100 pontos, foram geradas {len(bootstrap_means)} amostras bootstrap, cada uma selecionando 100 pontos aleatoriamente (podendo ser repetidos) com reposição. \\nFoi calculada então a média de cada grupo de 100 pontos. Exemplos: {bootstrap_means[:5]}')"
      ],
      "metadata": {
        "colab": {
          "base_uri": "https://localhost:8080/"
        },
        "id": "SoeG7r1cUC98",
        "outputId": "84ad051b-f174-44b2-a3dd-cdc2e90d6d8e"
      },
      "execution_count": 59,
      "outputs": [
        {
          "output_type": "stream",
          "name": "stdout",
          "text": [
            "A partir do conjunto original de 100 pontos, foram geradas 100 amostras bootstrap, cada uma selecionando 100 pontos aleatoriamente (podendo ser repetidos) com reposição. \n",
            "Foi calculada então a média de cada grupo de 100 pontos. Exemplos: [48.88660717 48.72053516 48.42534363 48.79683588 47.69467533]\n"
          ]
        }
      ]
    },
    {
      "cell_type": "markdown",
      "source": [
        "##### Intervalo de confiança"
      ],
      "metadata": {
        "id": "2D-5J00tiLsn"
      }
    },
    {
      "cell_type": "code",
      "source": [
        "# Calculando o intervalo de confiança\n",
        "conf_interval = np.percentile(bootstrap_means, [2.5, 97.5]) #Esses valores representam os percentis que definem o intervalo de confiança de 95%.\n",
        "# Arredondando o intervalo de confiança para 2 casas decimais\n",
        "conf_interval = np.round(conf_interval, 2)\n",
        "\n",
        "# Calculando a margem de erro: é a diferença entre a média amostral e os limites do intervalo de confiança.\n",
        "margin_of_error = (conf_interval[1] - conf_interval[0]) / 2\n",
        "  #é calculada como a metade da largura do intervalo de confiança\n",
        "\n",
        "# Resultados\n",
        "print(f\"Média da amostra: {round(np.mean(data),2)} (linha em vermelho).\")\n",
        "print(f\"Margem de erro: ± {round(margin_of_error, 2)}.\")\n",
        "print(f\"Intervalo de confiança: temos 95% de confiança de que a verdadeira média da população está entre {conf_interval} (linhas em verde).\")\n",
        "print(f\"- Se repetíssemos o processo de amostragem muitas vezes, aproximadamente 95% dos intervalos calculados conterão a verdadeira média da população.\")\n",
        "\n",
        "\n",
        "# Visualizando a distribuição das médias bootstrap: Um histograma das médias bootstrap é plotado, com linhas verticais indicando a média da amostra original e os limites do intervalo de confiança.\n",
        "plt.hist(bootstrap_means, bins=30, alpha=0.7, color='blue')\n",
        "plt.axvline(np.mean(data), color='red', linestyle='dashed', linewidth=1)\n",
        "plt.axvline(conf_interval[0], color='green', linestyle='dashed', linewidth=1)\n",
        "plt.axvline(conf_interval[1], color='green', linestyle='dashed', linewidth=1)\n",
        "plt.title('Distribuição das Médias Bootstrap')\n",
        "plt.xlabel('Média')\n",
        "plt.ylabel('Frequência')\n",
        "plt.show()"
      ],
      "metadata": {
        "colab": {
          "base_uri": "https://localhost:8080/",
          "height": 546
        },
        "id": "iwRe-0IWUPLU",
        "outputId": "70ef5021-57e6-4b7e-c320-6d61df773534"
      },
      "execution_count": 61,
      "outputs": [
        {
          "output_type": "stream",
          "name": "stdout",
          "text": [
            "Média da amostra: 48.96 (linha em vermelho).\n",
            "Margem de erro: ± 1.55.\n",
            "Intervalo de confiança: temos 95% de confiança de que a verdadeira média da população está entre [47.4  50.51] (linhas em verde).\n",
            "- Se repetíssemos o processo de amostragem muitas vezes, aproximadamente 95% dos intervalos calculados conterão a verdadeira média da população.\n"
          ]
        },
        {
          "output_type": "display_data",
          "data": {
            "text/plain": [
              "<Figure size 640x480 with 1 Axes>"
            ],
            "image/png": "[encoded data removed]"
          },
          "metadata": {}
        }
      ]
    },
    {
      "cell_type": "markdown",
      "source": [
        "Isto é útil, por exemplo, para dizer que temos 95% de confiança de que a verdadeira nota NPS do grupo A está entre 60 e 62, e do grupo B de 65 a 67. Logo, afirmamos que B tem NPS maior que A, pois está fora da margem de erro."
      ],
      "metadata": {
        "id": "5tAH0cyoayrY"
      }
    },
    {
      "cell_type": "markdown",
      "source": [
        "Ao usar 10k pontos na amostra, e 10k iterações no bootstrap, reduzimos a variação do intervalo de confiança, e logo a margem de erro, obtendo uma média da amostra mais próxima da média real da população:\n",
        "- Média da amostra: 49.97 (linha em vermelho).\n",
        "- Margem de erro: ± 0.2.\n",
        "- Intervalo de confiança: temos 95% de confiança de que a verdadeira média da população está entre [49.78 50.18] (linhas em verde).\n"
      ],
      "metadata": {
        "id": "hkBE5I1Odwi0"
      }
    },
    {
      "cell_type": "markdown",
      "source": [
        "##### Teste de Hipótese"
      ],
      "metadata": {
        "id": "Q1QnhFLpjbVn"
      }
    },
    {
      "cell_type": "markdown",
      "source": [
        "- Hipótese Nula (H₀): A afirmação inicial que se presume verdadeira até que evidências contrárias sejam apresentadas. Geralmente, representa a ideia de \"nenhum efeito\" ou \"nenhuma diferença\".\n",
        " - Ex: Testar se a média de uma população é diferente de 50.\n",
        "\n",
        "- Hipótese Alternativa (H₁ ou Ha): A afirmação que será aceita se as evidências contrárias à hipótese nula forem suficientemente fortes. Representa a ideia de \"algum efeito\" ou \"alguma diferença\".\n",
        "\n",
        "No cenário abaixo:\n",
        "- H₀ (nula): A média da população é 50.\n",
        "- H₁ (alternativa): A média da população não é 50.\n",
        "- Nível de significância (α) = 0,05 (nível de confiança de 95%)\n",
        " - Um α = 0,05 significa que você está disposto a aceitar uma probabilidade de 5% de cometer um erro do tipo I: rejeitar a hipótese nula (H₀) quando ela é verdadeira."
      ],
      "metadata": {
        "id": "3J7_-YwgkPuI"
      }
    },
    {
      "cell_type": "code",
      "source": [
        "#aproveita o código já gerado acima do bootstrap:\n",
        "print(f'A partir do conjunto original de 100 pontos, foram geradas {len(bootstrap_means)} amostras bootstrap, cada uma selecionando 100 pontos aleatoriamente (podendo ser repetidos) com reposição. \\nFoi calculada então a média de cada grupo de 100 pontos. Exemplos: {bootstrap_means[:5]}')"
      ],
      "metadata": {
        "colab": {
          "base_uri": "https://localhost:8080/"
        },
        "id": "eEuO3LXSjhsV",
        "outputId": "aa4753b9-02f3-4823-e0e2-6a1b902c990c"
      },
      "execution_count": 5,
      "outputs": [
        {
          "output_type": "stream",
          "name": "stdout",
          "text": [
            "A partir do conjunto original de 100 pontos, foram geradas 1000 amostras bootstrap, cada uma selecionando 100 pontos aleatoriamente (podendo ser repetidos) com reposição. \n",
            "Foi calculada então a média de cada grupo de 100 pontos. Exemplos: [48.88660717 48.72053516 48.42534363 48.79683588 47.69467533]\n"
          ]
        }
      ]
    },
    {
      "cell_type": "code",
      "source": [
        "# Definindo a média sob a hipótese nula\n",
        "hypothesized_mean = 50  # Hipótese nula\n",
        "# Calculando a média da nova amostra\n",
        "observed_mean = np.mean(data)\n",
        "\n",
        "# Ajustando a distribuição bootstrap para simular a hipótese nula\n",
        "bootstrap_means_null = bootstrap_means - np.mean(bootstrap_means) + hypothesized_mean\n",
        "# Calculando o valor-p corretamente: Vamos calcular a proporção de amostras bootstrap sob a hipótese nula cuja média é mais extrema do que a média observada\n",
        "p_value = np.mean(bootstrap_means_null >= observed_mean)\n",
        "\n",
        "\n",
        "# Resultados\n",
        "print(f\"Média da amostra: {observed_mean}\")\n",
        "print(f\"Valor-p: {p_value}\")\n",
        "\n",
        "# Interpretação do valor-p\n",
        "alpha = 0.05\n",
        "if p_value < alpha:\n",
        "    print(\"Rejeitamos a hipótese nula: a média da população é significativamente diferente de 50.\")\n",
        "else:\n",
        "    print(\"Não rejeitamos a hipótese nula: não há evidências suficientes para afirmar que a média da população é diferente de 50.\")"
      ],
      "metadata": {
        "colab": {
          "base_uri": "https://localhost:8080/"
        },
        "id": "UY-EviEqjuQG",
        "outputId": "c37fdb99-93f6-41b1-b603-b2c7ff0d5986"
      },
      "execution_count": 6,
      "outputs": [
        {
          "output_type": "stream",
          "name": "stdout",
          "text": [
            "Média da amostra: 48.96153482605907\n",
            "Valor-p: 0.877\n",
            "Não rejeitamos a hipótese nula: não há evidências suficientes para afirmar que a média da população é diferente de 50.\n"
          ]
        }
      ]
    },
    {
      "cell_type": "markdown",
      "source": [
        "Alterando agora a média dos 100 dados gerados 53, mantendo o std 100:"
      ],
      "metadata": {
        "id": "R-zpHO7DlkSA"
      }
    },
    {
      "cell_type": "code",
      "source": [
        "np.random.seed(42)\n",
        "new_data = np.random.normal(loc=53, scale=10, size=100)  # Média elevada para forçar a rejeição da H0\n",
        "print(f'Gerada uma amostra aleatória de 100 dados normalmente distribuídos, com média 53 e desvio padrão 10')\n",
        "print(f'Exemplo de alguns dos 100 pontos gerados: {new_data[:5]}')"
      ],
      "metadata": {
        "colab": {
          "base_uri": "https://localhost:8080/"
        },
        "id": "8nmsLsQZltI8",
        "outputId": "d617055f-b04d-4d40-b405-84a8758c82c4"
      },
      "execution_count": 7,
      "outputs": [
        {
          "output_type": "stream",
          "name": "stdout",
          "text": [
            "Gerada uma amostra aleatória de 100 dados normalmente distribuídos, com média 53 e desvio padrão 10\n",
            "Exemplo de alguns dos 100 pontos gerados: [57.96714153 51.61735699 59.47688538 68.23029856 50.65846625]\n"
          ]
        }
      ]
    },
    {
      "cell_type": "code",
      "source": [
        "# Realizando o bootstrap novamente, com os novos dados:\n",
        "bootstrap_means = bootstrap(new_data)\n",
        "print(f'A partir do conjunto original de 100 pontos, foram geradas {len(bootstrap_means)} amostras bootstrap, cada uma selecionando 100 pontos aleatoriamente (podendo ser repetidos) com reposição. \\nFoi calculada então a média de cada grupo de 100 pontos. Exemplos: {bootstrap_means[:5]}')"
      ],
      "metadata": {
        "colab": {
          "base_uri": "https://localhost:8080/"
        },
        "id": "bSqytLvOl5m1",
        "outputId": "e2a9f528-0daf-42bf-8376-e65ebcdda267"
      },
      "execution_count": 8,
      "outputs": [
        {
          "output_type": "stream",
          "name": "stdout",
          "text": [
            "A partir do conjunto original de 100 pontos, foram geradas 1000 amostras bootstrap, cada uma selecionando 100 pontos aleatoriamente (podendo ser repetidos) com reposição. \n",
            "Foi calculada então a média de cada grupo de 100 pontos. Exemplos: [51.88660717 51.72053516 51.42534363 51.79683588 50.69467533]\n"
          ]
        }
      ]
    },
    {
      "cell_type": "markdown",
      "source": [
        "É possível ver agora que as amostras do bootstrap geram médias um pouco mais altas que as anteriores, dado que a média agora é 53."
      ],
      "metadata": {
        "id": "ioDGqcCoj0g7"
      }
    },
    {
      "cell_type": "code",
      "source": [
        "# Definindo a média sob a hipótese nula\n",
        "hypothesized_mean = 50  # Hipótese nula\n",
        "# Calculando a média da nova amostra:\n",
        "observed_mean = np.mean(new_data)\n",
        "\n",
        "# Ajustando a distribuição bootstrap para simular a hipótese nula\n",
        "bootstrap_means_null = bootstrap_means - np.mean(bootstrap_means) + hypothesized_mean\n",
        "# Calculando o valor-p corretamente: Vamos calcular a proporção de amostras bootstrap sob a hipótese nula cuja média é mais extrema do que a média observada\n",
        "p_value = np.mean(bootstrap_means_null >= observed_mean)\n",
        "\n",
        "# Resultados\n",
        "print(f\"Média da amostra: {observed_mean}\")\n",
        "print(f\"Valor-p: {p_value}\")\n",
        "\n",
        "# Interpretação do valor-p\n",
        "alpha = 0.05\n",
        "if p_value < alpha:\n",
        "    print(\"Rejeitamos a hipótese nula: a média da população é significativamente diferente de 50.\")\n",
        "else:\n",
        "    print(\"Não rejeitamos a hipótese nula: não há evidências suficientes para afirmar que a média da população é diferente de 50.\")"
      ],
      "metadata": {
        "colab": {
          "base_uri": "https://localhost:8080/"
        },
        "id": "qxIB_2HHmU9P",
        "outputId": "dfc6ef8f-53cc-424d-ef09-12e542f9447a"
      },
      "execution_count": 9,
      "outputs": [
        {
          "output_type": "stream",
          "name": "stdout",
          "text": [
            "Média da amostra: 51.96153482605907\n",
            "Valor-p: 0.012\n",
            "Rejeitamos a hipótese nula: a média da população é significativamente diferente de 50.\n"
          ]
        }
      ]
    },
    {
      "cell_type": "markdown",
      "source": [
        "Agora, é possível afirmar nível de confiança de 95% que: a média da população é significativamente diferente de 50.\n",
        "\n",
        "Poderia também utilizar o teste t, ao invés do bootstrap aqui, mas ele tem a normalidade como premissa, o que dificulta."
      ],
      "metadata": {
        "id": "VulLwHubgtap"
      }
    },
    {
      "cell_type": "markdown",
      "source": [
        "### Distribuições"
      ],
      "metadata": {
        "id": "bhD3UOyfs5fJ"
      }
    },
    {
      "cell_type": "markdown",
      "source": [
        "Regressão à média:\n",
        "- Observações extremas tendem a ser seguidas pelas mais centrais."
      ],
      "metadata": {
        "id": "49KQh90Ps26f"
      }
    },
    {
      "cell_type": "markdown",
      "source": [
        "#### Normal"
      ],
      "metadata": {
        "id": "eo6T3X9ktBkP"
      }
    },
    {
      "cell_type": "markdown",
      "source": [],
      "metadata": {
        "id": "VVtDTqlutFH5"
      }
    },
    {
      "cell_type": "code",
      "source": [],
      "metadata": {
        "id": "c2vNXARtUy4w"
      },
      "execution_count": 9,
      "outputs": []
    },
    {
      "cell_type": "markdown",
      "source": [
        "#### Cauda Longa"
      ],
      "metadata": {
        "id": "9tHZ8G2ztLtC"
      }
    },
    {
      "cell_type": "markdown",
      "source": [],
      "metadata": {
        "id": "5n4DJ4GttLnY"
      }
    },
    {
      "cell_type": "markdown",
      "source": [
        "#### t de Student"
      ],
      "metadata": {
        "id": "-I7lM-LztPo7"
      }
    },
    {
      "cell_type": "markdown",
      "source": [],
      "metadata": {
        "id": "qGi1jlyRtPbf"
      }
    },
    {
      "cell_type": "markdown",
      "source": [
        "#### Binomial"
      ],
      "metadata": {
        "id": "matRMvkXtTdR"
      }
    },
    {
      "cell_type": "code",
      "source": [],
      "metadata": {
        "id": "dlKPLK5XtW3F"
      },
      "execution_count": null,
      "outputs": []
    },
    {
      "cell_type": "markdown",
      "source": [
        "#### Poisson"
      ],
      "metadata": {
        "id": "Xbv8lfm-tXkI"
      }
    },
    {
      "cell_type": "markdown",
      "source": [],
      "metadata": {
        "id": "N5MhsmtntXfI"
      }
    },
    {
      "cell_type": "markdown",
      "source": [
        "#### Exponencial"
      ],
      "metadata": {
        "id": "Nm4Ax7e9tc8g"
      }
    },
    {
      "cell_type": "markdown",
      "source": [],
      "metadata": {
        "id": "fq5-TGBrth1X"
      }
    },
    {
      "cell_type": "markdown",
      "source": [
        "#### Weibull"
      ],
      "metadata": {
        "id": "C9zGq2JbthmY"
      }
    },
    {
      "cell_type": "markdown",
      "source": [],
      "metadata": {
        "id": "1r8vpRgMthTM"
      }
    }
  ],
  "metadata": {
    "colab": {
      "toc_visible": true,
      "provenance": [],
      "authorship_tag": "ABX9TyMQwC4uFXl1hShah5XEQ55S",
      "include_colab_link": true
    },
    "kernelspec": {
      "display_name": "Python 3",
      "name": "python3"
    },
    "language_info": {
      "name": "python"
    }
  },
  "nbformat": 4,
  "nbformat_minor": 0
}